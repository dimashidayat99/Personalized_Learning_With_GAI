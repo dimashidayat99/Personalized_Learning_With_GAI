{
  "cells": [
    {
      "cell_type": "markdown",
      "metadata": {
        "id": "NQNgxj3qqkuW"
      },
      "source": [
        "# Main Data Preprocessing"
      ]
    },
    {
      "cell_type": "code",
      "execution_count": null,
      "metadata": {
        "colab": {
          "base_uri": "https://localhost:8080/"
        },
        "id": "zlsz-YFID2nd",
        "outputId": "5522fa88-a392-4fca-83d4-9f94aa0730da"
      },
      "outputs": [
        {
          "name": "stdout",
          "output_type": "stream",
          "text": [
            "Drive already mounted at /content/drive; to attempt to forcibly remount, call drive.mount(\"/content/drive\", force_remount=True).\n"
          ]
        }
      ],
      "source": [
        "from google.colab import drive\n",
        "drive.mount('/content/drive')"
      ]
    },
    {
      "cell_type": "code",
      "execution_count": null,
      "metadata": {
        "id": "7Y1YPwP8Yvw4"
      },
      "outputs": [],
      "source": [
        "from google.colab import auth\n",
        "auth.authenticate_user()"
      ]
    },
    {
      "cell_type": "code",
      "execution_count": null,
      "metadata": {
        "id": "FuM_2M7QTEp6"
      },
      "outputs": [],
      "source": [
        "import pandas as pd\n",
        "import numpy as np\n",
        "from statistics import mean\n",
        "import math\n",
        "from sklearn.preprocessing import OneHotEncoder\n",
        "from sklearn.model_selection import train_test_split\n",
        "import pickle"
      ]
    },
    {
      "cell_type": "code",
      "execution_count": null,
      "metadata": {
        "id": "Lnm_Nd4SUryz"
      },
      "outputs": [],
      "source": [
        "user_data = pd.read_json('/content/drive/MyDrive/MOOCCube/entities/user.json', lines=True)"
      ]
    },
    {
      "cell_type": "code",
      "execution_count": null,
      "metadata": {
        "colab": {
          "base_uri": "https://localhost:8080/"
        },
        "id": "0nO43xfmnbSl",
        "outputId": "0481574f-832d-474f-bd9c-bc1fa97ec67e"
      },
      "outputs": [
        {
          "data": {
            "text/plain": [
              "(199199, 4)"
            ]
          },
          "execution_count": 5,
          "metadata": {},
          "output_type": "execute_result"
        }
      ],
      "source": [
        "user_data.shape"
      ]
    },
    {
      "cell_type": "code",
      "execution_count": null,
      "metadata": {
        "colab": {
          "base_uri": "https://localhost:8080/"
        },
        "id": "Otuz2eQ8hqGC",
        "outputId": "d8e2c322-523d-46bf-ec40-4dcecea4e487"
      },
      "outputs": [
        {
          "name": "stdout",
          "output_type": "stream",
          "text": [
            "<class 'pandas.core.frame.DataFrame'>\n",
            "RangeIndex: 199199 entries, 0 to 199198\n",
            "Data columns (total 4 columns):\n",
            " #   Column        Non-Null Count   Dtype \n",
            "---  ------        --------------   ----- \n",
            " 0   id            199199 non-null  object\n",
            " 1   name          199199 non-null  object\n",
            " 2   course_order  199199 non-null  object\n",
            " 3   enroll_time   199199 non-null  object\n",
            "dtypes: object(4)\n",
            "memory usage: 6.1+ MB\n"
          ]
        }
      ],
      "source": [
        "user_data.info()"
      ]
    },
    {
      "cell_type": "code",
      "execution_count": null,
      "metadata": {
        "colab": {
          "base_uri": "https://localhost:8080/"
        },
        "id": "Aq5F62l99fE8",
        "outputId": "bf9233cc-8fed-423e-f77a-6426ccb9090c"
      },
      "outputs": [
        {
          "data": {
            "text/plain": [
              "id              0\n",
              "name            0\n",
              "course_order    0\n",
              "enroll_time     0\n",
              "dtype: int64"
            ]
          },
          "execution_count": 7,
          "metadata": {},
          "output_type": "execute_result"
        }
      ],
      "source": [
        "user_data.isnull().sum()"
      ]
    },
    {
      "cell_type": "code",
      "execution_count": null,
      "metadata": {
        "colab": {
          "base_uri": "https://localhost:8080/"
        },
        "id": "jtpqhT4t9jcK",
        "outputId": "a9e20e68-b051-4870-c170-fc06644e8bc6"
      },
      "outputs": [
        {
          "data": {
            "text/plain": [
              "False"
            ]
          },
          "execution_count": 8,
          "metadata": {},
          "output_type": "execute_result"
        }
      ],
      "source": [
        "user_data.isnull().sum().any()"
      ]
    },
    {
      "cell_type": "code",
      "execution_count": null,
      "metadata": {
        "colab": {
          "base_uri": "https://localhost:8080/"
        },
        "id": "MlgjB8pUjClr",
        "outputId": "5bd97bd5-1507-4e8f-f66b-b8509e97f05d"
      },
      "outputs": [
        {
          "data": {
            "text/plain": [
              "id              0\n",
              "name            0\n",
              "course_order    0\n",
              "enroll_time     0\n",
              "dtype: int64"
            ]
          },
          "execution_count": 9,
          "metadata": {},
          "output_type": "execute_result"
        }
      ],
      "source": [
        "user_data.isnull().sum()"
      ]
    },
    {
      "cell_type": "code",
      "execution_count": null,
      "metadata": {
        "colab": {
          "base_uri": "https://localhost:8080/"
        },
        "id": "Ec0tLheIjClt",
        "outputId": "b7e7f3e2-8df8-4cd0-f47b-e98e454f77d4"
      },
      "outputs": [
        {
          "data": {
            "text/plain": [
              "False"
            ]
          },
          "execution_count": 10,
          "metadata": {},
          "output_type": "execute_result"
        }
      ],
      "source": [
        "user_data.isnull().sum().any()"
      ]
    },
    {
      "cell_type": "code",
      "execution_count": null,
      "metadata": {
        "id": "lyAn17ck8SM9"
      },
      "outputs": [],
      "source": [
        "num_course = []\n",
        "\n",
        "for i in range(len(user_data)):\n",
        "  num_course.append(len(user_data['course_order'][i]))\n",
        "\n",
        "user_data['number_of_course'] = num_course"
      ]
    },
    {
      "cell_type": "code",
      "execution_count": null,
      "metadata": {
        "id": "tWa2QlQaj5cl"
      },
      "outputs": [],
      "source": [
        "user_data_range = user_data[(user_data[\"number_of_course\"] >= 5) & (user_data[\"number_of_course\"] <= 10) ]"
      ]
    },
    {
      "cell_type": "code",
      "execution_count": null,
      "metadata": {
        "id": "z_cwlNzAfLzq"
      },
      "outputs": [],
      "source": [
        "user_data_sample = user_data_range.sample(frac=0.3, random_state = 41)"
      ]
    },
    {
      "cell_type": "code",
      "execution_count": null,
      "metadata": {
        "id": "NsuCtvIZR9kO"
      },
      "outputs": [],
      "source": [
        "course_order_list = user_data_sample[\"course_order\"].tolist()"
      ]
    },
    {
      "cell_type": "code",
      "execution_count": null,
      "metadata": {
        "id": "sfUNgXAaimyA"
      },
      "outputs": [],
      "source": [
        "zero_pad_course_order = []\n",
        "\n",
        "for i in course_order_list:\n",
        "  zero_pad_course_order.append([0]*(10-len(i))+i)"
      ]
    },
    {
      "cell_type": "code",
      "execution_count": null,
      "metadata": {
        "id": "GS3--s-njzZV"
      },
      "outputs": [],
      "source": [
        "list_check = []\n",
        "for i in zero_pad_course_order:\n",
        "  list_check.append(len(i))"
      ]
    },
    {
      "cell_type": "code",
      "execution_count": null,
      "metadata": {
        "id": "qsd97Sp9a9PF"
      },
      "outputs": [],
      "source": [
        "course_all_data = pd.read_json('/content/drive/MyDrive/MOOCCube/entities/course.json', lines=True)"
      ]
    },
    {
      "cell_type": "code",
      "execution_count": null,
      "metadata": {
        "id": "uhJn2Ip-a-Aj"
      },
      "outputs": [],
      "source": [
        "all_course = [i for i in course_all_data['id']]"
      ]
    },
    {
      "cell_type": "code",
      "execution_count": null,
      "metadata": {
        "id": "fza_6eZ4SENG"
      },
      "outputs": [],
      "source": [
        "course_sample = [j for sub in course_order_list for j in sub]"
      ]
    },
    {
      "cell_type": "code",
      "execution_count": null,
      "metadata": {
        "id": "LNlAWi8MUR5j"
      },
      "outputs": [],
      "source": [
        "course_sample = np.unique(course_sample)"
      ]
    },
    {
      "cell_type": "code",
      "execution_count": null,
      "metadata": {
        "id": "Dd0mgY8PlD78"
      },
      "outputs": [],
      "source": [
        "teacher_course_relation = pd.read_csv('/content/drive/MyDrive/MOOCCube/relations/teacher-course.json', sep='\\t', header=None)"
      ]
    },
    {
      "cell_type": "code",
      "execution_count": null,
      "metadata": {
        "colab": {
          "base_uri": "https://localhost:8080/"
        },
        "id": "VHp4i90b3fIR",
        "outputId": "8af2b22a-4ec8-485e-87c2-1243194132ee"
      },
      "outputs": [
        {
          "name": "stderr",
          "output_type": "stream",
          "text": [
            "<ipython-input-22-44f424829db4>:1: FutureWarning: DataFrame.set_axis 'inplace' keyword is deprecated and will be removed in a future version. Use `obj = obj.set_axis(..., copy=False)` instead\n",
            "  teacher_course_relation.set_axis(['teacher', 'course'], axis='columns', inplace=True)\n"
          ]
        }
      ],
      "source": [
        "teacher_course_relation.set_axis(['teacher', 'course'], axis='columns', inplace=True)"
      ]
    },
    {
      "cell_type": "code",
      "execution_count": null,
      "metadata": {
        "id": "FyiAtpIA8wpF"
      },
      "outputs": [],
      "source": [
        "teacher_course_relation = teacher_course_relation.iloc[:,[1, 0]]"
      ]
    },
    {
      "cell_type": "code",
      "execution_count": null,
      "metadata": {
        "id": "1dVtP66--QtU"
      },
      "outputs": [],
      "source": [
        "teacher_course_relation = teacher_course_relation[teacher_course_relation['course'].isin(course_sample)]"
      ]
    },
    {
      "cell_type": "code",
      "execution_count": null,
      "metadata": {
        "id": "F-ySqysy-ehJ"
      },
      "outputs": [],
      "source": [
        "school_course_relation = pd.read_csv('/content/drive/MyDrive/MOOCCube/relations/school-course.json', sep='\\t', header=None)"
      ]
    },
    {
      "cell_type": "code",
      "execution_count": null,
      "metadata": {
        "colab": {
          "base_uri": "https://localhost:8080/"
        },
        "id": "wJ70pl8G_k6h",
        "outputId": "fb07b9f9-6cdc-4c9e-ed40-c9d256f1db73"
      },
      "outputs": [
        {
          "name": "stderr",
          "output_type": "stream",
          "text": [
            "<ipython-input-26-ce3aad33b220>:1: FutureWarning: DataFrame.set_axis 'inplace' keyword is deprecated and will be removed in a future version. Use `obj = obj.set_axis(..., copy=False)` instead\n",
            "  school_course_relation.set_axis(['school', 'course'], axis='columns', inplace=True)\n"
          ]
        }
      ],
      "source": [
        "school_course_relation.set_axis(['school', 'course'], axis='columns', inplace=True)"
      ]
    },
    {
      "cell_type": "code",
      "execution_count": null,
      "metadata": {
        "id": "6b_aP0ds_k6h"
      },
      "outputs": [],
      "source": [
        "school_course_relation = school_course_relation.iloc[:,[1, 0]]"
      ]
    },
    {
      "cell_type": "code",
      "execution_count": null,
      "metadata": {
        "id": "mpGUYt9bFe_i"
      },
      "outputs": [],
      "source": [
        "school_course_relation = school_course_relation[school_course_relation['course'].isin(course_sample)]"
      ]
    },
    {
      "cell_type": "code",
      "execution_count": null,
      "metadata": {
        "id": "OP9uh4K0Flp1"
      },
      "outputs": [],
      "source": [
        "course_concept_relation = pd.read_csv('/content/drive/MyDrive/MOOCCube/relations/course-concept.json', sep='\\t', header=None)"
      ]
    },
    {
      "cell_type": "code",
      "execution_count": null,
      "metadata": {
        "colab": {
          "base_uri": "https://localhost:8080/"
        },
        "id": "5BLmlPkPO_S4",
        "outputId": "28244fcd-126e-488e-f14e-51a9e80c6747"
      },
      "outputs": [
        {
          "name": "stderr",
          "output_type": "stream",
          "text": [
            "<ipython-input-30-54caa48fa8c9>:1: FutureWarning: DataFrame.set_axis 'inplace' keyword is deprecated and will be removed in a future version. Use `obj = obj.set_axis(..., copy=False)` instead\n",
            "  course_concept_relation.set_axis(['course', 'concept'], axis='columns', inplace=True)\n"
          ]
        }
      ],
      "source": [
        "course_concept_relation.set_axis(['course', 'concept'], axis='columns', inplace=True)"
      ]
    },
    {
      "cell_type": "code",
      "execution_count": null,
      "metadata": {
        "id": "pnefFnq0OxXq"
      },
      "outputs": [],
      "source": [
        "course_concept_relation = course_concept_relation[course_concept_relation['course'].isin(course_sample)]"
      ]
    },
    {
      "cell_type": "code",
      "execution_count": null,
      "metadata": {
        "id": "OTw2cI7iR3s2"
      },
      "outputs": [],
      "source": [
        "concept_prerequisite_relation = pd.read_csv('/content/drive/MyDrive/MOOCCube/relations/prerequisite-dependency.json', sep='\\t', header=None)"
      ]
    },
    {
      "cell_type": "code",
      "execution_count": null,
      "metadata": {
        "colab": {
          "base_uri": "https://localhost:8080/"
        },
        "id": "PO4Dp5ZaR3s4",
        "outputId": "3efe9aff-46a0-446d-8f40-e18586e96159"
      },
      "outputs": [
        {
          "name": "stderr",
          "output_type": "stream",
          "text": [
            "<ipython-input-33-a58fdf4953a5>:1: FutureWarning: DataFrame.set_axis 'inplace' keyword is deprecated and will be removed in a future version. Use `obj = obj.set_axis(..., copy=False)` instead\n",
            "  concept_prerequisite_relation.set_axis(['prerequisite concept', 'concept'], axis='columns', inplace=True)\n"
          ]
        }
      ],
      "source": [
        "concept_prerequisite_relation.set_axis(['prerequisite concept', 'concept'], axis='columns', inplace=True)"
      ]
    },
    {
      "cell_type": "code",
      "execution_count": null,
      "metadata": {
        "id": "gjBPProtR3s5"
      },
      "outputs": [],
      "source": [
        "concept_prerequisite_relation = concept_prerequisite_relation[concept_prerequisite_relation['concept'].isin(course_concept_relation['concept'])]"
      ]
    },
    {
      "cell_type": "code",
      "execution_count": null,
      "metadata": {
        "id": "PI0kcYfNM6KR"
      },
      "outputs": [],
      "source": [
        "concept = []\n",
        "\n",
        "for i in concept_prerequisite_relation['concept']:\n",
        "  concept.append(i)\n",
        "\n",
        "for i in concept_prerequisite_relation['prerequisite concept']:\n",
        "  concept.append(i)"
      ]
    },
    {
      "cell_type": "code",
      "execution_count": null,
      "metadata": {
        "id": "oLFicLuvNlNh"
      },
      "outputs": [],
      "source": [
        "concept = np.unique(concept)"
      ]
    },
    {
      "cell_type": "code",
      "execution_count": null,
      "metadata": {
        "id": "aTZd7QrJDIaY"
      },
      "outputs": [],
      "source": [
        "course_concept_relation_concept_filter = course_concept_relation[course_concept_relation['concept'].isin(concept)]"
      ]
    },
    {
      "cell_type": "code",
      "execution_count": null,
      "metadata": {
        "id": "BnM6LtbaIG7X"
      },
      "outputs": [],
      "source": [
        "course_with_prerequisite_concept = pd.merge(course_concept_relation_concept_filter, concept_prerequisite_relation,  how = \"left\", on = 'concept')"
      ]
    },
    {
      "cell_type": "code",
      "execution_count": null,
      "metadata": {
        "id": "M5ShXp-Ptqsx"
      },
      "outputs": [],
      "source": [
        "course_with_prerequisite_concept.fillna(\"0\", inplace=True)"
      ]
    },
    {
      "cell_type": "code",
      "execution_count": null,
      "metadata": {
        "id": "lEfhbTp9ohWP"
      },
      "outputs": [],
      "source": [
        "course_prerequisite = np.unique(course_with_prerequisite_concept['course'])"
      ]
    },
    {
      "cell_type": "code",
      "execution_count": null,
      "metadata": {
        "id": "9d8G1VNYskml"
      },
      "outputs": [],
      "source": [
        "course_with_prerequisite_concept.fillna(0, inplace=True)"
      ]
    },
    {
      "cell_type": "code",
      "execution_count": null,
      "metadata": {
        "id": "XpEAxujDgGXS"
      },
      "outputs": [],
      "source": [
        "course_columns = ['course_1', 'course_2', 'course_3', 'course_4', 'course_5', 'course_6', 'course_7', 'course_8', 'course_9', 'course_10']"
      ]
    },
    {
      "cell_type": "code",
      "execution_count": null,
      "metadata": {
        "id": "jH_U6Dyzuf-X"
      },
      "outputs": [],
      "source": [
        "data_course = pd.DataFrame(zero_pad_course_order, columns = course_columns, dtype = str)"
      ]
    },
    {
      "cell_type": "code",
      "execution_count": null,
      "metadata": {
        "id": "TjHNci-rkKgV"
      },
      "outputs": [],
      "source": [
        "data_school = data_course.copy()"
      ]
    },
    {
      "cell_type": "code",
      "execution_count": null,
      "metadata": {
        "id": "ewtbhN6Po_qn"
      },
      "outputs": [],
      "source": [
        "dict_lookup_course_school = dict(zip(school_course_relation['course'], school_course_relation['school']))"
      ]
    },
    {
      "cell_type": "code",
      "execution_count": null,
      "metadata": {
        "id": "LLq-f4ipiO4L"
      },
      "outputs": [],
      "source": [
        "dict_lookup_course_school['0'] = '0'"
      ]
    },
    {
      "cell_type": "code",
      "execution_count": null,
      "metadata": {
        "id": "O75F5AadjFR6"
      },
      "outputs": [],
      "source": [
        "dict_lookup_course_school['C_course-v1:TsinghuaX+AP000003X+2019_T1'] = 'S_TsinghuaX'"
      ]
    },
    {
      "cell_type": "code",
      "execution_count": null,
      "metadata": {
        "id": "-sDCHmSafhoG"
      },
      "outputs": [],
      "source": [
        "for i in course_columns:\n",
        "  data_school[i] = [dict_lookup_course_school[item] for item in data_school[i]]"
      ]
    },
    {
      "cell_type": "code",
      "execution_count": null,
      "metadata": {
        "id": "nysJy7rCk6qU"
      },
      "outputs": [],
      "source": [
        "school_columns = ['school_1', 'school_2', 'school_3', 'school_4', 'school_5', 'school_6', 'school_7', 'school_8', 'school_9', 'school_10']"
      ]
    },
    {
      "cell_type": "code",
      "execution_count": null,
      "metadata": {
        "id": "bC1depackyQx"
      },
      "outputs": [],
      "source": [
        "data_school.columns = school_columns"
      ]
    },
    {
      "cell_type": "code",
      "execution_count": null,
      "metadata": {
        "id": "dlK2_IpikefS"
      },
      "outputs": [],
      "source": [
        "dict_lookup_course_teacher = dict(zip(teacher_course_relation['course'], teacher_course_relation['teacher']))"
      ]
    },
    {
      "cell_type": "code",
      "execution_count": null,
      "metadata": {
        "id": "b9KWVtsWkefR"
      },
      "outputs": [],
      "source": [
        "data_teacher = data_course.copy()"
      ]
    },
    {
      "cell_type": "code",
      "execution_count": null,
      "metadata": {
        "id": "a97GDWt_kefT"
      },
      "outputs": [],
      "source": [
        "dict_lookup_course_teacher['0'] = '0'"
      ]
    },
    {
      "cell_type": "code",
      "execution_count": null,
      "metadata": {
        "id": "NqkZ_UackefU"
      },
      "outputs": [],
      "source": [
        "dict_lookup_course_teacher['C_course-v1:Tsinghua+Thesis2017X+2017_T1'] = 'T_研究生院'\n",
        "dict_lookup_course_teacher['C_course-v1:TsinghuaX+AP000003X+2019_T1'] = 'T_李强'\n",
        "dict_lookup_course_teacher['C_course-v1:Tsinghua+20150001+sp'] = 'T_程新兵'\n",
        "dict_lookup_course_teacher['C_course-v1:Tsinghua+20181011X+2018_T2'] = 'T_谢德军'\n",
        "dict_lookup_course_teacher['C_course-v1:SYJU+030020406+2019_T1'] = 'T_姜桂荣'\n",
        "dict_lookup_course_teacher['C_course-v1:TsinghuaX+70167012X+sp'] = 'T_朱颖心'\n",
        "dict_lookup_course_teacher['C_course-v1:WellesleyX+HIST229x+sp'] = 'T_Adam Van Arsdale'\n",
        "dict_lookup_course_teacher['C_course-v1:JSUX+2017011101X+sp'] = 'T_李芳宇'\n",
        "dict_lookup_course_teacher['C_course-v1:HBNU+2019051509X+2019_T1'] = 'T_于丹'"
      ]
    },
    {
      "cell_type": "code",
      "execution_count": null,
      "metadata": {
        "id": "G2q6hEw_kefU"
      },
      "outputs": [],
      "source": [
        "for i in course_columns:\n",
        "  data_teacher[i] = [dict_lookup_course_teacher[item] for item in data_teacher[i]]"
      ]
    },
    {
      "cell_type": "code",
      "execution_count": null,
      "metadata": {
        "id": "UVCtWdFKlKLf"
      },
      "outputs": [],
      "source": [
        "teacher_columns = ['teacher_1', 'teacher_2', 'teacher_3', 'teacher_4', 'teacher_5', 'teacher_6', 'teacher_7', 'teacher_8', 'teacher_9', 'teacher_10']"
      ]
    },
    {
      "cell_type": "code",
      "execution_count": null,
      "metadata": {
        "id": "ul6sVBCUlo1L"
      },
      "outputs": [],
      "source": [
        "data_teacher.columns = teacher_columns"
      ]
    },
    {
      "cell_type": "code",
      "execution_count": null,
      "metadata": {
        "id": "ibhcWnwF8V6c"
      },
      "outputs": [],
      "source": [
        "course_name = [i for i in np.unique(course_sample)]\n",
        "course_number = [i for i in range(1, len(np.unique((course_sample)))+1)]\n",
        "course_encode = {course_name[i]: course_number[i] for i in range(len(course_name))}\n",
        "\n",
        "course_encode[\"0\"] = 0"
      ]
    },
    {
      "cell_type": "code",
      "execution_count": null,
      "metadata": {
        "id": "U5LSzkPD66Yr"
      },
      "outputs": [],
      "source": [
        "school_name = [i for i in np.unique(list(school_course_relation['school']))]\n",
        "school_number = [i for i in range(1, len(np.unique(list(school_course_relation['school'])))+1)]\n",
        "school_encode = {school_name[i]: school_number[i] for i in range(len(school_name))}\n",
        "\n",
        "school_encode[\"0\"] = 0"
      ]
    },
    {
      "cell_type": "code",
      "execution_count": null,
      "metadata": {
        "id": "uwv1um3R8TOz"
      },
      "outputs": [],
      "source": [
        "teacher_unique = np.unique(list(dict_lookup_course_teacher.values()))\n",
        "teacher_name = [i for i in teacher_unique if i != \"0\"]\n",
        "teacher_number = [i for i in range(1, len(teacher_name)+1)]\n",
        "teacher_encode = {teacher_name[i]: teacher_number[i] for i in range(len(teacher_name))}\n",
        "\n",
        "teacher_encode[\"0\"] = 0"
      ]
    },
    {
      "cell_type": "code",
      "execution_count": null,
      "metadata": {
        "id": "IdeOatvX9OY9"
      },
      "outputs": [],
      "source": [
        "def encode_decode_data(data_name, column_name, dict_name):\n",
        "  for i in column_name:\n",
        "      data_name[i] = [dict_name[item] for item in data_name[i]]\n",
        "\n",
        "  return data_name"
      ]
    },
    {
      "cell_type": "code",
      "execution_count": null,
      "metadata": {
        "id": "YVbt2kUqpWf0"
      },
      "outputs": [],
      "source": [
        "data_course = encode_decode_data(data_course, course_columns, course_encode)\n",
        "data_teacher = encode_decode_data(data_teacher, teacher_columns, teacher_encode)\n",
        "data_school = encode_decode_data(data_school, school_columns, school_encode)"
      ]
    },
    {
      "cell_type": "code",
      "execution_count": null,
      "metadata": {
        "id": "XHQwu0djoNaj"
      },
      "outputs": [],
      "source": [
        "course_decode = {y: x for x, y in course_encode.items()}\n",
        "teacher_decode = {y: x for x, y in teacher_encode.items()}\n",
        "school_decode = {y: x for x, y in school_encode.items()}"
      ]
    },
    {
      "cell_type": "code",
      "execution_count": null,
      "metadata": {
        "id": "mQnnkjh4CjD7"
      },
      "outputs": [],
      "source": [
        "data_prerequisite_concept_relation.insert(loc = 0,column = 'concept_0&1',value = 0)"
      ]
    },
    {
      "cell_type": "markdown",
      "metadata": {
        "id": "y43Vf20-ouL9"
      },
      "source": [
        "# Evaluation Function Determination"
      ]
    },
    {
      "cell_type": "code",
      "execution_count": null,
      "metadata": {
        "id": "LGkO3ISiSxA7"
      },
      "outputs": [],
      "source": [
        "import math\n",
        "from statistics import mean\n",
        "\n",
        "def apk_act(actual, predicted, k=5):\n",
        "\n",
        "    score = 0.0\n",
        "    num_hits = 0.0\n",
        "\n",
        "    for i,p in enumerate(predicted):\n",
        "\n",
        "        if p == actual:\n",
        "            num_hits += 1.0\n",
        "            score += num_hits / (i+1.0)\n",
        "\n",
        "    return score/k"
      ]
    },
    {
      "cell_type": "code",
      "execution_count": null,
      "metadata": {
        "id": "1zjE_Fb6SxBD"
      },
      "outputs": [],
      "source": [
        "def hr_act(actual, predicted, k=5):\n",
        "\n",
        "    num_hits = 0.0\n",
        "\n",
        "    for i,p in enumerate(predicted):\n",
        "\n",
        "        if p == actual:\n",
        "            num_hits = 1.0\n",
        "            pass\n",
        "\n",
        "    return num_hits"
      ]
    },
    {
      "cell_type": "code",
      "execution_count": null,
      "metadata": {
        "id": "wjXSrN3MSxBD"
      },
      "outputs": [],
      "source": [
        "def rr_act(actual, predicted, k=5):\n",
        "\n",
        "    num_hits = 0.0\n",
        "    score = 0.0\n",
        "\n",
        "    for i,p in enumerate(predicted):\n",
        "\n",
        "        if p == actual:\n",
        "            num_hits = 1.0\n",
        "            score = num_hits/(i+1)\n",
        "            pass\n",
        "\n",
        "    return score"
      ]
    },
    {
      "cell_type": "code",
      "execution_count": null,
      "metadata": {
        "id": "2p9nbjyCSxBE"
      },
      "outputs": [],
      "source": [
        "def ndcg_act(actual, predicted, k=5):\n",
        "\n",
        "\n",
        "    dcg = []\n",
        "    idcg = []\n",
        "    gain = 0.0\n",
        "\n",
        "    for i in range(1,k+1):\n",
        "      idcg.append(1/(math.log2(i+1)))\n",
        "\n",
        "    for i,p in enumerate(predicted):\n",
        "\n",
        "        if p == actual:\n",
        "            gain = 1.0\n",
        "            dcg.append(gain/(math.log2((i+1)+1)))\n",
        "\n",
        "        else:\n",
        "            dcg.append(0)\n",
        "\n",
        "    return (sum(dcg))/(sum(idcg))"
      ]
    },
    {
      "cell_type": "markdown",
      "metadata": {
        "id": "wxTl2U59UkDh"
      },
      "source": [
        "# Multi-GAN & Multi-MDGAN"
      ]
    },
    {
      "cell_type": "markdown",
      "metadata": {
        "id": "HpJwe0t9WdVW"
      },
      "source": [
        "## Data Preprocessing - Multi-GAN & Multi-MDGAN"
      ]
    },
    {
      "cell_type": "code",
      "execution_count": null,
      "metadata": {
        "id": "SMkAojer-n5n"
      },
      "outputs": [],
      "source": [
        "scale_list = [i for i in range(len(course_sample)+1)]\n",
        "maximum = scale_list[-1]\n",
        "minimum = scale_list[0]"
      ]
    },
    {
      "cell_type": "code",
      "execution_count": null,
      "metadata": {
        "colab": {
          "base_uri": "https://localhost:8080/"
        },
        "id": "U_stwPIUAf3k",
        "outputId": "c2559104-cc8d-4a2e-c2ad-00abefc7c3c5"
      },
      "outputs": [
        {
          "name": "stdout",
          "output_type": "stream",
          "text": [
            "660\n",
            "0\n"
          ]
        }
      ],
      "source": [
        "print(maximum)\n",
        "print(minimum)"
      ]
    },
    {
      "cell_type": "code",
      "execution_count": null,
      "metadata": {
        "id": "ES6qZovwudMM"
      },
      "outputs": [],
      "source": [
        "def MinMaxScaler(x):\n",
        "        y = (x - minimum) / (maximum - minimum)\n",
        "        return y"
      ]
    },
    {
      "cell_type": "code",
      "execution_count": null,
      "metadata": {
        "id": "7vmVwzqoFsb-"
      },
      "outputs": [],
      "source": [
        "def InverseMinMaxScaler(x):\n",
        "        y = round(x*(maximum - minimum) + minimum)\n",
        "        return y"
      ]
    },
    {
      "cell_type": "code",
      "execution_count": null,
      "metadata": {
        "id": "T3t3IEiv7h2v"
      },
      "outputs": [],
      "source": [
        "data_course_scale = data_course.apply(np.vectorize(MinMaxScaler))"
      ]
    },
    {
      "cell_type": "code",
      "execution_count": null,
      "metadata": {
        "id": "6F4dD4KAUym5"
      },
      "outputs": [],
      "source": [
        "X_sc = data_course_scale.drop('course_10', axis=1)\n",
        "Y_sc = data_course_scale['course_10']"
      ]
    },
    {
      "cell_type": "code",
      "execution_count": null,
      "metadata": {
        "id": "kptvck3mVh37"
      },
      "outputs": [],
      "source": [
        "X_train_sc, X_test_sc, Y_train_sc, Y_test_sc = train_test_split(X_sc,Y_sc,test_size = 0.2, random_state = 42)"
      ]
    },
    {
      "cell_type": "code",
      "execution_count": null,
      "metadata": {
        "id": "WuuuT6fLWWhe"
      },
      "outputs": [],
      "source": [
        "rows_train_sc = list(X_train_sc.index)\n",
        "rows_test_sc = list(X_test_sc.index)"
      ]
    },
    {
      "cell_type": "code",
      "execution_count": null,
      "metadata": {
        "id": "LHbDv60gi5Qg"
      },
      "outputs": [],
      "source": [
        "X_train_sc = X_train_sc.astype('float32')\n",
        "Y_train_sc = Y_train_sc.astype('float32')\n",
        "X_test_sc = X_test_sc.astype('float32')\n",
        "Y_test_sc = Y_test_sc.astype('float32')"
      ]
    },
    {
      "cell_type": "code",
      "execution_count": null,
      "metadata": {
        "id": "QoFN8MgcE3Ep"
      },
      "outputs": [],
      "source": [
        "dict_course_school_encode_final = dict_lookup_course_school.copy()"
      ]
    },
    {
      "cell_type": "code",
      "execution_count": null,
      "metadata": {
        "id": "aiQzwukhFJyn"
      },
      "outputs": [],
      "source": [
        "for i in course_encode.keys():\n",
        "  dict_course_school_encode_final[i] = school_encode[dict_lookup_course_school[i]]"
      ]
    },
    {
      "cell_type": "code",
      "execution_count": null,
      "metadata": {
        "id": "Jj29gHMZGavS"
      },
      "outputs": [],
      "source": [
        "for i in course_encode.keys():\n",
        "  dict_course_school_encode_final[course_encode[i]]= dict_course_school_encode_final.pop(i)"
      ]
    },
    {
      "cell_type": "code",
      "execution_count": null,
      "metadata": {
        "id": "iC-ob_XYHiX9"
      },
      "outputs": [],
      "source": [
        "dict_course_teacher_encode_final = dict_lookup_course_teacher.copy()"
      ]
    },
    {
      "cell_type": "code",
      "execution_count": null,
      "metadata": {
        "id": "bLMNTEnuHZ-s"
      },
      "outputs": [],
      "source": [
        "for i in course_encode.keys():\n",
        "  dict_course_teacher_encode_final[i] = teacher_encode[dict_lookup_course_teacher[i]]"
      ]
    },
    {
      "cell_type": "code",
      "execution_count": null,
      "metadata": {
        "id": "u-I0_uqVHZ-s"
      },
      "outputs": [],
      "source": [
        "for i in course_encode.keys():\n",
        "  dict_course_teacher_encode_final[course_encode[i]] = dict_course_teacher_encode_final.pop(i)"
      ]
    },
    {
      "cell_type": "markdown",
      "metadata": {
        "id": "G1_zzecUYgo5"
      },
      "source": [
        "### Validation Data Processing - Multi-GAN & Multi-MDGAN"
      ]
    },
    {
      "cell_type": "code",
      "execution_count": null,
      "metadata": {
        "id": "f5AOIy_tGehy"
      },
      "outputs": [],
      "source": [
        "Y_test_unscale = Y_test_sc.apply(np.vectorize(InverseMinMaxScaler))"
      ]
    },
    {
      "cell_type": "code",
      "execution_count": null,
      "metadata": {
        "id": "99yspg2X801W"
      },
      "outputs": [],
      "source": [
        "X_test_unscale = X_test_sc.apply(np.vectorize(InverseMinMaxScaler))"
      ]
    },
    {
      "cell_type": "markdown",
      "metadata": {
        "id": "GJn_sfGMh42w"
      },
      "source": [
        "## Multi-GAN"
      ]
    },
    {
      "cell_type": "markdown",
      "metadata": {
        "id": "nxILo1ZN0v4F"
      },
      "source": [
        "### Modelling - MultiGAN"
      ]
    },
    {
      "cell_type": "code",
      "execution_count": null,
      "metadata": {
        "colab": {
          "base_uri": "https://localhost:8080/"
        },
        "id": "xGPIGgbARnZH",
        "outputId": "228740b1-57cf-4fc6-84b9-4ed6a09076dc"
      },
      "outputs": [
        {
          "name": "stderr",
          "output_type": "stream",
          "text": [
            "WARNING:absl:Skipping variable loading for optimizer 'Adam', because it has 17 variables whereas the saved optimizer has 1 variables. \n",
            "WARNING:absl:Skipping variable loading for optimizer 'Adam', because it has 17 variables whereas the saved optimizer has 1 variables. \n",
            "WARNING:absl:Skipping variable loading for optimizer 'Adam', because it has 17 variables whereas the saved optimizer has 1 variables. \n",
            "WARNING:absl:Skipping variable loading for optimizer 'Adam', because it has 17 variables whereas the saved optimizer has 1 variables. \n",
            "WARNING:absl:Skipping variable loading for optimizer 'Adam', because it has 17 variables whereas the saved optimizer has 1 variables. \n"
          ]
        }
      ],
      "source": [
        "filename = '/content/drive/MyDrive/MOOCCube/Models/Edu_MultiGAN1.pkl'\n",
        "multigan1 = pickle.load(open(filename, 'rb'))\n",
        "\n",
        "filename = '/content/drive/MyDrive/MOOCCube/Models/Edu_MultiGAN2.pkl'\n",
        "multigan2 = pickle.load(open(filename, 'rb'))\n",
        "\n",
        "filename = '/content/drive/MyDrive/MOOCCube/Models/Edu_MultiGAN3.pkl'\n",
        "multigan3 = pickle.load(open(filename, 'rb'))\n",
        "\n",
        "filename = '/content/drive/MyDrive/MOOCCube/Models/Edu_MultiGAN4.pkl'\n",
        "multigan4 = pickle.load(open(filename, 'rb'))\n",
        "\n",
        "filename = '/content/drive/MyDrive/MOOCCube/Models/Edu_MultiGAN5.pkl'\n",
        "multigan5 = pickle.load(open(filename, 'rb'))"
      ]
    },
    {
      "cell_type": "code",
      "execution_count": null,
      "metadata": {
        "colab": {
          "base_uri": "https://localhost:8080/"
        },
        "id": "PTp7fCYO0lUa",
        "outputId": "b2265226-e9c0-426e-ae66-d1919e18d59f"
      },
      "outputs": [
        {
          "name": "stdout",
          "output_type": "stream",
          "text": [
            "57/57 [==============================] - 0s 1ms/step\n",
            "57/57 [==============================] - 0s 1ms/step\n",
            "57/57 [==============================] - 0s 1ms/step\n",
            "57/57 [==============================] - 0s 2ms/step\n",
            "57/57 [==============================] - 0s 2ms/step\n"
          ]
        }
      ],
      "source": [
        "pred_multigan1 = multigan1.predict(X_test_sc)\n",
        "pred_multigan2 = multigan2.predict(X_test_sc)\n",
        "pred_multigan3 = multigan3.predict(X_test_sc)\n",
        "pred_multigan4 = multigan4.predict(X_test_sc)\n",
        "pred_multigan5 = multigan5.predict(X_test_sc)"
      ]
    },
    {
      "cell_type": "code",
      "execution_count": null,
      "metadata": {
        "id": "D0iYzLmi0lUb"
      },
      "outputs": [],
      "source": [
        "pred_multigan1 = pd.DataFrame(pred_multigan1)\n",
        "pred_multigan2 = pd.DataFrame(pred_multigan2)\n",
        "pred_multigan3 = pd.DataFrame(pred_multigan3)\n",
        "pred_multigan4 = pd.DataFrame(pred_multigan4)\n",
        "pred_multigan5 = pd.DataFrame(pred_multigan5)"
      ]
    },
    {
      "cell_type": "code",
      "execution_count": null,
      "metadata": {
        "id": "TgWu973JEdlV"
      },
      "outputs": [],
      "source": [
        "pred_multigan = pd.concat([pred_multigan1, pred_multigan2, pred_multigan3, pred_multigan4, pred_multigan5], axis=1, join='outer')\n",
        "pred_multigan.columns = [1,2,3,4,5]"
      ]
    },
    {
      "cell_type": "code",
      "execution_count": null,
      "metadata": {
        "id": "EpMFYAoXF9eF"
      },
      "outputs": [],
      "source": [
        "pred_multigan_unscale = pred_multigan.apply(np.vectorize(InverseMinMaxScaler))"
      ]
    },
    {
      "cell_type": "markdown",
      "metadata": {
        "id": "HuBupl5TWqZ0"
      },
      "source": [
        "### Evaluation - Multi-GAN"
      ]
    },
    {
      "cell_type": "markdown",
      "metadata": {
        "id": "peQuaGWaTVpo"
      },
      "source": [
        "#### Evaluation Actualness - Multi-GAN"
      ]
    },
    {
      "cell_type": "code",
      "execution_count": null,
      "metadata": {
        "colab": {
          "base_uri": "https://localhost:8080/"
        },
        "id": "Hiebv-0tS1Y9",
        "outputId": "5ff845b0-9e34-49bb-9899-6cb6d98e2086"
      },
      "outputs": [
        {
          "data": {
            "text/plain": [
              "0.0005856107083100948"
            ]
          },
          "execution_count": 107,
          "metadata": {},
          "output_type": "execute_result"
        }
      ],
      "source": [
        "multigan_map_5_actual = []\n",
        "\n",
        "for i in range(len(Y_test_unscale)):\n",
        "  multigan_map_5_actual.append(apk_act(Y_test_unscale.iloc[i],list(pred_multigan_unscale.iloc[i]), k=5))\n",
        "\n",
        "map_MultiGAN_actual = mean(multigan_map_5_actual)\n",
        "map_MultiGAN_actual"
      ]
    },
    {
      "cell_type": "code",
      "execution_count": null,
      "metadata": {
        "colab": {
          "base_uri": "https://localhost:8080/"
        },
        "id": "jEllbz2yS6MC",
        "outputId": "16f87e9c-a1ee-460a-aa72-15c8bbfd61bc"
      },
      "outputs": [
        {
          "data": {
            "text/plain": [
              "0.0050195203569436695"
            ]
          },
          "execution_count": 108,
          "metadata": {},
          "output_type": "execute_result"
        }
      ],
      "source": [
        "multigan_hit_5_actual = []\n",
        "\n",
        "for i in range(len(Y_test_unscale)):\n",
        "  multigan_hit_5_actual.append(hr_act(Y_test_unscale.iloc[i],list(pred_multigan_unscale.iloc[i]), k=5))\n",
        "\n",
        "hr_MultiGAN_actual = mean(multigan_hit_5_actual)\n",
        "hr_MultiGAN_actual"
      ]
    },
    {
      "cell_type": "code",
      "execution_count": null,
      "metadata": {
        "colab": {
          "base_uri": "https://localhost:8080/"
        },
        "id": "nOY0S9R5S8MQ",
        "outputId": "2102064c-bffb-47e1-b677-023c1b0c9c69"
      },
      "outputs": [
        {
          "data": {
            "text/plain": [
              "0.002928053541550474"
            ]
          },
          "execution_count": 109,
          "metadata": {},
          "output_type": "execute_result"
        }
      ],
      "source": [
        "multigan_rr_5_actual = []\n",
        "\n",
        "for i in range(len(Y_test_unscale)):\n",
        "  multigan_rr_5_actual.append(rr_act(Y_test_unscale.iloc[i],list(pred_multigan_unscale.iloc[i]), k=5))\n",
        "\n",
        "rr_MultiGAN_actual = mean(multigan_rr_5_actual)\n",
        "rr_MultiGAN_actual"
      ]
    },
    {
      "cell_type": "code",
      "execution_count": null,
      "metadata": {
        "colab": {
          "base_uri": "https://localhost:8080/"
        },
        "id": "xEKQhW3QS-Ld",
        "outputId": "2134f0fb-7c8e-486d-f6d9-cd959f7275c4"
      },
      "outputs": [
        {
          "data": {
            "text/plain": [
              "0.001171367430587303"
            ]
          },
          "execution_count": 110,
          "metadata": {},
          "output_type": "execute_result"
        }
      ],
      "source": [
        "multigan_ndcg_5_actual = []\n",
        "\n",
        "for i in range(len(Y_test_unscale)):\n",
        "  multigan_ndcg_5_actual.append(ndcg_act(Y_test_unscale.iloc[i],list(pred_multigan_unscale.iloc[i]), k=5))\n",
        "\n",
        "ndcg_MultiGAN_actual = mean(multigan_ndcg_5_actual)\n",
        "ndcg_MultiGAN_actual"
      ]
    },
    {
      "cell_type": "markdown",
      "metadata": {
        "id": "Lqcbc0v2iMRF"
      },
      "source": [
        "## Multi-MDGAN"
      ]
    },
    {
      "cell_type": "markdown",
      "metadata": {
        "id": "1dhV6pHchm1h"
      },
      "source": [
        "### Modelling - Multi-MDGAN"
      ]
    },
    {
      "cell_type": "code",
      "execution_count": null,
      "metadata": {
        "colab": {
          "base_uri": "https://localhost:8080/"
        },
        "id": "LpaJEAUdPAg_",
        "outputId": "40e3cbc4-f2ec-4e55-d9a5-32476f9ad763"
      },
      "outputs": [
        {
          "name": "stderr",
          "output_type": "stream",
          "text": [
            "WARNING:absl:Skipping variable loading for optimizer 'Adam', because it has 17 variables whereas the saved optimizer has 1 variables. \n",
            "WARNING:absl:Skipping variable loading for optimizer 'Adam', because it has 17 variables whereas the saved optimizer has 1 variables. \n",
            "WARNING:absl:Skipping variable loading for optimizer 'Adam', because it has 17 variables whereas the saved optimizer has 1 variables. \n",
            "WARNING:absl:Skipping variable loading for optimizer 'Adam', because it has 17 variables whereas the saved optimizer has 1 variables. \n",
            "WARNING:absl:Skipping variable loading for optimizer 'Adam', because it has 17 variables whereas the saved optimizer has 1 variables. \n"
          ]
        }
      ],
      "source": [
        "filename = '/content/drive/MyDrive/MOOCCube/Models/Edu_MultiMDGAN1.pkl'\n",
        "multimdgan1 = pickle.load(open(filename, 'rb'))\n",
        "\n",
        "filename = '/content/drive/MyDrive/MOOCCube/Models/Edu_MultiMDGAN2.pkl'\n",
        "multimdgan2 = pickle.load(open(filename, 'rb'))\n",
        "\n",
        "filename = '/content/drive/MyDrive/MOOCCube/Models/Edu_MultiMDGAN3.pkl'\n",
        "multimdgan3 = pickle.load(open(filename, 'rb'))\n",
        "\n",
        "filename = '/content/drive/MyDrive/MOOCCube/Models/Edu_MultiMDGAN4.pkl'\n",
        "multimdgan4 = pickle.load(open(filename, 'rb'))\n",
        "\n",
        "filename = '/content/drive/MyDrive/MOOCCube/Models/Edu_MultiMDGAN5.pkl'\n",
        "multimdgan5 = pickle.load(open(filename, 'rb'))"
      ]
    },
    {
      "cell_type": "code",
      "execution_count": null,
      "metadata": {
        "colab": {
          "base_uri": "https://localhost:8080/"
        },
        "id": "pcwws1ECzfRh",
        "outputId": "3eeecfe0-a219-44a4-e730-465a2508f3cc"
      },
      "outputs": [
        {
          "name": "stdout",
          "output_type": "stream",
          "text": [
            "57/57 [==============================] - 0s 2ms/step\n",
            "57/57 [==============================] - 0s 2ms/step\n",
            "57/57 [==============================] - 0s 2ms/step\n",
            "57/57 [==============================] - 0s 1ms/step\n",
            "57/57 [==============================] - 0s 1ms/step\n"
          ]
        }
      ],
      "source": [
        "pred_multimdgan1 = multimdgan1.predict(X_test_sc)\n",
        "pred_multimdgan2 = multimdgan2.predict(X_test_sc)\n",
        "pred_multimdgan3 = multimdgan3.predict(X_test_sc)\n",
        "pred_multimdgan4 = multimdgan4.predict(X_test_sc)\n",
        "pred_multimdgan5 = multimdgan5.predict(X_test_sc)"
      ]
    },
    {
      "cell_type": "code",
      "execution_count": null,
      "metadata": {
        "id": "6ougfePxhBHM"
      },
      "outputs": [],
      "source": [
        "pred_multimdgan1 = pd.DataFrame(pred_multimdgan1)\n",
        "pred_multimdgan2 = pd.DataFrame(pred_multimdgan2)\n",
        "pred_multimdgan3 = pd.DataFrame(pred_multimdgan3)\n",
        "pred_multimdgan4 = pd.DataFrame(pred_multimdgan4)\n",
        "pred_multimdgan5 = pd.DataFrame(pred_multimdgan5)"
      ]
    },
    {
      "cell_type": "code",
      "execution_count": null,
      "metadata": {
        "id": "BUhitoH5hBHM"
      },
      "outputs": [],
      "source": [
        "pred_multimdgan = pd.concat([pred_multimdgan1, pred_multimdgan2, pred_multimdgan3, pred_multimdgan4, pred_multimdgan5], axis=1, join='outer')\n",
        "pred_multimdgan.columns = [1,2,3,4,5]"
      ]
    },
    {
      "cell_type": "code",
      "execution_count": null,
      "metadata": {
        "id": "f1m52q3OhBHN"
      },
      "outputs": [],
      "source": [
        "pred_multimdgan_unscale = pred_multimdgan.apply(np.vectorize(InverseMinMaxScaler))"
      ]
    },
    {
      "cell_type": "markdown",
      "metadata": {
        "id": "xnZUW_F7YeJ-"
      },
      "source": [
        "### Evaluation - Multi-MDGAN"
      ]
    },
    {
      "cell_type": "markdown",
      "metadata": {
        "id": "4xUr3wR-tQ0e"
      },
      "source": [
        "#### Evaluation Actualness - Multi-MDGAN"
      ]
    },
    {
      "cell_type": "code",
      "execution_count": null,
      "metadata": {
        "colab": {
          "base_uri": "https://localhost:8080/"
        },
        "id": "zPjBlJphhBHN",
        "outputId": "2f7c3653-f8ec-4c88-fa9a-49f289600fb2"
      },
      "outputs": [
        {
          "data": {
            "text/plain": [
              "0.0010113403978434653"
            ]
          },
          "execution_count": 116,
          "metadata": {},
          "output_type": "execute_result"
        }
      ],
      "source": [
        "multimdgan_map_5_actual = []\n",
        "\n",
        "for i in range(len(Y_test_unscale)):\n",
        "  multimdgan_map_5_actual.append(apk_act(Y_test_unscale.iloc[i],list(pred_multimdgan_unscale.iloc[i]), k=5))\n",
        "\n",
        "map_MultiMDGAN_actual = mean(multimdgan_map_5_actual)\n",
        "map_MultiMDGAN_actual"
      ]
    },
    {
      "cell_type": "code",
      "execution_count": null,
      "metadata": {
        "colab": {
          "base_uri": "https://localhost:8080/"
        },
        "id": "KCJxflHLhBHO",
        "outputId": "95d1fe8c-c46c-4a7d-9b48-9db4f2ec88de"
      },
      "outputs": [
        {
          "data": {
            "text/plain": [
              "0.011154489682097044"
            ]
          },
          "execution_count": 117,
          "metadata": {},
          "output_type": "execute_result"
        }
      ],
      "source": [
        "multimdgan_hit_5_actual = []\n",
        "\n",
        "for i in range(len(Y_test_unscale)):\n",
        "  multimdgan_hit_5_actual.append(hr_act(Y_test_unscale.iloc[i],list(pred_multimdgan_unscale.iloc[i]), k=5))\n",
        "\n",
        "hr_MultiMDGAN_actual = mean(multimdgan_hit_5_actual)\n",
        "hr_MultiMDGAN_actual"
      ]
    },
    {
      "cell_type": "code",
      "execution_count": null,
      "metadata": {
        "colab": {
          "base_uri": "https://localhost:8080/"
        },
        "id": "XLNVQY-ShBHO",
        "outputId": "76bbf7d1-e4ff-4633-def1-d366f7aa472f"
      },
      "outputs": [
        {
          "data": {
            "text/plain": [
              "0.0045919315857966166"
            ]
          },
          "execution_count": 118,
          "metadata": {},
          "output_type": "execute_result"
        }
      ],
      "source": [
        "multimdgan_rr_5_actual = []\n",
        "\n",
        "for i in range(len(Y_test_unscale)):\n",
        "  multimdgan_rr_5_actual.append(rr_act(Y_test_unscale.iloc[i],list(pred_multimdgan_unscale.iloc[i]), k=5))\n",
        "\n",
        "rr_MultiMDGAN_actual = mean(multimdgan_rr_5_actual)\n",
        "rr_MultiMDGAN_actual"
      ]
    },
    {
      "cell_type": "code",
      "execution_count": null,
      "metadata": {
        "colab": {
          "base_uri": "https://localhost:8080/"
        },
        "id": "wfPEG5iWhBHP",
        "outputId": "576d50c8-f74b-4d5d-b723-d585a831d98a"
      },
      "outputs": [
        {
          "data": {
            "text/plain": [
              "0.0022236288240697587"
            ]
          },
          "execution_count": 119,
          "metadata": {},
          "output_type": "execute_result"
        }
      ],
      "source": [
        "multimdgan_ndcg_5_actual = []\n",
        "\n",
        "for i in range(len(Y_test_unscale)):\n",
        "  multimdgan_ndcg_5_actual.append(ndcg_act(Y_test_unscale.iloc[i],list(pred_multimdgan_unscale.iloc[i]), k=5))\n",
        "\n",
        "ndcg_MultiMDGAN_actual = mean(multimdgan_ndcg_5_actual)\n",
        "ndcg_MultiMDGAN_actual"
      ]
    },
    {
      "cell_type": "markdown",
      "metadata": {
        "id": "xYc1Lr8TY0X-"
      },
      "source": [
        "# GAN & MDGAN"
      ]
    },
    {
      "cell_type": "markdown",
      "metadata": {
        "id": "DmKpRaWrVsG9"
      },
      "source": [
        "## Data Preprocessing - GAN & MDGAN"
      ]
    },
    {
      "cell_type": "code",
      "execution_count": null,
      "metadata": {
        "id": "fHorPO3XH7XK"
      },
      "outputs": [],
      "source": [
        "list_oh_join = []\n",
        "\n",
        "for i in range(len(course_sample)+1):\n",
        "  list_oh_join.append([i]*10)\n",
        "\n",
        "data_oh_join = pd.DataFrame(list_oh_join, columns = course_columns)"
      ]
    },
    {
      "cell_type": "code",
      "execution_count": null,
      "metadata": {
        "id": "Pnu-558EJXge"
      },
      "outputs": [],
      "source": [
        "frames = [data_course, data_oh_join]\n",
        "\n",
        "new_data_course = pd.concat(frames)\n",
        "new_data_course = new_data_course.reset_index(drop=True)"
      ]
    },
    {
      "cell_type": "code",
      "execution_count": null,
      "metadata": {
        "id": "CybgMsrHKJJf"
      },
      "outputs": [],
      "source": [
        "one_hot_encoded_data = pd.get_dummies(new_data_course)"
      ]
    },
    {
      "cell_type": "code",
      "execution_count": null,
      "metadata": {
        "id": "NyxADQ3aMHh7"
      },
      "outputs": [],
      "source": [
        "enc_course = OneHotEncoder()\n",
        "oh_data = enc_course.fit_transform(one_hot_encoded_data)\n",
        "oh_data=oh_data.toarray()"
      ]
    },
    {
      "cell_type": "code",
      "execution_count": null,
      "metadata": {
        "colab": {
          "base_uri": "https://localhost:8080/"
        },
        "id": "xkVV-n6qM56w",
        "outputId": "05692f99-8717-45f4-cab4-f39d50701271"
      },
      "outputs": [
        {
          "data": {
            "text/plain": [
              "array([[1., 0., 0., ..., 0., 0., 0.],\n",
              "       [1., 0., 0., ..., 0., 0., 0.],\n",
              "       [1., 0., 0., ..., 0., 0., 0.],\n",
              "       ...,\n",
              "       [0., 0., 0., ..., 1., 0., 0.],\n",
              "       [0., 0., 0., ..., 0., 1., 0.],\n",
              "       [0., 0., 0., ..., 0., 0., 1.]])"
            ]
          },
          "execution_count": 124,
          "metadata": {},
          "output_type": "execute_result"
        }
      ],
      "source": [
        "oh_data"
      ]
    },
    {
      "cell_type": "code",
      "execution_count": null,
      "metadata": {
        "id": "nS_2aTodNHuk"
      },
      "outputs": [],
      "source": [
        "oh_data=pd.DataFrame(oh_data, columns=enc_course.get_feature_names_out())"
      ]
    },
    {
      "cell_type": "code",
      "execution_count": null,
      "metadata": {
        "id": "7wvfnLmcPaiw"
      },
      "outputs": [],
      "source": [
        "oh_data = oh_data.iloc[:data_course.shape[0]]"
      ]
    },
    {
      "cell_type": "code",
      "execution_count": null,
      "metadata": {
        "id": "Pvmy7j5_Gd0x"
      },
      "outputs": [],
      "source": [
        "num_diff = oh_data.shape[1]/10\n",
        "num_diff = int(num_diff)"
      ]
    },
    {
      "cell_type": "code",
      "execution_count": null,
      "metadata": {
        "id": "5wWdxOOOQDJL"
      },
      "outputs": [],
      "source": [
        "X_oh = oh_data.iloc[:, 0:-num_diff]\n",
        "Y_oh = oh_data.iloc[:, -num_diff:]"
      ]
    },
    {
      "cell_type": "code",
      "execution_count": null,
      "metadata": {
        "id": "-VbeEehVGd0x"
      },
      "outputs": [],
      "source": [
        "X_train_oh, X_test_oh, Y_train_oh, Y_test_oh = train_test_split(X_oh,Y_oh,test_size = 0.2, random_state = 42)"
      ]
    },
    {
      "cell_type": "code",
      "execution_count": null,
      "metadata": {
        "id": "Ry4YvG9jGd0y"
      },
      "outputs": [],
      "source": [
        "rows_train_oh = list(X_train_oh.index)\n",
        "rows_test_oh = list(X_test_oh.index)"
      ]
    },
    {
      "cell_type": "code",
      "execution_count": null,
      "metadata": {
        "id": "AU4IiymVGd0y"
      },
      "outputs": [],
      "source": [
        "X_train_oh = X_train_oh.astype('float32')\n",
        "Y_train_oh = Y_train_oh.astype('float32')\n",
        "X_test_oh = X_test_oh.astype('float32')\n",
        "Y_test_oh = Y_test_oh.astype('float32')"
      ]
    },
    {
      "cell_type": "markdown",
      "metadata": {
        "id": "w7lRUGOrYA5k"
      },
      "source": [
        "### Validation Data Processing - GAN & MDGAN"
      ]
    },
    {
      "cell_type": "code",
      "execution_count": null,
      "metadata": {
        "id": "pleuKJkGRa1K"
      },
      "outputs": [],
      "source": [
        "data_inverse_oh = enc_course.inverse_transform(oh_data)"
      ]
    },
    {
      "cell_type": "code",
      "execution_count": null,
      "metadata": {
        "id": "doTHMn8YSGCe"
      },
      "outputs": [],
      "source": [
        "data_inverse_oh = pd.DataFrame(data_inverse_oh, columns = course_columns)"
      ]
    },
    {
      "cell_type": "code",
      "execution_count": null,
      "metadata": {
        "id": "-Zbq81EwSa8_"
      },
      "outputs": [],
      "source": [
        "data_inverse_oh_test = data_inverse_oh.loc[data_inverse_oh.index[rows_test_oh]]"
      ]
    },
    {
      "cell_type": "code",
      "execution_count": null,
      "metadata": {
        "id": "oo_YbHxhTlXT"
      },
      "outputs": [],
      "source": [
        "data_inverse_oh_test_X = data_inverse_oh_test.drop('course_10', axis=1)\n",
        "data_inverse_oh_test_Y = data_inverse_oh_test['course_10']"
      ]
    },
    {
      "cell_type": "code",
      "execution_count": null,
      "metadata": {
        "id": "CA4yliCsbBg3"
      },
      "outputs": [],
      "source": [
        "X_test = data_inverse_oh_test_X\n",
        "Y_test = data_inverse_oh_test_Y"
      ]
    },
    {
      "cell_type": "markdown",
      "metadata": {
        "id": "a5Y6H9F4iiPP"
      },
      "source": [
        "## GAN"
      ]
    },
    {
      "cell_type": "markdown",
      "metadata": {
        "id": "KeEU2OrwGGUM"
      },
      "source": [
        "### Modelling - GAN"
      ]
    },
    {
      "cell_type": "code",
      "execution_count": null,
      "metadata": {
        "colab": {
          "base_uri": "https://localhost:8080/"
        },
        "id": "tflEPImLLtK2",
        "outputId": "6c356317-7fd1-4a40-db16-da8910e7c1b4"
      },
      "outputs": [
        {
          "name": "stderr",
          "output_type": "stream",
          "text": [
            "WARNING:absl:Skipping variable loading for optimizer 'Adam', because it has 13 variables whereas the saved optimizer has 1 variables. \n"
          ]
        }
      ],
      "source": [
        "filename = '/content/drive/MyDrive/MOOCCube/Models/Edu_GAN.pkl'\n",
        "gan = pickle.load(open(filename, 'rb'))"
      ]
    },
    {
      "cell_type": "code",
      "execution_count": null,
      "metadata": {
        "colab": {
          "base_uri": "https://localhost:8080/"
        },
        "id": "vSWOqyRDSL7z",
        "outputId": "b1f1aafa-d876-4688-cb2c-5dde6b90a060"
      },
      "outputs": [
        {
          "name": "stdout",
          "output_type": "stream",
          "text": [
            "57/57 [==============================] - 0s 3ms/step\n"
          ]
        }
      ],
      "source": [
        "pred_gan = gan.predict(X_test_oh)"
      ]
    },
    {
      "cell_type": "code",
      "execution_count": null,
      "metadata": {
        "id": "IeY1z15CZLRc"
      },
      "outputs": [],
      "source": [
        "pred_gan = pd.DataFrame(pred_gan, columns = list(Y_test_oh.columns.values))"
      ]
    },
    {
      "cell_type": "code",
      "execution_count": null,
      "metadata": {
        "id": "ObfvAsjzPL42"
      },
      "outputs": [],
      "source": [
        "course_columns_number = [i for i in range(len(course_sample)+1)]"
      ]
    },
    {
      "cell_type": "code",
      "execution_count": null,
      "metadata": {
        "id": "XR8wfR9dO9QO"
      },
      "outputs": [],
      "source": [
        "pred_gan.columns = course_columns_number"
      ]
    },
    {
      "cell_type": "code",
      "execution_count": null,
      "metadata": {
        "id": "KjLzA2IkP6QN"
      },
      "outputs": [],
      "source": [
        "pred_gan_top5 = pd.DataFrame(pred_gan.apply(lambda x: x.nlargest(5).index.tolist(), axis=1).tolist(),\n",
        "                           columns=['1','2','3','4','5'])"
      ]
    },
    {
      "cell_type": "markdown",
      "metadata": {
        "id": "PrfmfLxRZK5w"
      },
      "source": [
        "### Evaluation - GAN"
      ]
    },
    {
      "cell_type": "markdown",
      "metadata": {
        "id": "BPbNnCPFhE1-"
      },
      "source": [
        "#### Evaluation Actualness - GAN"
      ]
    },
    {
      "cell_type": "code",
      "execution_count": null,
      "metadata": {
        "colab": {
          "base_uri": "https://localhost:8080/"
        },
        "id": "gxXP-Ziu1jFi",
        "outputId": "7411876a-3900-45b3-f2b3-c93535c2ebae"
      },
      "outputs": [
        {
          "data": {
            "text/plain": [
              "0.016703848298940324"
            ]
          },
          "execution_count": 143,
          "metadata": {},
          "output_type": "execute_result"
        }
      ],
      "source": [
        "gan_map_5_actual = []\n",
        "\n",
        "for i in range(len(data_inverse_oh_test_Y)):\n",
        "  gan_map_5_actual.append(apk_act(data_inverse_oh_test_Y.iloc[i],list(pred_gan_top5.iloc[i]), k=5))\n",
        "\n",
        "map_GAN_actual = mean(gan_map_5_actual)\n",
        "map_GAN_actual"
      ]
    },
    {
      "cell_type": "code",
      "execution_count": null,
      "metadata": {
        "colab": {
          "base_uri": "https://localhost:8080/"
        },
        "id": "aaB0Qgk11jFj",
        "outputId": "c050e5c9-0b92-4ac9-89d7-bdbe3a206926"
      },
      "outputs": [
        {
          "data": {
            "text/plain": [
              "0.17456776352481873"
            ]
          },
          "execution_count": 144,
          "metadata": {},
          "output_type": "execute_result"
        }
      ],
      "source": [
        "gan_hit_5_actual = []\n",
        "\n",
        "for i in range(len(data_inverse_oh_test_Y)):\n",
        "  gan_hit_5_actual.append(hr_act(data_inverse_oh_test_Y.iloc[i],list(pred_gan_top5.iloc[i]), k=5))\n",
        "\n",
        "hr_GAN_actual = mean(gan_hit_5_actual)\n",
        "hr_GAN_actual"
      ]
    },
    {
      "cell_type": "code",
      "execution_count": null,
      "metadata": {
        "colab": {
          "base_uri": "https://localhost:8080/"
        },
        "id": "8rDxvW7Z1jFk",
        "outputId": "75c91ef8-7962-4408-9074-fdeaa31264f4"
      },
      "outputs": [
        {
          "data": {
            "text/plain": [
              "0.08351924149470162"
            ]
          },
          "execution_count": 145,
          "metadata": {},
          "output_type": "execute_result"
        }
      ],
      "source": [
        "gan_rr_5_actual = []\n",
        "\n",
        "for i in range(len(data_inverse_oh_test_Y)):\n",
        "  gan_rr_5_actual.append(rr_act(data_inverse_oh_test_Y.iloc[i],list(pred_gan_top5.iloc[i]), k=5))\n",
        "\n",
        "rr_GAN_actual = mean(gan_rr_5_actual)\n",
        "\n",
        "rr_GAN_actual"
      ]
    },
    {
      "cell_type": "code",
      "execution_count": null,
      "metadata": {
        "colab": {
          "base_uri": "https://localhost:8080/"
        },
        "id": "g-ueiWL91jFk",
        "outputId": "4584d1da-ae26-46c9-c9ed-05982e2b7658"
      },
      "outputs": [
        {
          "data": {
            "text/plain": [
              "0.03582225943906229"
            ]
          },
          "execution_count": 146,
          "metadata": {},
          "output_type": "execute_result"
        }
      ],
      "source": [
        "gan_ndcg_5_actual = []\n",
        "\n",
        "for i in range(len(data_inverse_oh_test_Y)):\n",
        "  gan_ndcg_5_actual.append(ndcg_act(data_inverse_oh_test_Y.iloc[i],list(pred_gan_top5.iloc[i]), k=5))\n",
        "\n",
        "ndcg_GAN_actual = mean(gan_ndcg_5_actual)\n",
        "ndcg_GAN_actual"
      ]
    },
    {
      "cell_type": "markdown",
      "metadata": {
        "id": "oEqBD7jijwnR"
      },
      "source": [
        "## MDGAN"
      ]
    },
    {
      "cell_type": "markdown",
      "metadata": {
        "id": "l1XT-DwwPjgx"
      },
      "source": [
        "### Modelling - MDGAN"
      ]
    },
    {
      "cell_type": "code",
      "execution_count": null,
      "metadata": {
        "colab": {
          "base_uri": "https://localhost:8080/"
        },
        "id": "e-TzKGulRw_V",
        "outputId": "5b887738-3dcc-48c6-e0b0-6b9d5d29e873"
      },
      "outputs": [
        {
          "name": "stderr",
          "output_type": "stream",
          "text": [
            "WARNING:absl:Skipping variable loading for optimizer 'Adam', because it has 25 variables whereas the saved optimizer has 1 variables. \n"
          ]
        }
      ],
      "source": [
        "filename = '/content/drive/MyDrive/MOOCCube/Models/Edu_MDGAN.pkl'\n",
        "mdgan = pickle.load(open(filename, 'rb'))"
      ]
    },
    {
      "cell_type": "code",
      "execution_count": null,
      "metadata": {
        "colab": {
          "base_uri": "https://localhost:8080/"
        },
        "id": "NPiYDT2FQRMv",
        "outputId": "1576e218-b2f6-436f-fdc9-351fcabdd05a"
      },
      "outputs": [
        {
          "name": "stdout",
          "output_type": "stream",
          "text": [
            "57/57 [==============================] - 0s 6ms/step\n"
          ]
        }
      ],
      "source": [
        "pred_mdgan = mdgan.predict(X_test_oh)"
      ]
    },
    {
      "cell_type": "code",
      "execution_count": null,
      "metadata": {
        "id": "L3cXctjvQRMw"
      },
      "outputs": [],
      "source": [
        "pred_mdgan = pd.DataFrame(pred_mdgan, columns = list(Y_test_oh.columns.values))"
      ]
    },
    {
      "cell_type": "code",
      "execution_count": null,
      "metadata": {
        "id": "Yu775Od6QRMx"
      },
      "outputs": [],
      "source": [
        "course_columns_number = [i for i in range(len(course_sample)+1)]"
      ]
    },
    {
      "cell_type": "code",
      "execution_count": null,
      "metadata": {
        "id": "PmZkUKo_QRMy"
      },
      "outputs": [],
      "source": [
        "pred_mdgan.columns = course_columns_number"
      ]
    },
    {
      "cell_type": "code",
      "execution_count": null,
      "metadata": {
        "id": "hDt1RgVKQRM1"
      },
      "outputs": [],
      "source": [
        "pred_mdgan_top5 = pd.DataFrame(pred_mdgan.apply(lambda x: x.nlargest(5).index.tolist(), axis=1).tolist(),\n",
        "                           columns=['1','2','3','4','5'])"
      ]
    },
    {
      "cell_type": "markdown",
      "metadata": {
        "id": "nwl01QWTZblm"
      },
      "source": [
        "### Evaluation - MDGAN"
      ]
    },
    {
      "cell_type": "markdown",
      "metadata": {
        "id": "kt6uv7WMQRM3"
      },
      "source": [
        "#### Evaluation Actualness - MDGAN"
      ]
    },
    {
      "cell_type": "code",
      "execution_count": null,
      "metadata": {
        "colab": {
          "base_uri": "https://localhost:8080/"
        },
        "id": "Rviy7XaFQRM3",
        "outputId": "24200853-87bd-4d10-f73b-2c086797c9bd"
      },
      "outputs": [
        {
          "data": {
            "text/plain": [
              "0.005168246886038297"
            ]
          },
          "execution_count": 153,
          "metadata": {},
          "output_type": "execute_result"
        }
      ],
      "source": [
        "mdgan_map_5_actual = []\n",
        "\n",
        "for i in range(len(data_inverse_oh_test_Y)):\n",
        "  mdgan_map_5_actual.append(apk_act(data_inverse_oh_test_Y.iloc[i],list(pred_mdgan_top5.iloc[i]), k=5))\n",
        "\n",
        "map_MDGAN_actual = mean(mdgan_map_5_actual)\n",
        "map_MDGAN_actual"
      ]
    },
    {
      "cell_type": "code",
      "execution_count": null,
      "metadata": {
        "colab": {
          "base_uri": "https://localhost:8080/"
        },
        "id": "QXvgxAlKQRM4",
        "outputId": "589c96ad-f3d0-4524-ae1f-e84da059c93c"
      },
      "outputs": [
        {
          "data": {
            "text/plain": [
              "0.08254322364751812"
            ]
          },
          "execution_count": 154,
          "metadata": {},
          "output_type": "execute_result"
        }
      ],
      "source": [
        "mdgan_hit_5_actual = []\n",
        "\n",
        "for i in range(len(data_inverse_oh_test_Y)):\n",
        "  mdgan_hit_5_actual.append(hr_act(data_inverse_oh_test_Y.iloc[i],list(pred_mdgan_top5.iloc[i]), k=5))\n",
        "\n",
        "hr_MDGAN_actual = mean(mdgan_hit_5_actual)\n",
        "hr_MDGAN_actual"
      ]
    },
    {
      "cell_type": "code",
      "execution_count": null,
      "metadata": {
        "colab": {
          "base_uri": "https://localhost:8080/"
        },
        "id": "X4GMivtgQRM4",
        "outputId": "887fab14-4adb-412c-fb96-914661535a0d"
      },
      "outputs": [
        {
          "data": {
            "text/plain": [
              "0.025841234430191484"
            ]
          },
          "execution_count": 155,
          "metadata": {},
          "output_type": "execute_result"
        }
      ],
      "source": [
        "mdgan_rr_5_actual = []\n",
        "\n",
        "for i in range(len(data_inverse_oh_test_Y)):\n",
        "  mdgan_rr_5_actual.append(rr_act(data_inverse_oh_test_Y.iloc[i],list(pred_mdgan_top5.iloc[i]), k=5))\n",
        "\n",
        "rr_MDGAN_actual = mean(mdgan_rr_5_actual)\n",
        "rr_MDGAN_actual"
      ]
    },
    {
      "cell_type": "code",
      "execution_count": null,
      "metadata": {
        "colab": {
          "base_uri": "https://localhost:8080/"
        },
        "id": "4Fp-yUxqQRM4",
        "outputId": "ce97277a-e1d0-4aae-b49e-081fb63a79d0"
      },
      "outputs": [
        {
          "data": {
            "text/plain": [
              "0.01340343456202289"
            ]
          },
          "execution_count": 156,
          "metadata": {},
          "output_type": "execute_result"
        }
      ],
      "source": [
        "mdgan_ndcg_5_actual = []\n",
        "\n",
        "for i in range(len(data_inverse_oh_test_Y)):\n",
        "  mdgan_ndcg_5_actual.append(ndcg_act(data_inverse_oh_test_Y.iloc[i],list(pred_mdgan_top5.iloc[i]), k=5))\n",
        "\n",
        "ndcg_MDGAN_actual = mean(mdgan_ndcg_5_actual)\n",
        "ndcg_MDGAN_actual"
      ]
    },
    {
      "cell_type": "markdown",
      "metadata": {
        "id": "kSCXKFyHPLq6"
      },
      "source": [
        "# CF"
      ]
    },
    {
      "cell_type": "markdown",
      "metadata": {
        "id": "ji-PBdfbZoJN"
      },
      "source": [
        "## Data Preprocessing - CF"
      ]
    },
    {
      "cell_type": "code",
      "execution_count": null,
      "metadata": {
        "id": "GUgn03Z-cwSA"
      },
      "outputs": [],
      "source": [
        "user_int_data = pd.read_json('/content/drive/MyDrive/MOOCCube/additional_information/implicit_feedback.txt', lines=True)"
      ]
    },
    {
      "cell_type": "code",
      "execution_count": null,
      "metadata": {
        "id": "_xUnSsn8vih5"
      },
      "outputs": [],
      "source": [
        "user_item_int_list = []\n",
        "\n",
        "for i in range(user_int_data.shape[0]):\n",
        "  for j in range(len(user_int_data['activity'][i])):\n",
        "    user_item_int_list.append([user_int_data['id'][i],user_int_data['activity'][i][j]['course_id'],user_int_data['activity'][i][j]['watching_count']])"
      ]
    },
    {
      "cell_type": "code",
      "execution_count": null,
      "metadata": {
        "colab": {
          "base_uri": "https://localhost:8080/"
        },
        "id": "IZS9muTuyBpm",
        "outputId": "c8739cc2-4e17-4e18-8119-0aaa54a3ae35"
      },
      "outputs": [
        {
          "data": {
            "text/plain": [
              "[['U_8126464', 'C_course-v1:TsinghuaX+00740123_X+sp', 3],\n",
              " ['U_8126464', 'C_course-v1:TsinghuaX+00740123X+2019_T1', 3],\n",
              " ['U_8126464', 'C_course-v1:TsinghuaX+00740123_X+sp', 5],\n",
              " ['U_8126464', 'C_course-v1:TsinghuaX+00740123X+2019_T1', 5],\n",
              " ['U_8126464', 'C_course-v1:TsinghuaX+00740123_X+sp', 5],\n",
              " ['U_8126464', 'C_course-v1:TsinghuaX+00740123X+2019_T1', 5],\n",
              " ['U_8126464', 'C_course-v1:TsinghuaX+00740123_X+sp', 10],\n",
              " ['U_8126464', 'C_course-v1:TsinghuaX+00740123X+2019_T1', 10],\n",
              " ['U_8126464', 'C_course-v1:TsinghuaX+00740123_X+sp', 7],\n",
              " ['U_8126464', 'C_course-v1:TsinghuaX+00740123X+2019_T1', 7],\n",
              " ['U_8126464', 'C_course-v1:TsinghuaX+00740123_X+sp', 3],\n",
              " ['U_8126464', 'C_course-v1:TsinghuaX+00740123X+2019_T1', 3],\n",
              " ['U_8126464', 'C_course-v1:TsinghuaX+00740123_X+sp', 1],\n",
              " ['U_8126464', 'C_course-v1:TsinghuaX+00740123X+2019_T1', 1],\n",
              " ['U_8126464', 'C_course-v1:TsinghuaX+00740123_X+sp', 4],\n",
              " ['U_8126464', 'C_course-v1:TsinghuaX+00740123X+2019_T1', 4],\n",
              " ['U_8126464', 'C_course-v1:TsinghuaX+00740123_X+sp', 7],\n",
              " ['U_8126464', 'C_course-v1:TsinghuaX+00740123X+2019_T1', 7],\n",
              " ['U_8126464', 'C_course-v1:UST+UST001+sp', 1],\n",
              " ['U_8126464', 'C_course-v1:TsinghuaX+00740043X_2015_T2+sp', 2],\n",
              " ['U_8126464', 'C_course-v1:TsinghuaX+30240184+sp', 5],\n",
              " ['U_8126464', 'C_course-v1:TsinghuaX+30240184+sp', 2],\n",
              " ['U_8126464', 'C_course-v1:TsinghuaX+00740123_X+sp', 3],\n",
              " ['U_8126464', 'C_course-v1:TsinghuaX+00740123X+2019_T1', 3],\n",
              " ['U_8126464', 'C_course-v1:TsinghuaX+00740123_X+sp', 12],\n",
              " ['U_8126464', 'C_course-v1:TsinghuaX+00740123X+2019_T1', 12],\n",
              " ['U_8126464', 'C_course-v1:TsinghuaX+00740123_X+sp', 24],\n",
              " ['U_8126464', 'C_course-v1:TsinghuaX+00740123X+2019_T1', 24],\n",
              " ['U_8126464', 'C_course-v1:TsinghuaX+00740123_X+sp', 7],\n",
              " ['U_8126464', 'C_course-v1:TsinghuaX+00740123X+2019_T1', 7],\n",
              " ['U_8126464', 'C_course-v1:TsinghuaX+00740123_X+sp', 38],\n",
              " ['U_8126464', 'C_course-v1:TsinghuaX+00740123X+2019_T1', 38],\n",
              " ['U_8126464', 'C_course-v1:TsinghuaX+00740123_X+sp', 100],\n",
              " ['U_8126464', 'C_course-v1:TsinghuaX+00740123X+2019_T1', 100],\n",
              " ['U_8126464', 'C_course-v1:TsinghuaX+00740043X_2015_T2+sp', 4],\n",
              " ['U_8126464', 'C_course-v1:TsinghuaX+00740043X_2015_T2+sp', 1],\n",
              " ['U_8126464', 'C_course-v1:TsinghuaX+00740123_X+sp', 13],\n",
              " ['U_8126464', 'C_course-v1:TsinghuaX+00740123X+2019_T1', 13],\n",
              " ['U_8126464', 'C_course-v1:TsinghuaX+30240184+sp', 2],\n",
              " ['U_8126464', 'C_course-v1:TsinghuaX+00740123_X+sp', 3],\n",
              " ['U_8126464', 'C_course-v1:TsinghuaX+00740123X+2019_T1', 3],\n",
              " ['U_8126464', 'C_course-v1:TsinghuaX+30240184+sp', 1],\n",
              " ['U_8126464', 'C_course-v1:TsinghuaX+30240184+sp', 4],\n",
              " ['U_8126464', 'C_course-v1:TsinghuaX+00740123_X+sp', 3],\n",
              " ['U_8126464', 'C_course-v1:TsinghuaX+00740123X+2019_T1', 3],\n",
              " ['U_8126464', 'C_course-v1:TsinghuaX+00740123_X+sp', 1],\n",
              " ['U_8126464', 'C_course-v1:TsinghuaX+00740123X+2019_T1', 1],\n",
              " ['U_8126464', 'C_course-v1:UST+UST001+sp', 3],\n",
              " ['U_8126464', 'C_course-v1:TsinghuaX+00740123_X+sp', 15],\n",
              " ['U_8126464', 'C_course-v1:TsinghuaX+00740123X+2019_T1', 15],\n",
              " ['U_8126464', 'C_course-v1:TsinghuaX+00740123_X+sp', 9],\n",
              " ['U_8126464', 'C_course-v1:TsinghuaX+00740123X+2019_T1', 9],\n",
              " ['U_8126464', 'C_course-v1:TsinghuaX+30240184+sp', 16],\n",
              " ['U_8126464', 'C_course-v1:TsinghuaX+00740123_X+sp', 39],\n",
              " ['U_8126464', 'C_course-v1:TsinghuaX+00740123X+2019_T1', 39],\n",
              " ['U_8126464', 'C_course-v1:TsinghuaX+00740043X_2015_T2+sp', 4],\n",
              " ['U_8126464', 'C_course-v1:TsinghuaX+30240184+sp', 2],\n",
              " ['U_8126464', 'C_course-v1:TsinghuaX+00740123_X+sp', 12],\n",
              " ['U_8126464', 'C_course-v1:TsinghuaX+00740123X+2019_T1', 12],\n",
              " ['U_8126464', 'C_course-v1:TsinghuaX+00740123_X+sp', 30],\n",
              " ['U_8126464', 'C_course-v1:TsinghuaX+00740123X+2019_T1', 30],\n",
              " ['U_8126464', 'C_course-v1:TsinghuaX+00740123_X+sp', 29],\n",
              " ['U_8126464', 'C_course-v1:TsinghuaX+00740123X+2019_T1', 29],\n",
              " ['U_8126464', 'C_course-v1:TsinghuaX+30240184+sp', 5],\n",
              " ['U_8126464', 'C_course-v1:TsinghuaX+00740123_X+sp', 19],\n",
              " ['U_8126464', 'C_course-v1:TsinghuaX+00740123X+2019_T1', 19],\n",
              " ['U_8126464', 'C_course-v1:TsinghuaX+30240184+sp', 16],\n",
              " ['U_8126464', 'C_course-v1:TsinghuaX+00740123_X+sp', 3],\n",
              " ['U_8126464', 'C_course-v1:TsinghuaX+00740123X+2019_T1', 3],\n",
              " ['U_8126464', 'C_course-v1:TsinghuaX+30240184+sp', 5],\n",
              " ['U_8126464', 'C_course-v1:TsinghuaX+00740123_X+sp', 3],\n",
              " ['U_8126464', 'C_course-v1:TsinghuaX+00740123X+2019_T1', 3],\n",
              " ['U_8126464', 'C_course-v1:TsinghuaX+00740123_X+sp', 38],\n",
              " ['U_8126464', 'C_course-v1:TsinghuaX+00740123X+2019_T1', 38],\n",
              " ['U_8126464', 'C_course-v1:TsinghuaX+00740123_X+sp', 3],\n",
              " ['U_8126464', 'C_course-v1:TsinghuaX+00740123X+2019_T1', 3],\n",
              " ['U_8126464', 'C_course-v1:TsinghuaX+00740123_X+sp', 10],\n",
              " ['U_8126464', 'C_course-v1:TsinghuaX+00740123X+2019_T1', 10],\n",
              " ['U_8126464', 'C_course-v1:TsinghuaX+00740123_X+sp', 4],\n",
              " ['U_8126464', 'C_course-v1:TsinghuaX+00740123X+2019_T1', 4],\n",
              " ['U_8126464', 'C_course-v1:TsinghuaX+00740123_X+sp', 3],\n",
              " ['U_8126464', 'C_course-v1:TsinghuaX+00740123X+2019_T1', 3],\n",
              " ['U_8126464', 'C_course-v1:TsinghuaX+00740123_X+sp', 9],\n",
              " ['U_8126464', 'C_course-v1:TsinghuaX+00740123X+2019_T1', 9],\n",
              " ['U_8126464', 'C_course-v1:TsinghuaX+00740043X_2015_T2+sp', 3],\n",
              " ['U_8126464', 'C_course-v1:TsinghuaX+00740123_X+sp', 2],\n",
              " ['U_8126464', 'C_course-v1:TsinghuaX+00740123X+2019_T1', 2],\n",
              " ['U_8126464', 'C_course-v1:TsinghuaX+00740043X_2015_T2+sp', 3],\n",
              " ['U_8126464', 'C_course-v1:TsinghuaX+00740123_X+sp', 17],\n",
              " ['U_8126464', 'C_course-v1:TsinghuaX+00740123X+2019_T1', 17],\n",
              " ['U_8126464', 'C_course-v1:TsinghuaX+00740123_X+sp', 5],\n",
              " ['U_8126464', 'C_course-v1:TsinghuaX+00740123X+2019_T1', 5],\n",
              " ['U_8126464', 'C_course-v1:TsinghuaX+30240184+sp', 2],\n",
              " ['U_8126464', 'C_course-v1:TsinghuaX+00740043X_2015_T2+sp', 3],\n",
              " ['U_8126464', 'C_course-v1:TsinghuaX+30240184+sp', 9],\n",
              " ['U_8126464', 'C_course-v1:TsinghuaX+00740123_X+sp', 23],\n",
              " ['U_8126464', 'C_course-v1:TsinghuaX+00740123X+2019_T1', 23],\n",
              " ['U_8126464', 'C_course-v1:TsinghuaX+30240184+sp', 4],\n",
              " ['U_8126464', 'C_course-v1:TsinghuaX+00740123_X+sp', 4],\n",
              " ['U_8126464', 'C_course-v1:TsinghuaX+00740123X+2019_T1', 4],\n",
              " ['U_8126464', 'C_course-v1:TsinghuaX+00740123_X+sp', 3],\n",
              " ['U_8126464', 'C_course-v1:TsinghuaX+00740123X+2019_T1', 3],\n",
              " ['U_8126464', 'C_course-v1:TsinghuaX+00740123_X+sp', 3],\n",
              " ['U_8126464', 'C_course-v1:TsinghuaX+00740123X+2019_T1', 3],\n",
              " ['U_8126464', 'C_course-v1:TsinghuaX+00740123_X+sp', 14],\n",
              " ['U_8126464', 'C_course-v1:TsinghuaX+00740123X+2019_T1', 14],\n",
              " ['U_8126464', 'C_course-v1:TsinghuaX+00740123_X+sp', 3],\n",
              " ['U_8126464', 'C_course-v1:TsinghuaX+00740123X+2019_T1', 3],\n",
              " ['U_8126464', 'C_course-v1:TsinghuaX+00740043X_2015_T2+sp', 5],\n",
              " ['U_8126464', 'C_course-v1:TsinghuaX+00740123_X+sp', 4],\n",
              " ['U_8126464', 'C_course-v1:TsinghuaX+00740123X+2019_T1', 4],\n",
              " ['U_8126464', 'C_course-v1:TsinghuaX+00740043X_2015_T2+sp', 2],\n",
              " ['U_8126464', 'C_course-v1:TsinghuaX+00740123_X+sp', 57],\n",
              " ['U_8126464', 'C_course-v1:TsinghuaX+00740123X+2019_T1', 57],\n",
              " ['U_8126464', 'C_course-v1:TsinghuaX+00740123_X+sp', 23],\n",
              " ['U_8126464', 'C_course-v1:TsinghuaX+00740123X+2019_T1', 23],\n",
              " ['U_8126464', 'C_course-v1:TsinghuaX+00740123_X+sp', 9],\n",
              " ['U_8126464', 'C_course-v1:TsinghuaX+00740123X+2019_T1', 9],\n",
              " ['U_8126464', 'C_course-v1:TsinghuaX+00740123_X+sp', 4],\n",
              " ['U_8126464', 'C_course-v1:TsinghuaX+00740123X+2019_T1', 4],\n",
              " ['U_8126464', 'C_course-v1:TsinghuaX+00740123_X+sp', 4],\n",
              " ['U_8126464', 'C_course-v1:TsinghuaX+00740123X+2019_T1', 4],\n",
              " ['U_8126464', 'C_course-v1:TsinghuaX+00740123_X+sp', 3],\n",
              " ['U_8126464', 'C_course-v1:TsinghuaX+00740123X+2019_T1', 3],\n",
              " ['U_8126464', 'C_course-v1:TsinghuaX+00740123_X+sp', 6],\n",
              " ['U_8126464', 'C_course-v1:TsinghuaX+00740123X+2019_T1', 6],\n",
              " ['U_8126464', 'C_course-v1:TsinghuaX+00740123_X+sp', 5],\n",
              " ['U_8126464', 'C_course-v1:TsinghuaX+00740123X+2019_T1', 5],\n",
              " ['U_8126464', 'C_course-v1:TsinghuaX+00740123_X+sp', 2],\n",
              " ['U_8126464', 'C_course-v1:TsinghuaX+00740123X+2019_T1', 2],\n",
              " ['U_8126464', 'C_course-v1:TsinghuaX+00740123_X+sp', 8],\n",
              " ['U_8126464', 'C_course-v1:TsinghuaX+00740123X+2019_T1', 8],\n",
              " ['U_8126464', 'C_course-v1:TsinghuaX+30240184+sp', 10],\n",
              " ['U_8126464', 'C_course-v1:TsinghuaX+00740123_X+sp', 8],\n",
              " ['U_8126464', 'C_course-v1:TsinghuaX+00740123X+2019_T1', 8],\n",
              " ['U_8126464', 'C_course-v1:TsinghuaX+00740043X_2015_T2+sp', 9],\n",
              " ['U_8126464', 'C_course-v1:TsinghuaX+00740123_X+sp', 23],\n",
              " ['U_8126464', 'C_course-v1:TsinghuaX+00740123X+2019_T1', 23],\n",
              " ['U_8126464', 'C_course-v1:TsinghuaX+00740123_X+sp', 2],\n",
              " ['U_8126464', 'C_course-v1:TsinghuaX+00740123X+2019_T1', 2],\n",
              " ['U_8126464', 'C_course-v1:TsinghuaX+00740123_X+sp', 9],\n",
              " ['U_8126464', 'C_course-v1:TsinghuaX+00740123X+2019_T1', 9],\n",
              " ['U_8126464', 'C_course-v1:TsinghuaX+00740123_X+sp', 37],\n",
              " ['U_8126464', 'C_course-v1:TsinghuaX+00740123X+2019_T1', 37],\n",
              " ['U_8126464', 'C_course-v1:TsinghuaX+00740043X_2015_T2+sp', 7],\n",
              " ['U_8126464', 'C_course-v1:TsinghuaX+00740043X_2015_T2+sp', 18],\n",
              " ['U_8126464', 'C_course-v1:TsinghuaX+00740123_X+sp', 7],\n",
              " ['U_8126464', 'C_course-v1:TsinghuaX+00740123X+2019_T1', 7],\n",
              " ['U_8126464', 'C_course-v1:TsinghuaX+30240184+sp', 1],\n",
              " ['U_8126464', 'C_course-v1:TsinghuaX+00740123_X+sp', 26],\n",
              " ['U_8126464', 'C_course-v1:TsinghuaX+00740123X+2019_T1', 26],\n",
              " ['U_8126464', 'C_course-v1:TsinghuaX+30240184+sp', 10],\n",
              " ['U_8126464', 'C_course-v1:TsinghuaX+30240184+sp', 1],\n",
              " ['U_8126464', 'C_course-v1:TsinghuaX+00740123_X+sp', 17],\n",
              " ['U_8126464', 'C_course-v1:TsinghuaX+00740123X+2019_T1', 17],\n",
              " ['U_8126464', 'C_course-v1:TsinghuaX+00740123_X+sp', 28],\n",
              " ['U_8126464', 'C_course-v1:TsinghuaX+00740123X+2019_T1', 28],\n",
              " ['U_8126464', 'C_course-v1:TsinghuaX+00740123_X+sp', 3],\n",
              " ['U_8126464', 'C_course-v1:TsinghuaX+00740123X+2019_T1', 3],\n",
              " ['U_8126464', 'C_course-v1:TsinghuaX+00740123_X+sp', 1],\n",
              " ['U_8126464', 'C_course-v1:TsinghuaX+00740123X+2019_T1', 1],\n",
              " ['U_8126464', 'C_course-v1:TsinghuaX+30240184+sp', 7],\n",
              " ['U_8126464', 'C_course-v1:TsinghuaX+30240184+sp', 2],\n",
              " ['U_8126464', 'C_course-v1:TsinghuaX+00740043X_2015_T2+sp', 2],\n",
              " ['U_8126464', 'C_course-v1:TsinghuaX+00740123_X+sp', 2],\n",
              " ['U_8126464', 'C_course-v1:TsinghuaX+00740123X+2019_T1', 2],\n",
              " ['U_8126464', 'C_course-v1:TsinghuaX+00740123_X+sp', 11],\n",
              " ['U_8126464', 'C_course-v1:TsinghuaX+00740123X+2019_T1', 11],\n",
              " ['U_8126464', 'C_course-v1:TsinghuaX+00740123_X+sp', 6],\n",
              " ['U_8126464', 'C_course-v1:TsinghuaX+00740123X+2019_T1', 6],\n",
              " ['U_8126464', 'C_course-v1:TsinghuaX+00740123_X+sp', 2],\n",
              " ['U_8126464', 'C_course-v1:TsinghuaX+00740123X+2019_T1', 2],\n",
              " ['U_8126464', 'C_course-v1:TsinghuaX+00740123_X+sp', 11],\n",
              " ['U_8126464', 'C_course-v1:TsinghuaX+00740123X+2019_T1', 11],\n",
              " ['U_8126464', 'C_course-v1:TsinghuaX+30240184+sp', 6],\n",
              " ['U_8126464', 'C_course-v1:TsinghuaX+30240184+sp', 3],\n",
              " ['U_8126464', 'C_course-v1:TsinghuaX+30240184+sp', 6],\n",
              " ['U_8126464', 'C_course-v1:TsinghuaX+30240184+sp', 1],\n",
              " ['U_8126464', 'C_course-v1:TsinghuaX+30240184+sp', 3],\n",
              " ['U_8126464', 'C_course-v1:TsinghuaX+00740123_X+sp', 19],\n",
              " ['U_8126464', 'C_course-v1:TsinghuaX+00740123X+2019_T1', 19],\n",
              " ['U_8126464', 'C_course-v1:TsinghuaX+00740123_X+sp', 2],\n",
              " ['U_8126464', 'C_course-v1:TsinghuaX+00740123X+2019_T1', 2],\n",
              " ['U_8126464', 'C_course-v1:TsinghuaX+00740123_X+sp', 12],\n",
              " ['U_8126464', 'C_course-v1:TsinghuaX+00740123X+2019_T1', 12],\n",
              " ['U_8126464', 'C_course-v1:TsinghuaX+00740123_X+sp', 11],\n",
              " ['U_8126464', 'C_course-v1:TsinghuaX+00740123X+2019_T1', 11],\n",
              " ['U_8650752', 'C_course-v1:TsinghuaX+00740043X_2015_T2+sp', 12],\n",
              " ['U_8650752', 'C_course-v1:TsinghuaX+30640014X+sp', 5],\n",
              " ['U_8650752', 'C_course-v1:TsinghuaX+00740043X_2015_T2+sp', 2],\n",
              " ['U_8650752', 'C_course-v1:TsinghuaX+00740043X_2015_T2+sp', 3],\n",
              " ['U_8650752', 'C_course-v1:TsinghuaX+30240184+sp', 1],\n",
              " ['U_8650752', 'C_course-v1:TsinghuaX+30240184+sp', 2],\n",
              " ['U_8650752', 'C_course-v1:TsinghuaX+30240184+sp', 3],\n",
              " ['U_8650752', 'C_course-v1:TsinghuaX+00740043X_2015_T2+sp', 4],\n",
              " ['U_8650752', 'C_course-v1:TsinghuaX+30240184+sp', 2],\n",
              " ['U_8650752', 'C_course-v1:TsinghuaX+00740043X_2015_T2+sp', 5],\n",
              " ['U_8650752', 'C_course-v1:TsinghuaX+00740043X_2015_T2+sp', 8],\n",
              " ['U_8650752', 'C_course-v1:TsinghuaX+00740043X_2015_T2+sp', 2],\n",
              " ['U_8650752', 'C_course-v1:TsinghuaX+00740043X_2015_T2+sp', 5],\n",
              " ['U_8650752', 'C_course-v1:TsinghuaX+00740043X_2015_T2+sp', 12],\n",
              " ['U_8650752', 'C_course-v1:TsinghuaX+30240184+sp', 1],\n",
              " ['U_8650752', 'C_course-v1:TsinghuaX+00740043X_2015_T2+sp', 2],\n",
              " ['U_8650752', 'C_course-v1:TsinghuaX+00740043X_2015_T2+sp', 1],\n",
              " ['U_8650752', 'C_course-v1:TsinghuaX+00740043X_2015_T2+sp', 4],\n",
              " ['U_8650752', 'C_course-v1:TsinghuaX+00740043X_2015_T2+sp', 4],\n",
              " ['U_8650752', 'C_course-v1:TsinghuaX+30640014X+sp', 1],\n",
              " ['U_8650752', 'C_course-v1:TsinghuaX+10421075X_2015_2+sp', 8],\n",
              " ['U_8650752', 'C_course-v1:TsinghuaX+30640014X+sp', 5],\n",
              " ['U_8650752', 'C_course-v1:TsinghuaX+00740043X_2015_T2+sp', 2],\n",
              " ['U_8650752', 'C_course-v1:TsinghuaX+30240184+sp', 3],\n",
              " ['U_8650752', 'C_course-v1:TsinghuaX+30640014X+sp', 2],\n",
              " ['U_8650752', 'C_course-v1:TsinghuaX+30240184+sp', 1],\n",
              " ['U_8650752', 'C_course-v1:TsinghuaX+30240184+sp', 2],\n",
              " ['U_8650752', 'C_course-v1:TsinghuaX+30240184+sp', 9],\n",
              " ['U_8650752', 'C_course-v1:JXUST+JXUST2016001+2016_T2', 2],\n",
              " ['U_8650752', 'C_course-v1:TsinghuaX+00740043X_2015_T2+sp', 4],\n",
              " ['U_8650752', 'C_course-v1:TsinghuaX+30240184+sp', 2],\n",
              " ['U_8650752', 'C_course-v1:TsinghuaX+00740043X_2015_T2+sp', 6],\n",
              " ['U_8650752', 'C_course-v1:TsinghuaX+00740043X_2015_T2+sp', 10],\n",
              " ['U_8650752', 'C_course-v1:TsinghuaX+00740043X_2015_T2+sp', 3],\n",
              " ['U_8650752', 'C_course-v1:TsinghuaX+00740043X_2015_T2+sp', 2],\n",
              " ['U_8650752', 'C_course-v1:TsinghuaX+00740043X_2015_T2+sp', 16],\n",
              " ['U_8650752', 'C_course-v1:TsinghuaX+30240184+sp', 4],\n",
              " ['U_8650752', 'C_course-v1:TsinghuaX+00740043X_2015_T2+sp', 4],\n",
              " ['U_8650752', 'C_course-v1:TsinghuaX+10421075X_2015_2+sp', 13],\n",
              " ['U_8650752', 'C_course-v1:TsinghuaX+10421075X_2015_2+sp', 12],\n",
              " ['U_8650752', 'C_course-v1:TsinghuaX+00740043X_2015_T2+sp', 19],\n",
              " ['U_8650752', 'C_course-v1:TsinghuaX+30640014X+sp', 2],\n",
              " ['U_8650752', 'C_course-v1:TsinghuaX+00740043X_2015_T2+sp', 2],\n",
              " ['U_8650752', 'C_course-v1:TsinghuaX+30240184+sp', 9],\n",
              " ['U_8650752', 'C_course-v1:TsinghuaX+00740043X_2015_T2+sp', 4],\n",
              " ['U_8650752', 'C_course-v1:TsinghuaX+00740043X_2015_T2+sp', 3],\n",
              " ['U_8650752', 'C_course-v1:TsinghuaX+00740043X_2015_T2+sp', 11],\n",
              " ['U_8650752', 'C_course-v1:TsinghuaX+00740043X_2015_T2+sp', 6],\n",
              " ['U_8650752', 'C_course-v1:TsinghuaX+30240184+sp', 5],\n",
              " ['U_8650752', 'C_course-v1:TsinghuaX+30640014X+sp', 9],\n",
              " ['U_8650752', 'C_course-v1:TsinghuaX+00740043X_2015_T2+sp', 8],\n",
              " ['U_8650752', 'C_course-v1:TsinghuaX+30640014X+sp', 2],\n",
              " ['U_8650752', 'C_course-v1:TsinghuaX+00740043X_2015_T2+sp', 8],\n",
              " ['U_8650752', 'C_course-v1:TsinghuaX+00740043X_2015_T2+sp', 1],\n",
              " ['U_8650752', 'C_course-v1:TsinghuaX+00740043X_2015_T2+sp', 20],\n",
              " ['U_8650752', 'C_course-v1:TsinghuaX+00740043X_2015_T2+sp', 7],\n",
              " ['U_8650752', 'C_course-v1:TsinghuaX+30640014X+sp', 3],\n",
              " ['U_8650752', 'C_course-v1:JXUST+JXUST2016001+2016_T2', 1],\n",
              " ['U_8650752', 'C_course-v1:TsinghuaX+30240184+sp', 10],\n",
              " ['U_8650752', 'C_course-v1:TsinghuaX+30240184+sp', 1],\n",
              " ['U_8650752', 'C_course-v1:TsinghuaX+00740043X_2015_T2+sp', 1],\n",
              " ['U_8650752', 'C_course-v1:TsinghuaX+00740043X_2015_T2+sp', 16],\n",
              " ['U_8650752', 'C_course-v1:TsinghuaX+00740043X_2015_T2+sp', 1],\n",
              " ['U_8650752', 'C_course-v1:TsinghuaX+30240184+sp', 2],\n",
              " ['U_8650752', 'C_course-v1:TsinghuaX+00740043X_2015_T2+sp', 5],\n",
              " ['U_8650752', 'C_course-v1:TsinghuaX+00740043X_2015_T2+sp', 3],\n",
              " ['U_8650752', 'C_course-v1:TsinghuaX+00740043X_2015_T2+sp', 6],\n",
              " ['U_8650752', 'C_course-v1:TsinghuaX+00740043X_2015_T2+sp', 4],\n",
              " ['U_8650752', 'C_course-v1:TsinghuaX+30240184+sp', 4],\n",
              " ['U_8650752', 'C_course-v1:TsinghuaX+30240184+sp', 1],\n",
              " ['U_8650752', 'C_course-v1:TsinghuaX+00740043X_2015_T2+sp', 2],\n",
              " ['U_8650752', 'C_course-v1:TsinghuaX+00740043X_2015_T2+sp', 6],\n",
              " ['U_8650752', 'C_course-v1:TsinghuaX+00740043X_2015_T2+sp', 2],\n",
              " ['U_8650752', 'C_course-v1:TsinghuaX+30640014X+sp', 1],\n",
              " ['U_8650752', 'C_course-v1:TsinghuaX+30240184+sp', 7],\n",
              " ['U_8650752', 'C_course-v1:TsinghuaX+30640014X+sp', 8],\n",
              " ['U_8650752', 'C_course-v1:TsinghuaX+00740043X_2015_T2+sp', 2],\n",
              " ['U_8650752', 'C_course-v1:TsinghuaX+30240184+sp', 10],\n",
              " ['U_8650752', 'C_course-v1:TsinghuaX+00740043X_2015_T2+sp', 1],\n",
              " ['U_8650752', 'C_course-v1:TsinghuaX+30640014X+sp', 1],\n",
              " ['U_8650752', 'C_course-v1:TsinghuaX+00740043X_2015_T2+sp', 4],\n",
              " ['U_8650752', 'C_course-v1:TsinghuaX+30240184+sp', 7],\n",
              " ['U_8650752', 'C_course-v1:TsinghuaX+30240184+sp', 2],\n",
              " ['U_8650752', 'C_course-v1:TsinghuaX+30240184+sp', 1],\n",
              " ['U_8650752', 'C_course-v1:TsinghuaX+00740043X_2015_T2+sp', 4],\n",
              " ['U_8650752', 'C_course-v1:TsinghuaX+30240184+sp', 1],\n",
              " ['U_8650752', 'C_course-v1:TsinghuaX+00740043X_2015_T2+sp', 2],\n",
              " ['U_8650752', 'C_course-v1:TsinghuaX+00740043X_2015_T2+sp', 3],\n",
              " ['U_8650752', 'C_course-v1:TsinghuaX+30640014X+sp', 2],\n",
              " ['U_8650752', 'C_course-v1:TsinghuaX+00740043X_2015_T2+sp', 2],\n",
              " ['U_8650752', 'C_course-v1:TsinghuaX+00740043X_2015_T2+sp', 2],\n",
              " ['U_8650752', 'C_course-v1:TsinghuaX+10421075X_2015_2+sp', 2],\n",
              " ['U_8650752', 'C_course-v1:TsinghuaX+30240184+sp', 1],\n",
              " ['U_8650752', 'C_course-v1:TsinghuaX+00740043X_2015_T2+sp', 8],\n",
              " ['U_131074', 'C_course-v1:TsinghuaX+30240184_2X+sp', 1],\n",
              " ['U_131074', 'C_course-v1:TsinghuaX+30240184+sp', 2],\n",
              " ['U_131074', 'C_course-v1:TsinghuaX+30240184_2X+sp', 4],\n",
              " ['U_131074', 'C_course-v1:TsinghuaX+30240184_2X+sp', 3],\n",
              " ['U_131074', 'C_course-v1:TsinghuaX+30240243X+sp', 1],\n",
              " ['U_131074', 'C_course-v1:TsinghuaX+30240184+sp', 5],\n",
              " ['U_131074', 'C_course-v1:TsinghuaX+30240184+sp', 2],\n",
              " ['U_131074', 'C_course-v1:TsinghuaX+30240184_2X+sp', 1],\n",
              " ['U_131074', 'C_course-v1:TsinghuaX+00740043X_2015_T2+sp', 4],\n",
              " ['U_131074', 'C_course-v1:TsinghuaX+30240184_2X+sp', 4],\n",
              " ['U_131074', 'C_course-v1:TsinghuaX+30240184+sp', 10],\n",
              " ['U_131074', 'C_course-v1:TsinghuaX+30240184+sp', 2],\n",
              " ['U_131074', 'C_course-v1:TsinghuaX+00740043_2x_2015_T2+sp', 3],\n",
              " ['U_131074', 'C_course-v1:TsinghuaX+00612642X+sp', 2],\n",
              " ['U_131074', 'C_course-v1:TsinghuaX+30240243X+sp', 1],\n",
              " ['U_131074', 'C_course-v1:TsinghuaX+00612642X+sp', 1],\n",
              " ['U_131074', 'C_course-v1:TsinghuaX+30240243X+sp', 1],\n",
              " ['U_131074', 'C_course-v1:TsinghuaX+30240184+sp', 3],\n",
              " ['U_131074', 'C_course-v1:TsinghuaX+30240243X+sp', 2],\n",
              " ['U_131074', 'C_course-v1:TsinghuaX+00740043X_2015_T2+sp', 4],\n",
              " ['U_131074', 'C_course-v1:TsinghuaX+30240184+sp', 3],\n",
              " ['U_131074', 'C_course-v1:TsinghuaX+30240184+sp', 1],\n",
              " ['U_131074', 'C_course-v1:TsinghuaX+30240184+sp', 1],\n",
              " ['U_131074', 'C_course-v1:TsinghuaX+30240184_2X+sp', 1],\n",
              " ['U_131074', 'C_course-v1:TsinghuaX+30240184_2X+sp', 4],\n",
              " ['U_131074', 'C_course-v1:TsinghuaX+30240184+sp', 1],\n",
              " ['U_131074', 'C_course-v1:TsinghuaX+30240184+sp', 2],\n",
              " ['U_262145', 'C_course-v1:BIT+BIT2016001+sp', 1],\n",
              " ['U_262145', 'C_course-v1:BIT+BIT2016001+sp', 1],\n",
              " ['U_262145', 'C_course-v1:BIT+BIT2016001+sp', 2],\n",
              " ['U_262145', 'C_course-v1:BIT+BIT2016001+sp', 3],\n",
              " ['U_262145', 'C_course-v1:BIT+BIT2016001+sp', 1],\n",
              " ['U_262145', 'C_course-v1:BIT+BIT2016001+sp', 2],\n",
              " ['U_262145', 'C_course-v1:BIT+BIT2016001+sp', 1],\n",
              " ['U_262145', 'C_course-v1:BIT+BIT2016001+sp', 1],\n",
              " ['U_262145', 'C_course-v1:BIT+BIT2016001+sp', 1],\n",
              " ['U_262145', 'C_course-v1:BIT+BIT2016001+sp', 1],\n",
              " ['U_262145', 'C_course-v1:BIT+BIT2016001+sp', 3],\n",
              " ['U_262145', 'C_course-v1:BIT+BIT2016001+sp', 1],\n",
              " ['U_262145', 'C_course-v1:BIT+BIT2016001+sp', 2],\n",
              " ['U_262145', 'C_course-v1:BIT+BIT2016001+sp', 1],\n",
              " ['U_262145', 'C_course-v1:BIT+BIT2016001+sp', 1],\n",
              " ['U_262145', 'C_course-v1:BIT+BIT2016001+sp', 3],\n",
              " ['U_262145', 'C_course-v1:MITx+6_00_1x+sp', 3],\n",
              " ['U_262145', 'C_course-v1:BIT+BIT2016001+sp', 2],\n",
              " ['U_262145', 'C_course-v1:BIT+BIT2016001+sp', 2],\n",
              " ['U_262145', 'C_course-v1:BIT+BIT2016001+sp', 1],\n",
              " ['U_262145', 'C_course-v1:BIT+BIT2016001+sp', 1],\n",
              " ['U_262145', 'C_course-v1:BIT+BIT2016001+sp', 1],\n",
              " ['U_262145', 'C_course-v1:MITx+6_00_1x+sp', 3],\n",
              " ['U_262145', 'C_course-v1:MITx+6_00_1x+sp', 1],\n",
              " ['U_262145', 'C_course-v1:MITx+6_00_1x+sp', 3],\n",
              " ['U_262145', 'C_course-v1:MITx+6_00_1x+sp', 2],\n",
              " ['U_262145', 'C_course-v1:MITx+6_00_1x+sp', 4],\n",
              " ['U_262145', 'C_course-v1:MITx+6_00_1x+sp', 2],\n",
              " ['U_262145', 'C_course-v1:MITx+6_00_1x+sp', 6],\n",
              " ['U_262145', 'C_course-v1:MITx+6_00_1x+sp', 4],\n",
              " ['U_262145', 'C_course-v1:MITx+6_00_1x+sp', 1],\n",
              " ['U_262145', 'C_course-v1:MITx+6_00_1x+sp', 1],\n",
              " ['U_262145', 'C_course-v1:MITx+6_00_1x+sp', 4],\n",
              " ['U_262145', 'C_course-v1:MITx+6_00_1x+sp', 1],\n",
              " ['U_262145', 'C_course-v1:MITx+6_00_1x+sp', 4],\n",
              " ['U_262145', 'C_course-v1:BIT+BIT2016001+sp', 1],\n",
              " ['U_262145', 'C_course-v1:BIT+BIT2016001+sp', 1],\n",
              " ['U_262145', 'C_course-v1:BIT+BIT2016001+sp', 1],\n",
              " ['U_262145', 'C_course-v1:BIT+BIT2016001+sp', 1],\n",
              " ['U_262145', 'C_course-v1:MITx+6_00_1x+sp', 7],\n",
              " ['U_262145', 'C_course-v1:BIT+BIT2016001+sp', 2],\n",
              " ['U_262145', 'C_course-v1:BIT+BIT2016001+sp', 1],\n",
              " ['U_262145', 'C_course-v1:BIT+BIT2016001+sp', 1],\n",
              " ['U_1441801', 'C_course-v1:TsinghuaX+20150001+2019_T1', 2],\n",
              " ['U_1441801', 'C_course-v1:Tsinghua+20150001+sp', 2],\n",
              " ['U_1441801', 'C_course-v1:TsinghuaX+00690092X+sp', 1],\n",
              " ['U_1441801', 'C_course-v1:TsinghuaX+20150001+2019_T1', 11],\n",
              " ['U_1441801', 'C_course-v1:Tsinghua+20150001+sp', 11],\n",
              " ['U_1441801', 'C_course-v1:TsinghuaX+00690092X+sp', 1],\n",
              " ['U_1441801', 'C_course-v1:TsinghuaX+00690212X+sp', 5],\n",
              " ['U_1441801', 'C_course-v1:TsinghuaX+20150001+2019_T1', 5],\n",
              " ['U_1441801', 'C_course-v1:Tsinghua+20150001+sp', 5],\n",
              " ['U_1441801', 'C_course-v1:TsinghuaX+20150001+2019_T1', 2],\n",
              " ['U_1441801', 'C_course-v1:Tsinghua+20150001+sp', 2],\n",
              " ['U_1441801', 'C_course-v1:TsinghuaX+00690212X+sp', 4],\n",
              " ['U_1441801', 'C_course-v1:TsinghuaX+00690092X+sp', 2],\n",
              " ['U_1441801', 'C_course-v1:TsinghuaX+20150001+2019_T1', 2],\n",
              " ['U_1441801', 'C_course-v1:Tsinghua+20150001+sp', 2],\n",
              " ['U_1441801', 'C_course-v1:TsinghuaX+20150001+2019_T1', 1],\n",
              " ['U_1441801', 'C_course-v1:Tsinghua+20150001+sp', 1],\n",
              " ['U_10485779', 'C_course-v1:TsinghuaX+10430484X_2015_2+sp', 8],\n",
              " ['U_10485779', 'C_course-v1:TsinghuaX+20120143X+sp', 1],\n",
              " ['U_10485779', 'C_course-v1:TsinghuaX+20120143X+2019_T1', 1],\n",
              " ['U_10485779', 'C_course-v1:TsinghuaX+30640014X+sp', 5],\n",
              " ['U_10485779', 'C_course-v1:TsinghuaX+30640014X+2019_T1', 5],\n",
              " ['U_10485779', 'C_course-v1:TsinghuaX+0350161X_2015_T2+sp', 2],\n",
              " ['U_10485779', 'C_course-v1:TsinghuaX+20440333X+sp', 3],\n",
              " ['U_10485779', 'C_course-v1:TsinghuaX+20440333X+2019_T1', 3],\n",
              " ['U_10485779', 'C_course-v1:TsinghuaX+0350161X_2015_T2+sp', 1],\n",
              " ['U_10485779', 'C_course-v1:TsinghuaX+10430484X_2015_2+sp', 2],\n",
              " ['U_10485779', 'C_course-v1:TsinghuaX+30640014X+sp', 12],\n",
              " ['U_10485779', 'C_course-v1:TsinghuaX+30640014X+2019_T1', 12],\n",
              " ['U_10485779', 'C_course-v1:TsinghuaX+30640014X+sp', 4],\n",
              " ['U_10485779', 'C_course-v1:TsinghuaX+30640014X+2019_T1', 4],\n",
              " ['U_10485779', 'C_course-v1:TsinghuaX+20120143X+sp', 5],\n",
              " ['U_10485779', 'C_course-v1:TsinghuaX+20120143X+2019_T1', 5],\n",
              " ['U_10485779', 'C_course-v1:TsinghuaX+20440333X+sp', 3],\n",
              " ['U_10485779', 'C_course-v1:TsinghuaX+20440333X+2019_T1', 3],\n",
              " ['U_10485779', 'C_course-v1:TsinghuaX+10430484X_2015_2+sp', 6],\n",
              " ['U_10485779', 'C_course-v1:TsinghuaX+30640014X+sp', 1],\n",
              " ['U_10485779', 'C_course-v1:TsinghuaX+30640014X+2019_T1', 1],\n",
              " ['U_10485779', 'C_course-v1:TsinghuaX+20120143X+sp', 1],\n",
              " ['U_10485779', 'C_course-v1:TsinghuaX+20120143X+2019_T1', 1],\n",
              " ['U_10485779', 'C_course-v1:TsinghuaX+20120143X+sp', 3],\n",
              " ['U_10485779', 'C_course-v1:TsinghuaX+20120143X+2019_T1', 3],\n",
              " ['U_10485779', 'C_course-v1:TsinghuaX+10430484X_2015_2+sp', 2],\n",
              " ['U_26', 'C_course-v1:TsinghuaX+TsinghuaMandarin01+sp', 2],\n",
              " ['U_26', 'C_course-v1:TsinghuaX+44100343X+2019_T1', 1],\n",
              " ['U_26', 'C_course-v1:MITx+15_390_2x+sp', 14],\n",
              " ['U_26', 'C_course-v1:MITx+15_390_2x+sp', 1],\n",
              " ['U_26', 'C_course-v1:TsinghuaX+80150193X+sp', 1],\n",
              " ['U_26', 'C_course-v1:TsinghuaX+30700313X+sp', 2],\n",
              " ['U_26', 'C_course-v1:TsinghuaX+00310222X+sp', 2],\n",
              " ['U_26', 'C_course-v1:MITx+15_390_2x+sp', 3],\n",
              " ['U_26', 'C_course-v1:TsinghuaX+80000901X_1+sp', 1],\n",
              " ['U_26', 'C_course-v1:TsinghuaX+30240184+sp', 2],\n",
              " ['U_26', 'C_course-v1:TsinghuaX+44100343X+2019_T1', 4],\n",
              " ['U_26', 'C_course-v1:TsinghuaX+80000901X_1+sp', 2],\n",
              " ['U_26', 'C_course-v1:MITx+15_390_2x+sp', 3],\n",
              " ['U_26', 'C_course-v1:TsinghuaX+80000901X_1+sp', 3],\n",
              " ['U_26', 'C_course-v1:TsinghuaX+34100325_X+sp', 9],\n",
              " ['U_26', 'C_course-v1:TsinghuaX+70150023X+sp', 11],\n",
              " ['U_26', 'C_course-v1:TsinghuaX+34100325_X+sp', 2],\n",
              " ['U_26', 'C_course-v1:TsinghuaX+80150193X+sp', 3],\n",
              " ['U_26', 'C_course-v1:TsinghuaX+80000901X_1+sp', 1],\n",
              " ['U_26', 'C_course-v1:TsinghuaX+00310222X+sp', 1],\n",
              " ['U_26', 'C_course-v1:TsinghuaX+30700313X+sp', 1],\n",
              " ['U_26', 'C_course-v1:TsinghuaX+00690242+sp', 2],\n",
              " ['U_26', 'C_course-v1:TsinghuaX+34100325_X+sp', 3],\n",
              " ['U_9175067', 'C_course-v1:TsinghuaX+00740043X_2015_T2+sp', 4],\n",
              " ['U_9175067', 'C_course-v1:TsinghuaX+34100325_X+sp', 2],\n",
              " ['U_9175067', 'C_course-v1:TsinghuaX+00740043X_2015_T2+sp', 1],\n",
              " ['U_9175067', 'C_course-v1:TsinghuaX+10421075X_2015_2+sp', 4],\n",
              " ['U_9175067', 'C_course-v1:TsinghuaX+30240184+sp', 1],\n",
              " ['U_9175067', 'C_course-v1:TsinghuaX+30240184+sp', 1],\n",
              " ['U_9175067', 'C_course-v1:TsinghuaX+30240184_2X+sp', 2],\n",
              " ['U_9175067', 'C_course-v1:TsinghuaX+30240184+sp', 2],\n",
              " ['U_9175067', 'C_course-v1:TsinghuaX+10421075X_2015_2+sp', 10],\n",
              " ['U_9175067', 'C_course-v1:TsinghuaX+30240184+sp', 1],\n",
              " ['U_9175067', 'C_course-v1:TsinghuaX+30240184+sp', 1],\n",
              " ['U_9175067', 'C_course-v1:TsinghuaX+30240184+sp', 1],\n",
              " ['U_9175067', 'C_course-v1:TsinghuaX+00740043X_2015_T2+sp', 3],\n",
              " ['U_9175067', 'C_course-v1:TsinghuaX+30240184+sp', 1],\n",
              " ['U_9175067', 'C_course-v1:TsinghuaX+30240184+sp', 2],\n",
              " ['U_9175067', 'C_course-v1:TsinghuaX+30240184+sp', 3],\n",
              " ['U_9175067', 'C_course-v1:TsinghuaX+34100325_X+sp', 1],\n",
              " ['U_11010076', 'C_course-v1:SCUT+145223+2019_T1', 4],\n",
              " ['U_11010076', 'C_course-v1:SCUT+145223+2019_T1', 3],\n",
              " ['U_11010076', 'C_course-v1:SCUT+145223+2019_T1', 10],\n",
              " ['U_11010076', 'C_course-v1:TsinghuaX+00740043_2x+2019_T1', 5],\n",
              " ['U_11010076', 'C_course-v1:TsinghuaX+00740043_2x_2015_T2+sp', 5],\n",
              " ['U_11010076', 'C_course-v1:SCUT+145223+2019_T1', 12],\n",
              " ['U_11010076', 'C_course-v1:TsinghuaX+00740043X_2015_T2+sp', 1],\n",
              " ['U_11010076', 'C_course-v1:SCUT+145223+2019_T1', 5],\n",
              " ['U_11010076', 'C_course-v1:SCUT+145223+2019_T1', 2],\n",
              " ['U_11010076', 'C_course-v1:SCUT+145223+2019_T1', 2],\n",
              " ['U_11010076', 'C_course-v1:TsinghuaX+00740043_2x+2019_T1', 2],\n",
              " ['U_11010076', 'C_course-v1:TsinghuaX+00740043_2x_2015_T2+sp', 2],\n",
              " ['U_11010076', 'C_course-v1:SCUT+145223+2019_T1', 1],\n",
              " ['U_11010076', 'C_course-v1:SCUT+145223+2019_T1', 5],\n",
              " ['U_11010076', 'C_course-v1:SCUT+145223+2019_T1', 9],\n",
              " ['U_11010076', 'C_course-v1:SCUT+145223+2019_T1', 4],\n",
              " ['U_11010076', 'C_course-v1:SCUT+145223+2019_T1', 9],\n",
              " ['U_11010076', 'C_course-v1:SCUT+145223+2019_T1', 3],\n",
              " ['U_11010076', 'C_course-v1:SCUT+145223+2019_T1', 1],\n",
              " ['U_11010076', 'C_course-v1:SCUT+145223+2019_T1', 1],\n",
              " ['U_9306142', 'C_course-v1:TsinghuaX+00612642X+sp', 3],\n",
              " ['U_9306142', 'C_course-v1:TsinghuaX+00612643X+sp', 1],\n",
              " ['U_9306142', 'C_course-v1:TsinghuaX+00612642X+sp', 1],\n",
              " ['U_9306142', 'C_course-v1:TsinghuaX+00612643X+sp', 1],\n",
              " ['U_9306142', 'C_course-v1:TsinghuaX+00612643X+sp', 1],\n",
              " ['U_9306142', 'C_course-v1:TsinghuaX+00612643X+sp', 1],\n",
              " ['U_9306142', 'C_course-v1:TsinghuaX+00612643X+sp', 1],\n",
              " ['U_9306142', 'C_course-v1:TsinghuaX+30260112X+sp', 1],\n",
              " ['U_9306142', 'C_course-v1:TsinghuaX+00612643X+sp', 2],\n",
              " ['U_9306142', 'C_course-v1:TsinghuaX+00612642X+sp', 1],\n",
              " ['U_9306142', 'C_course-v1:TsinghuaX+00612642X+sp', 2],\n",
              " ['U_9306142', 'C_course-v1:TsinghuaX+30260112X+sp', 1],\n",
              " ['U_9306142', 'C_course-v1:TsinghuaX+00612642X+sp', 1],\n",
              " ['U_9306142', 'C_course-v1:TsinghuaX+00612643X+sp', 1],\n",
              " ['U_9306142', 'C_course-v1:TsinghuaX+00612642X+sp', 1],\n",
              " ['U_9306142', 'C_course-v1:TsinghuaX+30260112X+sp', 2],\n",
              " ['U_9306142', 'C_course-v1:TsinghuaX+00612642X+sp', 2],\n",
              " ['U_9306142', 'C_course-v1:WellesleyX+HIST229x+sp', 1],\n",
              " ['U_9306142', 'C_course-v1:TsinghuaX+00612643X+sp', 2],\n",
              " ['U_9306142', 'C_course-v1:TsinghuaX+00612642X+sp', 2],\n",
              " ['U_9306142', 'C_course-v1:TsinghuaX+00612643X+sp', 1],\n",
              " ['U_9306142', 'C_course-v1:TsinghuaX+00612643X+sp', 1],\n",
              " ['U_9306142', 'C_course-v1:TsinghuaX+00612642X+sp', 1],\n",
              " ['U_9306142', 'C_course-v1:TsinghuaX+30260112X+sp', 1],\n",
              " ['U_9306142', 'C_course-v1:TsinghuaX+00612642X+sp', 1],\n",
              " ['U_9306142', 'C_course-v1:TsinghuaX+00612643X+sp', 1],\n",
              " ['U_9306142', 'C_course-v1:TsinghuaX+00612642X+sp', 1],\n",
              " ['U_9306142', 'C_course-v1:TsinghuaX+00612642X+sp', 1],\n",
              " ['U_9306142', 'C_course-v1:TsinghuaX+00612643X+sp', 1],\n",
              " ['U_9306142', 'C_course-v1:TsinghuaX+00612642X+sp', 1],\n",
              " ['U_9306142', 'C_course-v1:MIL+MIL2016001+sp', 8],\n",
              " ['U_9306142', 'C_course-v1:MIL+MIL2016001+2019_T1', 8],\n",
              " ['U_9306142', 'C_course-v1:TsinghuaX+30260112X+sp', 2],\n",
              " ['U_9306142', 'C_course-v1:TsinghuaX+30260112X+sp', 1],\n",
              " ['U_9306142', 'C_course-v1:TsinghuaX+00612642X+sp', 1],\n",
              " ['U_9306142', 'C_course-v1:TsinghuaX+00612642X+sp', 2],\n",
              " ['U_9306142', 'C_course-v1:TsinghuaX+00612642X+sp', 1],\n",
              " ['U_9306142', 'C_course-v1:TsinghuaX+00612642X+sp', 2],\n",
              " ['U_9306142', 'C_course-v1:TsinghuaX+00612643X+sp', 1],\n",
              " ['U_9306142', 'C_course-v1:MIL+MIL2016001+sp', 1],\n",
              " ['U_9306142', 'C_course-v1:MIL+MIL2016001+2019_T1', 1],\n",
              " ['U_9306142', 'C_course-v1:TsinghuaX+00612642X+sp', 2],\n",
              " ['U_9306142', 'C_course-v1:TsinghuaX+30640014X+sp', 1],\n",
              " ['U_9306142', 'C_course-v1:TsinghuaX+00612642X+sp', 3],\n",
              " ['U_9306142', 'C_course-v1:TsinghuaX+30260112X+sp', 1],\n",
              " ['U_9306142', 'C_course-v1:TsinghuaX+00612642X+sp', 1],\n",
              " ['U_9306142', 'C_course-v1:TsinghuaX+00612643X+sp', 1],\n",
              " ['U_9306142', 'C_course-v1:TsinghuaX+00612642X+sp', 2],\n",
              " ['U_9306142', 'C_course-v1:TsinghuaX+00612643X+sp', 1],\n",
              " ['U_9306142', 'C_course-v1:TsinghuaX+00612642X+sp', 1],\n",
              " ['U_9306142', 'C_course-v1:MIL+MIL2016001+sp', 1],\n",
              " ['U_9306142', 'C_course-v1:MIL+MIL2016001+2019_T1', 1],\n",
              " ['U_9306142', 'C_course-v1:TsinghuaX+00612643X+sp', 1],\n",
              " ['U_9306142', 'C_course-v1:TsinghuaX+00612642X+sp', 1],\n",
              " ['U_9306142', 'C_course-v1:TsinghuaX+00612643X+sp', 1],\n",
              " ['U_9306142', 'C_course-v1:TsinghuaX+00612642X+sp', 2],\n",
              " ['U_9306142', 'C_course-v1:TsinghuaX+00612642X+sp', 1],\n",
              " ['U_9306142', 'C_course-v1:TsinghuaX+00612642X+sp', 1],\n",
              " ['U_9306142', 'C_course-v1:TsinghuaX+00612643X+sp', 1],\n",
              " ['U_9306142', 'C_course-v1:TsinghuaX+00612642X+sp', 2],\n",
              " ['U_9306142', 'C_course-v1:TsinghuaX+00612643X+sp', 2],\n",
              " ['U_9306142', 'C_course-v1:TsinghuaX+00612642X+sp', 1],\n",
              " ['U_9306142', 'C_course-v1:TsinghuaX+30260112X+sp', 1],\n",
              " ['U_9306142', 'C_course-v1:MIL+MIL2016001+sp', 3],\n",
              " ['U_9306142', 'C_course-v1:MIL+MIL2016001+2019_T1', 3],\n",
              " ['U_9306142', 'C_course-v1:TsinghuaX+30260112X+sp', 2],\n",
              " ['U_9306142', 'C_course-v1:TsinghuaX+00612642X+sp', 1],\n",
              " ['U_9306142', 'C_course-v1:TsinghuaX+00612643X+sp', 1],\n",
              " ['U_9306142', 'C_course-v1:TsinghuaX+00612642X+sp', 1],\n",
              " ['U_9306142', 'C_course-v1:TsinghuaX+30260112X+sp', 6],\n",
              " ['U_9306142', 'C_course-v1:TsinghuaX+00612642X+sp', 1],\n",
              " ['U_9306142', 'C_course-v1:TsinghuaX+00612643X+sp', 1],\n",
              " ['U_9306142', 'C_course-v1:TsinghuaX+00612642X+sp', 1],\n",
              " ['U_9306142', 'C_course-v1:TsinghuaX+00612643X+sp', 1],\n",
              " ['U_9306142', 'C_course-v1:TsinghuaX+30260112X+sp', 1],\n",
              " ['U_9306142', 'C_course-v1:TsinghuaX+30640014X+sp', 1],\n",
              " ['U_9306142', 'C_course-v1:TsinghuaX+00612643X+sp', 1],\n",
              " ['U_9306142', 'C_course-v1:TsinghuaX+00612643X+sp', 1],\n",
              " ['U_9306142', 'C_course-v1:WellesleyX+HIST229x+sp', 1],\n",
              " ['U_9306142', 'C_course-v1:TsinghuaX+00612642X+sp', 1],\n",
              " ['U_9306142', 'C_course-v1:TsinghuaX+30260112X+sp', 2],\n",
              " ['U_9306142', 'C_course-v1:TsinghuaX+30260112X+sp', 1],\n",
              " ['U_9306142', 'C_course-v1:TsinghuaX+30260112X+sp', 1],\n",
              " ['U_9306142', 'C_course-v1:TsinghuaX+00612642X+sp', 2],\n",
              " ['U_9306142', 'C_course-v1:TsinghuaX+00612642X+sp', 2],\n",
              " ['U_9306142', 'C_course-v1:TsinghuaX+00612642X+sp', 1],\n",
              " ['U_9306142', 'C_course-v1:TsinghuaX+00612643X+sp', 1],\n",
              " ['U_9306142', 'C_course-v1:MIL+MIL2016001+sp', 6],\n",
              " ['U_9306142', 'C_course-v1:MIL+MIL2016001+2019_T1', 6],\n",
              " ['U_9306142', 'C_course-v1:TsinghuaX+30260112X+sp', 8],\n",
              " ['U_9306142', 'C_course-v1:TsinghuaX+00612642X+sp', 2],\n",
              " ['U_9306142', 'C_course-v1:TsinghuaX+00612642X+sp', 1],\n",
              " ['U_9306142', 'C_course-v1:TsinghuaX+00612643X+sp', 2],\n",
              " ['U_9306142', 'C_course-v1:TsinghuaX+00612642X+sp', 1],\n",
              " ['U_9306142', 'C_course-v1:TsinghuaX+00612643X+sp', 1],\n",
              " ['U_9306142', 'C_course-v1:TsinghuaX+00612642X+sp', 1],\n",
              " ['U_9306142', 'C_course-v1:MIL+MIL2016001+sp', 1],\n",
              " ['U_9306142', 'C_course-v1:MIL+MIL2016001+2019_T1', 1],\n",
              " ['U_9306142', 'C_course-v1:TsinghuaX+00612642X+sp', 2],\n",
              " ['U_9306142', 'C_course-v1:TsinghuaX+00612642X+sp', 1],\n",
              " ['U_9306142', 'C_course-v1:MIL+MIL2016001+sp', 9],\n",
              " ['U_9306142', 'C_course-v1:MIL+MIL2016001+2019_T1', 9],\n",
              " ['U_9306142', 'C_course-v1:TsinghuaX+00612643X+sp', 1],\n",
              " ['U_9306142', 'C_course-v1:TsinghuaX+30260112X+sp', 1],\n",
              " ['U_9306142', 'C_course-v1:TsinghuaX+00612642X+sp', 1],\n",
              " ['U_9306142', 'C_course-v1:TsinghuaX+00612643X+sp', 1],\n",
              " ['U_9306142', 'C_course-v1:TsinghuaX+00612643X+sp', 1],\n",
              " ['U_9306142', 'C_course-v1:TsinghuaX+00612643X+sp', 1],\n",
              " ['U_9306142', 'C_course-v1:TsinghuaX+00612643X+sp', 1],\n",
              " ['U_9306142', 'C_course-v1:TsinghuaX+00612643X+sp', 1],\n",
              " ['U_9306142', 'C_course-v1:TsinghuaX+00612643X+sp', 1],\n",
              " ['U_9306142', 'C_course-v1:TsinghuaX+30260112X+sp', 1],\n",
              " ['U_9306142', 'C_course-v1:TsinghuaX+00612642X+sp', 1],\n",
              " ['U_9306142', 'C_course-v1:TsinghuaX+30260112X+sp', 1],\n",
              " ['U_9306142', 'C_course-v1:TsinghuaX+00612642X+sp', 1],\n",
              " ['U_9306142', 'C_course-v1:TsinghuaX+30260112X+sp', 5],\n",
              " ['U_9306142', 'C_course-v1:TsinghuaX+30260112X+sp', 1],\n",
              " ['U_9306142', 'C_course-v1:TsinghuaX+00612643X+sp', 2],\n",
              " ['U_9306142', 'C_course-v1:TsinghuaX+00612642X+sp', 1],\n",
              " ['U_9306142', 'C_course-v1:TsinghuaX+30260112X+sp', 3],\n",
              " ['U_9306142', 'C_course-v1:TsinghuaX+00612642X+sp', 1],\n",
              " ['U_9306142', 'C_course-v1:TsinghuaX+00612642X+sp', 1],\n",
              " ['U_9306142', 'C_course-v1:TsinghuaX+00612643X+sp', 2],\n",
              " ['U_9306142', 'C_course-v1:TsinghuaX+00612642X+sp', 4],\n",
              " ['U_2490403', 'C_course-v1:ZUELX+B0601353+sp', 14],\n",
              " ['U_2490403', 'C_course-v1:UQx+Think101x+sp', 10],\n",
              " ['U_2490403', 'C_course-v1:TsinghuaX+90640012X+sp', 2],\n",
              " ['U_2490403', 'C_course-v1:ZUELX+B0601353+sp', 2],\n",
              " ['U_2490403', 'C_course-v1:ZUELX+B0601353+sp', 22],\n",
              " ['U_2490403', 'C_course-v1:UQx+Think101x+sp', 7],\n",
              " ['U_2490403', 'C_course-v1:ZUELX+B0601353+sp', 1],\n",
              " ['U_2490403', 'C_course-v1:ZUELX+B0601353+sp', 3],\n",
              " ['U_2490403', 'C_course-v1:TsinghuaX+30640014X+sp', 6],\n",
              " ['U_2490403', 'C_course-v1:ZUELX+B0601353+sp', 1],\n",
              " ['U_2490403', 'C_course-v1:ZUELX+B0601353+sp', 4],\n",
              " ['U_2490403', 'C_course-v1:UQx+Think101x+sp', 23],\n",
              " ['U_2490403', 'C_course-v1:ZUELX+B0601353+sp', 7],\n",
              " ['U_2490403', 'C_course-v1:ZUELX+B0601353+sp', 2],\n",
              " ['U_2490403', 'C_course-v1:ZUELX+B0601353+sp', 44],\n",
              " ['U_2490403', 'C_course-v1:ZUELX+B0601353+sp', 5],\n",
              " ['U_2490403', 'C_course-v1:UQx+Think101x+sp', 17],\n",
              " ['U_2490403', 'C_course-v1:TsinghuaX+90640012X+sp', 1],\n",
              " ['U_2490403', 'C_course-v1:TsinghuaX+30640014X+sp', 4],\n",
              " ['U_2490403', 'C_course-v1:ZUELX+B0601353+sp', 22],\n",
              " ['U_2490403', 'C_course-v1:TsinghuaX+30640014X+sp', 8],\n",
              " ['U_2490403', 'C_course-v1:ZUELX+B0601353+sp', 3],\n",
              " ['U_2490403', 'C_course-v1:ZUELX+B0601353+sp', 7],\n",
              " ['U_2490403', 'C_course-v1:ZUELX+B0601353+sp', 37],\n",
              " ['U_2490403', 'C_course-v1:UQx+Think101x+sp', 3],\n",
              " ['U_2490403', 'C_course-v1:TsinghuaX+90640012X+sp', 11],\n",
              " ['U_2490403', 'C_course-v1:ZUELX+B0601353+sp', 6],\n",
              " ['U_2490403', 'C_course-v1:ZUELX+B0601353+sp', 12],\n",
              " ['U_2490403', 'C_course-v1:ZUELX+B0601353+sp', 16],\n",
              " ['U_2490403', 'C_course-v1:UQx+Think101x+sp', 1],\n",
              " ['U_2490403', 'C_course-v1:UQx+Think101x+sp', 4],\n",
              " ['U_2490403', 'C_course-v1:TsinghuaX+30640014X+sp', 2],\n",
              " ['U_2490403', 'C_course-v1:TsinghuaX+30640014X+sp', 3],\n",
              " ['U_2490403', 'C_course-v1:TsinghuaX+90640012X+sp', 2],\n",
              " ['U_2490403', 'C_course-v1:ZUELX+B0601353+sp', 4],\n",
              " ['U_2490403', 'C_course-v1:ZUELX+B0601353+sp', 5],\n",
              " ['U_2490403', 'C_course-v1:ZUELX+B0601353+sp', 12],\n",
              " ['U_2490403', 'C_course-v1:ZUELX+B0601353+sp', 3],\n",
              " ['U_2490403', 'C_course-v1:ZUELX+B0601353+sp', 5],\n",
              " ['U_36', 'C_course-v1:SEU+00690803+sp', 1],\n",
              " ['U_36', 'C_course-v1:SEU+00690803+sp', 1],\n",
              " ['U_36', 'C_course-v1:SEU+00690803+sp', 1],\n",
              " ['U_36', 'C_course-v1:SEU+00690803+sp', 1],\n",
              " ['U_36', 'C_course-v1:TsinghuaX+00690242+sp', 1],\n",
              " ['U_36', 'C_course-v1:TsinghuaX+00740043X_2015_T2+sp', 2],\n",
              " ['U_36', 'C_course-v1:SEU+00690803+sp', 1],\n",
              " ['U_36', 'C_course-v1:TsinghuaX+00740043X_2015_T2+sp', 1],\n",
              " ['U_36', 'C_course-v1:SEU+00690803+sp', 1],\n",
              " ['U_36', 'C_course-v1:SEU+00690803+sp', 1],\n",
              " ['U_36', 'C_course-v1:SEU+00690803+sp', 1],\n",
              " ['U_36', 'C_course-v1:TsinghuaX+20220332X+sp', 3],\n",
              " ['U_36', 'C_course-v1:SEU+00690803+sp', 1],\n",
              " ['U_36', 'C_course-v1:TsinghuaX+00740043X_2015_T2+sp', 4],\n",
              " ['U_36', 'C_course-v1:SEU+00690803+sp', 1],\n",
              " ['U_36', 'C_course-v1:TsinghuaX+00690242+sp', 6],\n",
              " ['U_36', 'C_course-v1:SEU+00690803+sp', 3],\n",
              " ['U_36', 'C_course-v1:SEU+00690803+sp', 1],\n",
              " ['U_36', 'C_course-v1:SEU+00690803+sp', 1],\n",
              " ['U_36', 'C_course-v1:SEU+00690803+sp', 2],\n",
              " ['U_36', 'C_course-v1:SEU+00690803+sp', 1],\n",
              " ['U_36', 'C_course-v1:SEU+00690803+sp', 1],\n",
              " ['U_36', 'C_course-v1:SEU+00690803+sp', 1],\n",
              " ['U_36', 'C_course-v1:TsinghuaX+2018032801X+2018_T1', 5],\n",
              " ['U_36', 'C_course-v1:SEU+00690803+sp', 1],\n",
              " ['U_36', 'C_course-v1:SEU+00690803+sp', 1],\n",
              " ['U_36', 'C_course-v1:SEU+00690803+sp', 1],\n",
              " ['U_36', 'C_course-v1:TsinghuaX+00690242+sp', 5],\n",
              " ['U_36', 'C_course-v1:SEU+00690803+sp', 1],\n",
              " ['U_36', 'C_course-v1:SEU+00690803+sp', 1],\n",
              " ['U_36', 'C_course-v1:SEU+00690803+sp', 1],\n",
              " ['U_36', 'C_course-v1:SEU+00690803+sp', 1],\n",
              " ['U_36', 'C_course-v1:SEU+00690803+sp', 1],\n",
              " ['U_36', 'C_course-v1:SEU+00690803+sp', 1],\n",
              " ['U_36', 'C_course-v1:SEU+00690803+sp', 2],\n",
              " ['U_36', 'C_course-v1:SEU+00690803+sp', 1],\n",
              " ['U_36', 'C_course-v1:TsinghuaX+20220332X+sp', 4],\n",
              " ['U_36', 'C_course-v1:SEU+00690803+sp', 1],\n",
              " ['U_36', 'C_course-v1:TsinghuaX+20220053X_2015_T2+sp', 5],\n",
              " ['U_36', 'C_course-v1:SEU+00690803+sp', 1],\n",
              " ['U_36', 'C_course-v1:SEU+00690803+sp', 1],\n",
              " ['U_36', 'C_course-v1:SEU+00690803+sp', 1],\n",
              " ['U_36', 'C_course-v1:TsinghuaX+20220332X+sp', 4],\n",
              " ['U_36', 'C_course-v1:SEU+00690803+sp', 1],\n",
              " ['U_36', 'C_course-v1:SEU+00690803+sp', 2],\n",
              " ['U_36', 'C_course-v1:TsinghuaX+20220053X_2015_T2+sp', 2],\n",
              " ['U_36', 'C_course-v1:SEU+00690803+sp', 1],\n",
              " ['U_36', 'C_course-v1:SEU+00690803+sp', 1],\n",
              " ['U_36', 'C_course-v1:SEU+00690803+sp', 1],\n",
              " ['U_36', 'C_course-v1:TsinghuaX+00690242+sp', 1],\n",
              " ['U_36', 'C_course-v1:TsinghuaX+2018032801X+2018_T1', 8],\n",
              " ['U_36', 'C_course-v1:SEU+00690803+sp', 3],\n",
              " ['U_36', 'C_course-v1:SEU+00690803+sp', 1],\n",
              " ['U_36', 'C_course-v1:SEU+00690803+sp', 1],\n",
              " ['U_36', 'C_course-v1:SEU+00690803+sp', 1],\n",
              " ['U_36', 'C_course-v1:SEU+00690803+sp', 1],\n",
              " ['U_36', 'C_course-v1:SEU+00690803+sp', 1],\n",
              " ['U_36', 'C_course-v1:SEU+00690803+sp', 1],\n",
              " ['U_36', 'C_course-v1:SEU+00690803+sp', 1],\n",
              " ['U_36', 'C_course-v1:SEU+00690803+sp', 3],\n",
              " ['U_36', 'C_course-v1:SEU+00690803+sp', 1],\n",
              " ['U_36', 'C_course-v1:SEU+00690803+sp', 2],\n",
              " ['U_5242916', 'C_course-v1:Tsinghuax+30130123X+sp', 16],\n",
              " ['U_5242916', 'C_course-v1:Tsinghuax+30130123X+sp', 34],\n",
              " ['U_5242916', 'C_course-v1:TsinghuaX+30240243X+sp', 4],\n",
              " ['U_5242916', 'C_course-v1:TsinghuaX+30240184+sp', 1],\n",
              " ['U_5242916', 'C_course-v1:Tsinghuax+30130123X+sp', 20],\n",
              " ['U_5242916', 'C_course-v1:TsinghuaX+30240243X+sp', 1],\n",
              " ['U_5242916', 'C_course-v1:TsinghuaX+30240184+sp', 1],\n",
              " ['U_5242916', 'C_course-v1:Tsinghuax+30130123X+sp', 16],\n",
              " ['U_5242916', 'C_course-v1:TsinghuaX+30240184+sp', 2],\n",
              " ['U_5242916', 'C_course-v1:Tsinghuax+30130123X+sp', 18],\n",
              " ['U_5242916', 'C_course-v1:TsinghuaX+00740113_1X+sp', 9],\n",
              " ['U_5242916', 'C_course-v1:Tsinghuax+30130123X+sp', 14],\n",
              " ['U_5242916', 'C_course-v1:TsinghuaX+34100325_X+sp', 1],\n",
              " ['U_5242916', 'C_course-v1:Tsinghuax+30130123X+sp', 28],\n",
              " ['U_5242916', 'C_course-v1:Tsinghuax+30130123X+sp', 1],\n",
              " ['U_5242916', 'C_course-v1:TsinghuaX+30240243X+sp', 2],\n",
              " ['U_5242916', 'C_course-v1:Tsinghuax+30130123X+sp', 28],\n",
              " ['U_5242916', 'C_course-v1:Tsinghuax+30130123X+sp', 1],\n",
              " ['U_5242916', 'C_course-v1:Tsinghuax+30130123X+sp', 52],\n",
              " ['U_5242916', 'C_course-v1:Tsinghuax+30130123X+sp', 7],\n",
              " ['U_5242916', 'C_course-v1:Tsinghuax+30130123X+sp', 14],\n",
              " ['U_5242916', 'C_course-v1:TsinghuaX+00740113_1X+sp', 4],\n",
              " ['U_5242916', 'C_course-v1:TsinghuaX+30240243X+sp', 5],\n",
              " ['U_5242916', 'C_course-v1:Tsinghuax+30130123X+sp', 75],\n",
              " ['U_5242916', 'C_course-v1:TsinghuaX+30240243X+sp', 1],\n",
              " ['U_5242916', 'C_course-v1:Tsinghuax+30130123X+sp', 45],\n",
              " ['U_5242916', 'C_course-v1:Tsinghuax+30130123X+sp', 12],\n",
              " ['U_5242916', 'C_course-v1:Tsinghuax+30130123X+sp', 44],\n",
              " ['U_5242916', 'C_course-v1:TsinghuaX+30240243X+sp', 3],\n",
              " ['U_5242916', 'C_course-v1:Tsinghuax+30130123X+sp', 5],\n",
              " ['U_5242916', 'C_course-v1:TsinghuaX+34100325_X+sp', 3],\n",
              " ['U_5242916', 'C_course-v1:Tsinghuax+30130123X+sp', 32],\n",
              " ['U_5242916', 'C_course-v1:Tsinghuax+30130123X+sp', 17],\n",
              " ['U_5242916', 'C_course-v1:TsinghuaX+34100325_X+sp', 5],\n",
              " ['U_5242916', 'C_course-v1:TsinghuaX+30240243X+sp', 6],\n",
              " ['U_5242916', 'C_course-v1:TsinghuaX+30240243X+sp', 3],\n",
              " ['U_5242916', 'C_course-v1:Tsinghuax+30130123X+sp', 33],\n",
              " ['U_5242916', 'C_course-v1:TsinghuaX+30240184+sp', 4],\n",
              " ['U_5242916', 'C_course-v1:Tsinghuax+30130123X+sp', 16],\n",
              " ['U_5242916', 'C_course-v1:TsinghuaX+30240184+sp', 4],\n",
              " ['U_5242916', 'C_course-v1:Tsinghuax+30130123X+sp', 74],\n",
              " ['U_5242916', 'C_course-v1:TsinghuaX+30240184+sp', 1],\n",
              " ['U_5242916', 'C_course-v1:TsinghuaX+34100325_X+sp', 7],\n",
              " ['U_5242916', 'C_course-v1:Tsinghuax+30130123X+sp', 10],\n",
              " ['U_5242916', 'C_course-v1:TsinghuaX+34100325_X+sp', 1],\n",
              " ['U_5242916', 'C_course-v1:TsinghuaX+30240184+sp', 3],\n",
              " ['U_5242916', 'C_course-v1:TsinghuaX+30240184+sp', 6],\n",
              " ['U_5242916', 'C_course-v1:TsinghuaX+30240243X+sp', 8],\n",
              " ['U_5242916', 'C_course-v1:TsinghuaX+30240243X+sp', 1],\n",
              " ['U_5242916', 'C_course-v1:Tsinghuax+30130123X+sp', 10],\n",
              " ['U_5242916', 'C_course-v1:Tsinghuax+30130123X+sp', 4],\n",
              " ['U_5242916', 'C_course-v1:Tsinghuax+30130123X+sp', 15],\n",
              " ['U_5242916', 'C_course-v1:TsinghuaX+30240243X+sp', 3],\n",
              " ['U_5242916', 'C_course-v1:TsinghuaX+30240243X+sp', 4],\n",
              " ['U_5242916', 'C_course-v1:Tsinghuax+30130123X+sp', 34],\n",
              " ['U_5242916', 'C_course-v1:TsinghuaX+34100325_X+sp', 1],\n",
              " ['U_5242916', 'C_course-v1:TsinghuaX+30240243X+sp', 4],\n",
              " ['U_5242916', 'C_course-v1:Tsinghuax+30130123X+sp', 14],\n",
              " ['U_5242916', 'C_course-v1:TsinghuaX+30240243X+sp', 1],\n",
              " ['U_5242916', 'C_course-v1:TsinghuaX+00740113_1X+sp', 1],\n",
              " ['U_5242916', 'C_course-v1:Tsinghuax+30130123X+sp', 6],\n",
              " ['U_5242916', 'C_course-v1:Tsinghuax+30130123X+sp', 61],\n",
              " ['U_5242916', 'C_course-v1:TsinghuaX+34100325_X+sp', 2],\n",
              " ['U_5242916', 'C_course-v1:Tsinghuax+30130123X+sp', 3],\n",
              " ['U_5242916', 'C_course-v1:Tsinghuax+30130123X+sp', 67],\n",
              " ['U_5242916', 'C_course-v1:TsinghuaX+30240243X+sp', 4],\n",
              " ['U_5242916', 'C_course-v1:Tsinghuax+30130123X+sp', 1],\n",
              " ['U_5242916', 'C_course-v1:Tsinghuax+30130123X+sp', 46],\n",
              " ['U_5242916', 'C_course-v1:Tsinghuax+30130123X+sp', 9],\n",
              " ['U_5242916', 'C_course-v1:TsinghuaX+34100325_X+sp', 4],\n",
              " ['U_5242916', 'C_course-v1:TsinghuaX+30240243X+sp', 11],\n",
              " ['U_5242916', 'C_course-v1:TsinghuaX+30240184+sp', 2],\n",
              " ['U_5242916', 'C_course-v1:TsinghuaX+00740113_1X+sp', 10],\n",
              " ['U_5242916', 'C_course-v1:Tsinghuax+30130123X+sp', 26],\n",
              " ['U_5242916', 'C_course-v1:TsinghuaX+30240243X+sp', 1],\n",
              " ['U_5242916', 'C_course-v1:Tsinghuax+30130123X+sp', 5],\n",
              " ['U_5242916', 'C_course-v1:TsinghuaX+30240243X+sp', 5],\n",
              " ['U_5242916', 'C_course-v1:TsinghuaX+30240243X+sp', 6],\n",
              " ['U_5242916', 'C_course-v1:Tsinghuax+30130123X+sp', 44],\n",
              " ['U_5242916', 'C_course-v1:Tsinghuax+30130123X+sp', 1],\n",
              " ['U_5242916', 'C_course-v1:Tsinghuax+30130123X+sp', 19],\n",
              " ['U_5242916', 'C_course-v1:Tsinghuax+30130123X+sp', 56],\n",
              " ['U_5242916', 'C_course-v1:TsinghuaX+30240243X+sp', 1],\n",
              " ['U_5242916', 'C_course-v1:TsinghuaX+00740113_1X+sp', 17],\n",
              " ['U_5242916', 'C_course-v1:Tsinghuax+30130123X+sp', 34],\n",
              " ['U_5242916', 'C_course-v1:Tsinghuax+30130123X+sp', 27],\n",
              " ['U_5242916', 'C_course-v1:TsinghuaX+30240184+sp', 1],\n",
              " ['U_5242916', 'C_course-v1:Tsinghuax+30130123X+sp', 39],\n",
              " ['U_5242916', 'C_course-v1:TsinghuaX+30240184+sp', 2],\n",
              " ['U_5242916', 'C_course-v1:TsinghuaX+34100325_X+sp', 4],\n",
              " ['U_5242916', 'C_course-v1:TsinghuaX+30240243X+sp', 2],\n",
              " ['U_5242916', 'C_course-v1:Tsinghuax+30130123X+sp', 43],\n",
              " ['U_5242916', 'C_course-v1:Tsinghuax+30130123X+sp', 7],\n",
              " ['U_5242916', 'C_course-v1:TsinghuaX+34100325_X+sp', 6],\n",
              " ['U_5242916', 'C_course-v1:Tsinghuax+30130123X+sp', 60],\n",
              " ['U_5242916', 'C_course-v1:TsinghuaX+30240184+sp', 4],\n",
              " ['U_5242916', 'C_course-v1:Tsinghuax+30130123X+sp', 30],\n",
              " ['U_5242916', 'C_course-v1:TsinghuaX+34100325_X+sp', 1],\n",
              " ['U_5242916', 'C_course-v1:TsinghuaX+30240243X+sp', 2],\n",
              " ['U_5242916', 'C_course-v1:TsinghuaX+30240243X+sp', 1],\n",
              " ['U_5242916', 'C_course-v1:TsinghuaX+00740113_1X+sp', 22],\n",
              " ['U_5242916', 'C_course-v1:TsinghuaX+30240184+sp', 2],\n",
              " ['U_5242916', 'C_course-v1:Tsinghuax+30130123X+sp', 57],\n",
              " ['U_5242916', 'C_course-v1:Tsinghuax+30130123X+sp', 2],\n",
              " ['U_5242916', 'C_course-v1:TsinghuaX+00740113_1X+sp', 9],\n",
              " ['U_5242916', 'C_course-v1:TsinghuaX+30240243X+sp', 2],\n",
              " ['U_5242916', 'C_course-v1:Tsinghuax+30130123X+sp', 26],\n",
              " ['U_5242916', 'C_course-v1:Tsinghuax+30130123X+sp', 2],\n",
              " ['U_5242916', 'C_course-v1:TsinghuaX+00740113_1X+sp', 3],\n",
              " ['U_5242916', 'C_course-v1:TsinghuaX+30240184+sp', 8],\n",
              " ['U_5242916', 'C_course-v1:Tsinghuax+30130123X+sp', 18],\n",
              " ['U_5242916', 'C_course-v1:Tsinghuax+30130123X+sp', 22],\n",
              " ['U_5242916', 'C_course-v1:Tsinghuax+30130123X+sp', 20],\n",
              " ['U_5242916', 'C_course-v1:TsinghuaX+30240243X+sp', 9],\n",
              " ['U_5242916', 'C_course-v1:TsinghuaX+34100325_X+sp', 2],\n",
              " ['U_5242916', 'C_course-v1:Tsinghuax+30130123X+sp', 27],\n",
              " ['U_5242916', 'C_course-v1:Tsinghuax+30130123X+sp', 9],\n",
              " ['U_5242916', 'C_course-v1:TsinghuaX+30240243X+sp', 1],\n",
              " ['U_5242916', 'C_course-v1:TsinghuaX+30240243X+sp', 2],\n",
              " ['U_5242916', 'C_course-v1:TsinghuaX+00740113_1X+sp', 24],\n",
              " ['U_5242916', 'C_course-v1:TsinghuaX+30240184+sp', 1],\n",
              " ['U_5242916', 'C_course-v1:TsinghuaX+30240243X+sp', 17],\n",
              " ['U_5242916', 'C_course-v1:Tsinghuax+30130123X+sp', 9],\n",
              " ['U_5242916', 'C_course-v1:TsinghuaX+30240243X+sp', 103],\n",
              " ['U_5242916', 'C_course-v1:TsinghuaX+00740113_1X+sp', 44],\n",
              " ['U_5242916', 'C_course-v1:TsinghuaX+30240243X+sp', 5],\n",
              " ['U_5242916', 'C_course-v1:Tsinghuax+30130123X+sp', 6],\n",
              " ['U_5242916', 'C_course-v1:TsinghuaX+30240184+sp', 3],\n",
              " ['U_5242916', 'C_course-v1:Tsinghuax+30130123X+sp', 23],\n",
              " ['U_5242916', 'C_course-v1:TsinghuaX+30240243X+sp', 7],\n",
              " ['U_5242916', 'C_course-v1:Tsinghuax+30130123X+sp', 18],\n",
              " ['U_5242916', 'C_course-v1:TsinghuaX+34100325_X+sp', 1],\n",
              " ['U_5242916', 'C_course-v1:Tsinghuax+30130123X+sp', 5],\n",
              " ['U_5242916', 'C_course-v1:TsinghuaX+34100325_X+sp', 11],\n",
              " ['U_5242916', 'C_course-v1:TsinghuaX+30240243X+sp', 7],\n",
              " ['U_5242916', 'C_course-v1:Tsinghuax+30130123X+sp', 10],\n",
              " ['U_5242916', 'C_course-v1:Tsinghuax+30130123X+sp', 46],\n",
              " ['U_5242916', 'C_course-v1:TsinghuaX+30240243X+sp', 8],\n",
              " ['U_5242916', 'C_course-v1:TsinghuaX+30240243X+sp', 6],\n",
              " ['U_3801125', 'C_course-v1:BIT+PHY1701702+sp', 2],\n",
              " ['U_3801125', 'C_course-v1:TsinghuaX+10430494X_2015_2+sp', 1],\n",
              " ['U_3801125', 'C_course-v1:BIT+PHY1701702+sp', 3],\n",
              " ['U_3801125', 'C_course-v1:TsinghuaX+20350033X+sp', 6],\n",
              " ['U_3801125', 'C_course-v1:TsinghuaX+10430494X_2015_2+sp', 8],\n",
              " ['U_3801125', 'C_course-v1:TsinghuaX+20350033X+sp', 2],\n",
              " ['U_3801125', 'C_course-v1:BIT+PHY1701702+sp', 2],\n",
              " ['U_3801125', 'C_course-v1:BIT+PHY1701702+sp', 1],\n",
              " ['U_3801125', 'C_course-v1:BIT+PHY1701702+sp', 4],\n",
              " ['U_3801125', 'C_course-v1:BIT+PHY1701702+sp', 1],\n",
              " ['U_3801125', 'C_course-v1:BIT+PHY1701702+sp', 3],\n",
              " ['U_3801125', 'C_course-v1:BIT+PHY1701702+sp', 2],\n",
              " ['U_3801125', 'C_course-v1:BIT+PHY1701702+sp', 5],\n",
              " ['U_3801125', 'C_course-v1:BIT+PHY1701702+sp', 6],\n",
              " ['U_3801125', 'C_course-v1:TsinghuaX+20350033X+sp', 2],\n",
              " ['U_3801125', 'C_course-v1:TsinghuaX+20350033X+sp', 3],\n",
              " ['U_3801125', 'C_course-v1:TsinghuaX+20350033X+sp', 3],\n",
              " ['U_3801125', 'C_course-v1:TsinghuaX+20350033X+sp', 2],\n",
              " ['U_3801125', 'C_course-v1:BIT+PHY1701702+sp', 2],\n",
              " ['U_3801125', 'C_course-v1:BIT+PHY1701702+sp', 2],\n",
              " ['U_3801125', 'C_course-v1:TsinghuaX+10421075X_2015_2+sp', 2],\n",
              " ['U_3801125', 'C_course-v1:BIT+PHY1701702+sp', 4],\n",
              " ['U_3801125', 'C_course-v1:BIT+PHY1701702+sp', 1],\n",
              " ['U_3801125', 'C_course-v1:BIT+PHY1701702+sp', 1],\n",
              " ['U_3801125', 'C_course-v1:BIT+PHY1701702+sp', 1],\n",
              " ['U_3801125', 'C_course-v1:BIT+PHY1701702+sp', 1],\n",
              " ['U_3801125', 'C_course-v1:TsinghuaX+20350033X+sp', 2],\n",
              " ['U_3801125', 'C_course-v1:BIT+PHY1701702+sp', 4],\n",
              " ['U_3801125', 'C_course-v1:BIT+PHY1701702+sp', 3],\n",
              " ['U_3801125', 'C_course-v1:BIT+PHY1701702+sp', 3],\n",
              " ['U_3801125', 'C_course-v1:TsinghuaX+20350033X+sp', 1],\n",
              " ['U_3801125', 'C_course-v1:TsinghuaX+20350033X+sp', 5],\n",
              " ['U_3801125', 'C_course-v1:TsinghuaX+20350033X+sp', 5],\n",
              " ['U_3801125', 'C_course-v1:BIT+PHY1701702+sp', 1],\n",
              " ['U_3801125', 'C_course-v1:TsinghuaX+20350033X+sp', 1],\n",
              " ['U_3801125', 'C_course-v1:TsinghuaX+10421075X_2015_2+sp', 2],\n",
              " ['U_3014700', 'C_course-v1:TsinghuaX+30240184+sp', 1],\n",
              " ['U_3014700', 'C_course-v1:TsinghuaX+30240184+sp', 1],\n",
              " ['U_3014700', 'C_course-v1:TsinghuaX+30240184+sp', 4],\n",
              " ['U_3014700', 'C_course-v1:TsinghuaX+30240184+sp', 1],\n",
              " ['U_3014700', 'C_course-v1:TsinghuaX+30240184+sp', 2],\n",
              " ['U_3014700', 'C_course-v1:NJU+C1026+2016_T2', 3],\n",
              " ['U_3014700', 'C_course-v1:TsinghuaX+30240184+sp', 1],\n",
              " ['U_3014700', 'C_course-v1:TsinghuaX+30240184+sp', 4],\n",
              " ['U_3014700', 'C_course-v1:TsinghuaX+30240184+sp', 1],\n",
              " ['U_3014700', 'C_course-v1:TsinghuaX+30240184+sp', 1],\n",
              " ['U_3014700', 'C_course-v1:TsinghuaX+30240184+sp', 2],\n",
              " ['U_3014700', 'C_course-v1:TsinghuaX+30640014X+sp', 2],\n",
              " ['U_3014700', 'C_course-v1:TsinghuaX+30240184+sp', 7],\n",
              " ['U_3014700', 'C_course-v1:TsinghuaX+30240184+sp', 5],\n",
              " ['U_3014700', 'C_course-v1:TsinghuaX+30240184+sp', 1],\n",
              " ['U_3014700', 'C_course-v1:TsinghuaX+30240184+sp', 5],\n",
              " ['U_3014700', 'C_course-v1:TsinghuaX+30240184+sp', 1],\n",
              " ['U_3014700', 'C_course-v1:TsinghuaX+30240184+sp', 4],\n",
              " ['U_3014700', 'C_course-v1:TsinghuaX+30240184+sp', 6],\n",
              " ['U_3014700', 'C_course-v1:TsinghuaX+30240184+sp', 1],\n",
              " ['U_3014700', 'C_course-v1:HUBU+2017022703X+sp', 1],\n",
              " ['U_3014700', 'C_course-v1:TsinghuaX+30240184+sp', 13],\n",
              " ['U_3014700', 'C_course-v1:TsinghuaX+30240184+sp', 4],\n",
              " ['U_3014700', 'C_course-v1:TsinghuaX+30240184+sp', 4],\n",
              " ['U_3014700', 'C_course-v1:TsinghuaX+30240184+sp', 1],\n",
              " ['U_3014700', 'C_course-v1:TsinghuaX+30240184+sp', 2],\n",
              " ['U_3014700', 'C_course-v1:TsinghuaX+30240184+sp', 10],\n",
              " ['U_3014700', 'C_course-v1:TsinghuaX+30640014X+sp', 1],\n",
              " ['U_3014700', 'C_course-v1:TsinghuaX+30240184+sp', 1],\n",
              " ['U_3014700', 'C_course-v1:TsinghuaX+30240184+sp', 1],\n",
              " ['U_3014700', 'C_course-v1:TsinghuaX+30240184+sp', 3],\n",
              " ['U_3014700', 'C_course-v1:TsinghuaX+30240184+sp', 5],\n",
              " ['U_3014700', 'C_course-v1:TsinghuaX+30240184+sp', 7],\n",
              " ['U_3014700', 'C_course-v1:TsinghuaX+30240184+sp', 15],\n",
              " ['U_3014700', 'C_course-v1:TsinghuaX+30240184+sp', 9],\n",
              " ['U_3014700', 'C_course-v1:TsinghuaX+30240184+sp', 3],\n",
              " ['U_3014700', 'C_course-v1:TsinghuaX+30240184+sp', 1],\n",
              " ['U_3014700', 'C_course-v1:TsinghuaX+30640014X+sp', 2],\n",
              " ['U_3014700', 'C_course-v1:TsinghuaX+30240184+sp', 1],\n",
              " ['U_3014700', 'C_course-v1:TsinghuaX+30240184+sp', 1],\n",
              " ['U_3014700', 'C_course-v1:NJU+C1026+2016_T2', 1],\n",
              " ['U_3014700', 'C_course-v1:TsinghuaX+30240184+sp', 2],\n",
              " ['U_3014700', 'C_course-v1:TsinghuaX+30240184+sp', 4],\n",
              " ['U_3014700', 'C_course-v1:TsinghuaX+30240184+sp', 2],\n",
              " ['U_3014700', 'C_course-v1:TsinghuaX+30240184+sp', 3],\n",
              " ['U_3014700', 'C_course-v1:HUBU+2017022703X+sp', 2],\n",
              " ['U_3014700', 'C_course-v1:TsinghuaX+30240184+sp', 1],\n",
              " ['U_3014700', 'C_course-v1:TsinghuaX+30240184+sp', 2],\n",
              " ['U_3014700', 'C_course-v1:TsinghuaX+30240184+sp', 8],\n",
              " ['U_3014700', 'C_course-v1:TsinghuaX+30240184+sp', 1],\n",
              " ['U_3014700', 'C_course-v1:HUBU+2017022703X+sp', 2],\n",
              " ['U_1835057', 'C_course-v1:FudanX+SOSC120007+sp', 7],\n",
              " ['U_1835057', 'C_course-v1:TsinghuaX+80000901X_1+sp', 2],\n",
              " ['U_1835057', 'C_course-v1:PekingX+Peking001x+_', 13],\n",
              " ['U_1835057', 'C_course-v1:TsinghuaX+00612642X+sp', 1],\n",
              " ['U_1835057', 'C_course-v1:TsinghuaX+30150303X+sp', 2],\n",
              " ['U_1835057', 'C_course-v1:TsinghuaX+400182X+sp', 5],\n",
              " ['U_1835057', 'C_course-v1:TsinghuaX+00690242+sp', 1],\n",
              " ['U_1835057', 'C_course-v1:TsinghuaX+34000888X+sp', 5],\n",
              " ['U_1835057', 'C_course-v1:MITx+15_390_2x+sp', 2],\n",
              " ['U_1835057', 'C_course-v1:PekingX+Peking001x+_', 1],\n",
              " ['U_1835057', 'C_course-v1:PekingX+Peking001x+_', 1],\n",
              " ['U_1835057', 'C_course-v1:TsinghuaX+34000888X+sp', 1],\n",
              " ['U_1835057', 'C_course-v1:PekingX+Peking001x+_', 6],\n",
              " ['U_1835057', 'C_course-v1:TsinghuaX+Intro2EltrMrt+2018_T2', 4],\n",
              " ['U_1835057', 'C_course-v1:FudanX+SOSC120007+sp', 3],\n",
              " ['U_1835057', 'C_course-v1:TsinghuaX+34000888X+sp', 6],\n",
              " ['U_1835057', 'C_course-v1:PekingX+Peking001x+_', 4],\n",
              " ['U_1835057', 'C_course-v1:TsinghuaX+34000888X+sp', 3],\n",
              " ['U_1835057', 'C_course-v1:PekingX+Peking001x+_', 2],\n",
              " ['U_1835057', 'C_course-v1:PekingX+Peking001x+_', 8],\n",
              " ['U_1835057', 'C_course-v1:TsinghuaX+34000888X+sp', 3],\n",
              " ['U_1835057', 'C_course-v1:TsinghuaX+00690242+sp', 2],\n",
              " ['U_1835057', 'C_course-v1:TsinghuaX+Intro2EltrMrt+2018_T2', 2],\n",
              " ['U_1835057', 'C_course-v1:TsinghuaX+30150303X+sp', 1],\n",
              " ['U_1835057', 'C_course-v1:PekingX+Peking001x+_', 9],\n",
              " ['U_1835057', 'C_course-v1:PekingX+Peking001x+_', 2],\n",
              " ['U_1835057', 'C_course-v1:TsinghuaX+400182X+sp', 1],\n",
              " ['U_1835057', 'C_course-v1:PekingX+Peking001x+_', 1],\n",
              " ['U_1835057', 'C_course-v1:PekingX+Peking001x+_', 7],\n",
              " ['U_1835057', 'C_course-v1:TsinghuaX+34000888X+sp', 2],\n",
              " ['U_1835057', 'C_course-v1:TsinghuaX+80000901X_1+sp', 2],\n",
              " ['U_1835057', 'C_course-v1:TsinghuaX+00612642X+sp', 1],\n",
              " ['U_1835057', 'C_course-v1:PekingX+Peking001x+_', 2],\n",
              " ['U_1835057', 'C_course-v1:PekingX+Peking001x+_', 1],\n",
              " ['U_1835057', 'C_course-v1:TsinghuaX+00612642X+sp', 2],\n",
              " ['U_1835057', 'C_course-v1:TsinghuaX+34000888X+sp', 1],\n",
              " ['U_1835057', 'C_course-v1:PekingX+Peking001x+_', 2],\n",
              " ['U_1835057', 'C_course-v1:TsinghuaX+400182X+sp', 3],\n",
              " ['U_1835057', 'C_course-v1:PekingX+Peking001x+_', 5],\n",
              " ['U_1835057', 'C_course-v1:PekingX+Peking001x+_', 8],\n",
              " ['U_1835057', 'C_course-v1:TsinghuaX+400182X+sp', 4],\n",
              " ['U_1835057', 'C_course-v1:TsinghuaX+34000888X+sp', 6],\n",
              " ['U_1835057', 'C_course-v1:PekingX+Peking001x+_', 3],\n",
              " ['U_1835057', 'C_course-v1:TsinghuaX+400182X+sp', 1],\n",
              " ['U_1835057', 'C_course-v1:TsinghuaX+00690242+sp', 1],\n",
              " ['U_1835057', 'C_course-v1:TsinghuaX+00701032X+sp', 1],\n",
              " ['U_1835057', 'C_course-v1:TsinghuaX+30320174X+sp', 2],\n",
              " ['U_1835057', 'C_course-v1:TsinghuaX+00701032X+sp', 8],\n",
              " ['U_1835057', 'C_course-v1:PekingX+Peking001x+_', 2],\n",
              " ['U_1835057', 'C_course-v1:TsinghuaX+400182X+sp', 3],\n",
              " ['U_1835057', 'C_course-v1:PekingX+Peking001x+_', 2],\n",
              " ['U_1835057', 'C_course-v1:TsinghuaX+34000888X+sp', 6],\n",
              " ['U_1835057', 'C_course-v1:TsinghuaX+80611322X+sp', 3],\n",
              " ['U_1835057', 'C_course-v1:TsinghuaX+30320174X+sp', 6],\n",
              " ['U_1835057', 'C_course-v1:PekingX+Peking001x+_', 1],\n",
              " ['U_6553662', 'C_course-v1:TsinghuaX+30640014X+sp', 2],\n",
              " ['U_6553662', 'C_course-v1:TsinghuaX+70120073X+sp', 2],\n",
              " ['U_6553662', 'C_course-v1:TsinghuaX+20220053X_2015_T2+sp', 1],\n",
              " ['U_6553662', 'C_course-v1:TsinghuaX+20220053X_2015_T2+sp', 12],\n",
              " ['U_6553662', 'C_course-v1:TsinghuaX+20220053X_2015_T2+sp', 2],\n",
              " ['U_6553662', 'C_course-v1:TsinghuaX+20220053X_2015_T2+sp', 8],\n",
              " ['U_6553662', 'C_course-v1:TsinghuaX+20250103X+sp', 2],\n",
              " ['U_6553662', 'C_course-v1:TsinghuaX+70120073X+sp', 3],\n",
              " ['U_6553662', 'C_course-v1:TsinghuaX+20220053X_2015_T2+sp', 3],\n",
              " ['U_6553662', 'C_course-v1:SPI+20170828001x+sp', 8],\n",
              " ['U_6553662', 'C_course-v1:SPI+20170828001x+sp', 1],\n",
              " ['U_6553662', 'C_course-v1:SPI+20170828001x+sp', 7],\n",
              " ['U_6553662', 'C_course-v1:UST+UST001+sp', 5],\n",
              " ['U_6553662', 'C_course-v1:SPI+20170828001x+sp', 1],\n",
              " ['U_6553662', 'C_course-v1:SPI+20170828001x+sp', 2],\n",
              " ['U_6553662', 'C_course-v1:UST+UST001+sp', 5],\n",
              " ['U_6553662', 'C_course-v1:TsinghuaX+20220053X_2015_T2+sp', 4],\n",
              " ['U_6553662', 'C_course-v1:UST+UST001+sp', 3],\n",
              " ['U_6553662', 'C_course-v1:SPI+20170828001x+sp', 3],\n",
              " ['U_6553662', 'C_course-v1:SPI+20170828001x+sp', 5],\n",
              " ['U_6553662', 'C_course-v1:MITx+6_00_1x+sp', 1],\n",
              " ['U_6553662', 'C_course-v1:TsinghuaX+20250103X+sp', 2],\n",
              " ['U_6553662', 'C_course-v1:SPI+20170828001x+sp', 1],\n",
              " ['U_6553662', 'C_course-v1:TsinghuaX+20220053X_2015_T2+sp', 55],\n",
              " ['U_6553662', 'C_course-v1:TsinghuaX+20250103X+sp', 2],\n",
              " ['U_6553662', 'C_course-v1:TsinghuaX+20220053X_2015_T2+sp', 16],\n",
              " ['U_6553662', 'C_course-v1:TsinghuaX+20220053X_2015_T2+sp', 12],\n",
              " ['U_6553662', 'C_course-v1:TsinghuaX+20250103X+sp', 3],\n",
              " ['U_6553662', 'C_course-v1:TsinghuaX+20250103X+sp', 4],\n",
              " ['U_6553662', 'C_course-v1:TsinghuaX+20250103X+sp', 1],\n",
              " ['U_6553662', 'C_course-v1:TsinghuaX+20220053X_2015_T2+sp', 4],\n",
              " ['U_6553662', 'C_course-v1:SPI+20170828001x+sp', 1],\n",
              " ['U_6553662', 'C_course-v1:SPI+20170828001x+sp', 1],\n",
              " ['U_6553662', 'C_course-v1:TsinghuaX+20220053X_2015_T2+sp', 8],\n",
              " ['U_6553662', 'C_course-v1:SPI+20170828001x+sp', 9],\n",
              " ['U_6553662', 'C_course-v1:SPI+20170828001x+sp', 1],\n",
              " ['U_6553662', 'C_course-v1:TsinghuaX+20220053X_2015_T2+sp', 7],\n",
              " ['U_6553662', 'C_course-v1:SPI+20170828001x+sp', 12],\n",
              " ['U_6553662', 'C_course-v1:SPI+20170828001x+sp', 4],\n",
              " ['U_6553662', 'C_course-v1:MITx+6_00_1x+sp', 1],\n",
              " ...]"
            ]
          },
          "execution_count": 159,
          "metadata": {},
          "output_type": "execute_result"
        }
      ],
      "source": [
        "user_item_int_list"
      ]
    },
    {
      "cell_type": "code",
      "execution_count": null,
      "metadata": {
        "id": "NDLW4Hi_yeAS"
      },
      "outputs": [],
      "source": [
        "user_item_data = pd.DataFrame(user_item_int_list, columns =['user_id', 'course_id', 'interaction'])"
      ]
    },
    {
      "cell_type": "code",
      "execution_count": null,
      "metadata": {
        "id": "2WlI76KZWiUP"
      },
      "outputs": [],
      "source": [
        "user_item_data = user_item_data.drop_duplicates(subset=[\"user_id\", \"course_id\"], keep='first')"
      ]
    },
    {
      "cell_type": "code",
      "execution_count": null,
      "metadata": {
        "id": "AIoZnXEpsknB"
      },
      "outputs": [],
      "source": [
        "id_list = list(set(list(user_data_sample['id'])) & set(list(user_item_data['user_id'])))"
      ]
    },
    {
      "cell_type": "code",
      "execution_count": null,
      "metadata": {
        "id": "bo6dWc_6wBdI"
      },
      "outputs": [],
      "source": [
        "cf_user = user_data_sample.loc[user_data_sample['id'].isin(id_list)]"
      ]
    },
    {
      "cell_type": "code",
      "execution_count": null,
      "metadata": {
        "id": "prpaZq3A1Jg_"
      },
      "outputs": [],
      "source": [
        "cf_user_ind = cf_user.index"
      ]
    },
    {
      "cell_type": "code",
      "execution_count": null,
      "metadata": {
        "id": "dzRZ2ndYyoQw"
      },
      "outputs": [],
      "source": [
        "rm_final_item_cf = []\n",
        "\n",
        "for i in range(cf_user.shape[0]):\n",
        "  rm_final_item_cf.append([cf_user.iloc[i][0],cf_user.iloc[i][2][-1]])"
      ]
    },
    {
      "cell_type": "code",
      "execution_count": null,
      "metadata": {
        "id": "k-gF4sZIz5Fz"
      },
      "outputs": [],
      "source": [
        "user_item_index = []\n",
        "for i in range(len(rm_final_item_cf)):\n",
        "  index_rm = user_item_data[(user_item_data['user_id'] == rm_final_item_cf[i][0]) & (user_item_data['course_id'] == rm_final_item_cf[i][1])].index\n",
        "  user_item_index.append(index_rm)"
      ]
    },
    {
      "cell_type": "code",
      "execution_count": null,
      "metadata": {
        "colab": {
          "base_uri": "https://localhost:8080/"
        },
        "id": "fsZU3l3U4-t4",
        "outputId": "a0f01d29-8342-4db6-8ddd-b9772cf15fb0"
      },
      "outputs": [
        {
          "name": "stderr",
          "output_type": "stream",
          "text": [
            "<ipython-input-167-252c7e32f89d>:1: DeprecationWarning: The truth value of an empty array is ambiguous. Returning False, but in future this will result in an error. Use `array.size > 0` to check that an array is not empty.\n",
            "  new_index = [ele for ele in user_item_index if ele != \"Int64Index([], dtype='int64')\"]\n"
          ]
        }
      ],
      "source": [
        "new_index = [ele for ele in user_item_index if ele != \"Int64Index([], dtype='int64')\"]"
      ]
    },
    {
      "cell_type": "code",
      "execution_count": null,
      "metadata": {
        "id": "ZciEcqi03jMy"
      },
      "outputs": [],
      "source": [
        "new_index_tr = []\n",
        "for i in range(len(new_index)):\n",
        "   new_index_tr.append(new_index[i][0])"
      ]
    },
    {
      "cell_type": "code",
      "execution_count": null,
      "metadata": {
        "id": "jymKQXa46kDs"
      },
      "outputs": [],
      "source": [
        "user_item_data.drop(index = new_index_tr, inplace = True)"
      ]
    },
    {
      "cell_type": "code",
      "execution_count": null,
      "metadata": {
        "id": "0p5RCEQ48Uz7"
      },
      "outputs": [],
      "source": [
        "course_info_data = pd.read_json('/content/drive/MyDrive/MOOCCube/entities/course.json', lines=True)"
      ]
    },
    {
      "cell_type": "code",
      "execution_count": null,
      "metadata": {
        "id": "0AZ4eb608aRd"
      },
      "outputs": [],
      "source": [
        "course_list_diff = list(set(list(course_info_data['id'])).symmetric_difference(set(list(course_encode.keys()))))"
      ]
    },
    {
      "cell_type": "code",
      "execution_count": null,
      "metadata": {
        "id": "J_DRpjJR9XPB"
      },
      "outputs": [],
      "source": [
        "course_encode['C_course-v1:nxu+2018122713+2019_T1'] = 661\n",
        "course_encode['C_course-v1:SDSNAssociation+ECD001+sp'] = 662\n",
        "course_encode['C_course-v1:SWPU+3615001035+2019_T1'] = 663\n",
        "course_encode['C_course-v1:LUIBE+201808064+2019_T1'] = 664\n",
        "course_encode['C_course-v1:nxu+2018122711+2019_T1'] = 665\n",
        "course_encode['C_course-v1:CIE+JD_2017+2019_T1'] = 666\n",
        "course_encode['C_course-v1:dlmu+20180906+2019_T1'] = 667\n",
        "course_encode['C_course-v1:BNU+2018122405X+2019_T1'] = 668\n",
        "course_encode['C_course-v1:CIE+CIE2016005+2019_T1'] = 669\n",
        "course_encode['C_course-v1:HIT+HIT2016001+2019_T1'] = 670\n",
        "course_encode['C_course-v1:SDSNAssociation+PB+sp'] = 671\n",
        "course_encode['C_course-v1:CIE+CIE2017008+2019_T1'] = 672\n",
        "course_encode['C_course-v1:FZXY+20180301001+2019_T1'] = 673\n",
        "course_encode['C_course-v1:CIE+CIE2017005+2019_T1'] = 674\n",
        "course_encode['C_course-v1:TsinghuaX+80511503X+2019_T1'] = 675\n",
        "course_encode['C_course-v1:CIE+CIE2017001+2019_T1'] = 676\n",
        "course_encode['C_course-v1:SDSNAssociation+SC001+sp'] = 677\n",
        "course_encode['C_course-v1:TJUFE+2018122506X+2019_T1'] = 678\n",
        "course_encode['C_course-v1:TsinghuaX+01510192X+2019_T1'] = 679\n",
        "course_encode['C_course-v1:XYSFXY+20181024X+2019_T1'] = 680\n",
        "course_encode['C_course-v1:HNU+20180424001+2018_T1'] = 681\n",
        "course_encode['C_course-v1:CSMZXY+2018111301X+2019_T2'] = 682\n",
        "course_encode['C_course-v1:TsinghuaX+80240372X+sp'] = 683\n",
        "course_encode['C_course-v1:JNU+11020009+2019_T1'] = 684\n",
        "course_encode['C_course-v1:BSU+2018122405X+2019_T1'] = 685\n",
        "course_encode['C_course-v1:SEU+00690803_2+2019_T1'] = 686\n",
        "course_encode['C_course-v1:PSFFC+2018102404X+2018_T2'] = 687\n",
        "course_encode['C_course-v1:NEU+2018051501+sp'] = 688\n",
        "course_encode['C_course-v1:CSU+2019043001X+2019_T1'] = 689\n",
        "course_encode['C_course-v1:SDSNAssociation+TOW001+sp'] = 690\n",
        "course_encode['C_course-v1:CIE+CIE2016004+2019_T1'] = 691\n",
        "course_encode['C_course-v1:SXPI+20171101002+sp'] = 692\n",
        "course_encode['C_course-v1:KMUSTX+1803168+2018_T2'] = 693\n",
        "course_encode['C_course-v1:SDUx+00931800X+sp'] = 694\n",
        "course_encode['C_course-v1:BSU+2018122404X+2019_T1'] = 695\n",
        "course_encode['C_course-v1:BNU+CHE21128011+2019_T1'] = 696\n",
        "course_encode['C_course-v1:ZZU+20180116001+2019_T1'] = 697\n",
        "course_encode['C_course-v1:SDSNAssociation+CSN+sp'] = 698\n",
        "course_encode['C_course-v1:TsinghuaX+70340063X+2019_T1'] = 699\n",
        "course_encode['C_course-v1:HEBUT+2019040202X+2019_T1'] = 700\n",
        "course_encode['C_course-v1:FAFU+55071003+2019_T1'] = 701\n",
        "course_encode['C_course-v1:XJTU+2018122507X+2018_T2'] = 702\n",
        "course_encode['C_course-v1:JNU+07009215+2019_T1'] = 703\n",
        "course_encode['C_course-v1:CIE+CIE2016002+2019_T1'] = 704\n",
        "course_encode['C_course-v1:BNU+2017112001X+2019_T1'] = 705\n",
        "course_encode['C_course-v1:HUBU+HU08001X+2019_T1'] = 706"
      ]
    },
    {
      "cell_type": "code",
      "execution_count": null,
      "metadata": {
        "id": "yD6691dNV6sn"
      },
      "outputs": [],
      "source": [
        "course_list_diff = list(set(list(course_info_data['id'])).symmetric_difference(set(list(dict_lookup_course_school.keys()))))"
      ]
    },
    {
      "cell_type": "code",
      "execution_count": null,
      "metadata": {
        "id": "J5YiHQTBWFgH"
      },
      "outputs": [],
      "source": [
        "course_list_diff = list(set(list(course_info_data['id'])).symmetric_difference(set(list(dict_lookup_course_teacher.keys()))))"
      ]
    },
    {
      "cell_type": "code",
      "execution_count": null,
      "metadata": {
        "id": "R7G2eobP7d_-"
      },
      "outputs": [],
      "source": [
        "user_item_data['course_id'] = [course_encode[item] for item in user_item_data['course_id']]"
      ]
    },
    {
      "cell_type": "code",
      "execution_count": null,
      "metadata": {
        "id": "OAl9Yzdc9cr-"
      },
      "outputs": [],
      "source": [
        "user_item_data_matrix = user_item_data.pivot(index='user_id', columns='course_id', values='interaction')\n",
        "user_item_data_matrix = user_item_data_matrix.fillna(0)"
      ]
    },
    {
      "cell_type": "code",
      "execution_count": null,
      "metadata": {
        "colab": {
          "base_uri": "https://localhost:8080/"
        },
        "id": "ntCtn6UFevFU",
        "outputId": "228640ed-1717-483e-f821-1b0169895aa9"
      },
      "outputs": [
        {
          "data": {
            "text/plain": [
              "<5000x602 sparse matrix of type '<class 'numpy.float64'>'\n",
              "\twith 27526 stored elements in Compressed Sparse Row format>"
            ]
          },
          "execution_count": 177,
          "metadata": {},
          "output_type": "execute_result"
        }
      ],
      "source": [
        "from scipy.sparse import csr_matrix\n",
        "mat_items_users=csr_matrix(user_item_data_matrix.values)\n",
        "mat_items_users"
      ]
    },
    {
      "cell_type": "markdown",
      "metadata": {
        "id": "A05Jo5s9gpiJ"
      },
      "source": [
        "## Modelling - CF"
      ]
    },
    {
      "cell_type": "code",
      "execution_count": null,
      "metadata": {
        "colab": {
          "base_uri": "https://localhost:8080/",
          "height": 74
        },
        "id": "S_0Ym8zre_6G",
        "outputId": "f82a8c01-4253-42ba-dd60-b3131b0d1630"
      },
      "outputs": [
        {
          "data": {
            "text/html": [
              "<style>#sk-container-id-1 {color: black;background-color: white;}#sk-container-id-1 pre{padding: 0;}#sk-container-id-1 div.sk-toggleable {background-color: white;}#sk-container-id-1 label.sk-toggleable__label {cursor: pointer;display: block;width: 100%;margin-bottom: 0;padding: 0.3em;box-sizing: border-box;text-align: center;}#sk-container-id-1 label.sk-toggleable__label-arrow:before {content: \"▸\";float: left;margin-right: 0.25em;color: #696969;}#sk-container-id-1 label.sk-toggleable__label-arrow:hover:before {color: black;}#sk-container-id-1 div.sk-estimator:hover label.sk-toggleable__label-arrow:before {color: black;}#sk-container-id-1 div.sk-toggleable__content {max-height: 0;max-width: 0;overflow: hidden;text-align: left;background-color: #f0f8ff;}#sk-container-id-1 div.sk-toggleable__content pre {margin: 0.2em;color: black;border-radius: 0.25em;background-color: #f0f8ff;}#sk-container-id-1 input.sk-toggleable__control:checked~div.sk-toggleable__content {max-height: 200px;max-width: 100%;overflow: auto;}#sk-container-id-1 input.sk-toggleable__control:checked~label.sk-toggleable__label-arrow:before {content: \"▾\";}#sk-container-id-1 div.sk-estimator input.sk-toggleable__control:checked~label.sk-toggleable__label {background-color: #d4ebff;}#sk-container-id-1 div.sk-label input.sk-toggleable__control:checked~label.sk-toggleable__label {background-color: #d4ebff;}#sk-container-id-1 input.sk-hidden--visually {border: 0;clip: rect(1px 1px 1px 1px);clip: rect(1px, 1px, 1px, 1px);height: 1px;margin: -1px;overflow: hidden;padding: 0;position: absolute;width: 1px;}#sk-container-id-1 div.sk-estimator {font-family: monospace;background-color: #f0f8ff;border: 1px dotted black;border-radius: 0.25em;box-sizing: border-box;margin-bottom: 0.5em;}#sk-container-id-1 div.sk-estimator:hover {background-color: #d4ebff;}#sk-container-id-1 div.sk-parallel-item::after {content: \"\";width: 100%;border-bottom: 1px solid gray;flex-grow: 1;}#sk-container-id-1 div.sk-label:hover label.sk-toggleable__label {background-color: #d4ebff;}#sk-container-id-1 div.sk-serial::before {content: \"\";position: absolute;border-left: 1px solid gray;box-sizing: border-box;top: 0;bottom: 0;left: 50%;z-index: 0;}#sk-container-id-1 div.sk-serial {display: flex;flex-direction: column;align-items: center;background-color: white;padding-right: 0.2em;padding-left: 0.2em;position: relative;}#sk-container-id-1 div.sk-item {position: relative;z-index: 1;}#sk-container-id-1 div.sk-parallel {display: flex;align-items: stretch;justify-content: center;background-color: white;position: relative;}#sk-container-id-1 div.sk-item::before, #sk-container-id-1 div.sk-parallel-item::before {content: \"\";position: absolute;border-left: 1px solid gray;box-sizing: border-box;top: 0;bottom: 0;left: 50%;z-index: -1;}#sk-container-id-1 div.sk-parallel-item {display: flex;flex-direction: column;z-index: 1;position: relative;background-color: white;}#sk-container-id-1 div.sk-parallel-item:first-child::after {align-self: flex-end;width: 50%;}#sk-container-id-1 div.sk-parallel-item:last-child::after {align-self: flex-start;width: 50%;}#sk-container-id-1 div.sk-parallel-item:only-child::after {width: 0;}#sk-container-id-1 div.sk-dashed-wrapped {border: 1px dashed gray;margin: 0 0.4em 0.5em 0.4em;box-sizing: border-box;padding-bottom: 0.4em;background-color: white;}#sk-container-id-1 div.sk-label label {font-family: monospace;font-weight: bold;display: inline-block;line-height: 1.2em;}#sk-container-id-1 div.sk-label-container {text-align: center;}#sk-container-id-1 div.sk-container {/* jupyter's `normalize.less` sets `[hidden] { display: none; }` but bootstrap.min.css set `[hidden] { display: none !important; }` so we also need the `!important` here to be able to override the default hidden behavior on the sphinx rendered scikit-learn.org. See: https://github.com/scikit-learn/scikit-learn/issues/21755 */display: inline-block !important;position: relative;}#sk-container-id-1 div.sk-text-repr-fallback {display: none;}</style><div id=\"sk-container-id-1\" class=\"sk-top-container\"><div class=\"sk-text-repr-fallback\"><pre>NearestNeighbors(algorithm=&#x27;brute&#x27;, metric=&#x27;cosine&#x27;, n_jobs=-1, n_neighbors=20)</pre><b>In a Jupyter environment, please rerun this cell to show the HTML representation or trust the notebook. <br />On GitHub, the HTML representation is unable to render, please try loading this page with nbviewer.org.</b></div><div class=\"sk-container\" hidden><div class=\"sk-item\"><div class=\"sk-estimator sk-toggleable\"><input class=\"sk-toggleable__control sk-hidden--visually\" id=\"sk-estimator-id-1\" type=\"checkbox\" checked><label for=\"sk-estimator-id-1\" class=\"sk-toggleable__label sk-toggleable__label-arrow\">NearestNeighbors</label><div class=\"sk-toggleable__content\"><pre>NearestNeighbors(algorithm=&#x27;brute&#x27;, metric=&#x27;cosine&#x27;, n_jobs=-1, n_neighbors=20)</pre></div></div></div></div></div>"
            ],
            "text/plain": [
              "NearestNeighbors(algorithm='brute', metric='cosine', n_jobs=-1, n_neighbors=20)"
            ]
          },
          "execution_count": 178,
          "metadata": {},
          "output_type": "execute_result"
        }
      ],
      "source": [
        "from sklearn.neighbors import NearestNeighbors\n",
        "model_knn= NearestNeighbors(metric='cosine', algorithm='brute', n_neighbors=20, n_jobs=-1)\n",
        "model_knn.fit(mat_items_users)"
      ]
    },
    {
      "cell_type": "code",
      "execution_count": null,
      "metadata": {
        "id": "_GmQDlVFfSPg"
      },
      "outputs": [],
      "source": [
        "#from fuzzywuzzy import process\n",
        "def Recommender(course_name):#, data, model, n_recommendations):\n",
        "    model_knn.fit(mat_items_users)\n",
        "    #course_index = process.extractOne(course_name, user_item_data['course_id'])[2]\n",
        "    course_index = course_name\n",
        "    distances, indices = model_knn.kneighbors(mat_items_users[course_index], n_neighbors=6)\n",
        "    recc_course_indices = sorted(list(zip(indices.squeeze().tolist(),distances.squeeze().tolist())),key=lambda x: x[1])[:0:-1]\n",
        "    recommend_frame = []\n",
        "    for val in recc_course_indices:\n",
        "#         print(movie_names['title'][val[0]]\n",
        "        recommend_frame.append(user_item_data['course_id'].iloc[val[0]])\n",
        "        #recommend_frame.append([val[0]])\n",
        "\n",
        "    ###df = pd.DataFrame(recommend_frame, index = range(1,n_recommendations))\n",
        "\n",
        "    return recommend_frame"
      ]
    },
    {
      "cell_type": "code",
      "execution_count": null,
      "metadata": {
        "id": "AO8azvBmsJFy"
      },
      "outputs": [],
      "source": [
        "pred_CF = []\n",
        "\n",
        "for i in X_test_unscale['course_9']:\n",
        "  pred_CF.append(list(Recommender(i)))"
      ]
    },
    {
      "cell_type": "code",
      "execution_count": null,
      "metadata": {
        "id": "SfrCo_7ssJF1"
      },
      "outputs": [],
      "source": [
        "pred_CF = pd.DataFrame(pred_CF)"
      ]
    },
    {
      "cell_type": "code",
      "execution_count": null,
      "metadata": {
        "colab": {
          "base_uri": "https://localhost:8080/",
          "height": 423
        },
        "id": "gEF6_XQysJF3",
        "outputId": "30f724f6-fa9a-48a7-eef5-c61f7d54a845"
      },
      "outputs": [
        {
          "data": {
            "application/vnd.google.colaboratory.intrinsic+json": {
              "summary": "{\n  \"name\": \"pred_CF\",\n  \"rows\": 1793,\n  \"fields\": [\n    {\n      \"column\": 0,\n      \"properties\": {\n        \"dtype\": \"number\",\n        \"std\": 125,\n        \"min\": 2,\n        \"max\": 645,\n        \"num_unique_values\": 131,\n        \"samples\": [\n          613,\n          495,\n          497\n        ],\n        \"semantic_type\": \"\",\n        \"description\": \"\"\n      }\n    },\n    {\n      \"column\": 1,\n      \"properties\": {\n        \"dtype\": \"number\",\n        \"std\": 143,\n        \"min\": 13,\n        \"max\": 645,\n        \"num_unique_values\": 140,\n        \"samples\": [\n          506,\n          364,\n          135\n        ],\n        \"semantic_type\": \"\",\n        \"description\": \"\"\n      }\n    },\n    {\n      \"column\": 2,\n      \"properties\": {\n        \"dtype\": \"number\",\n        \"std\": 123,\n        \"min\": 11,\n        \"max\": 635,\n        \"num_unique_values\": 137,\n        \"samples\": [\n          498,\n          552,\n          352\n        ],\n        \"semantic_type\": \"\",\n        \"description\": \"\"\n      }\n    },\n    {\n      \"column\": 3,\n      \"properties\": {\n        \"dtype\": \"number\",\n        \"std\": 126,\n        \"min\": 11,\n        \"max\": 640,\n        \"num_unique_values\": 134,\n        \"samples\": [\n          482,\n          498,\n          95\n        ],\n        \"semantic_type\": \"\",\n        \"description\": \"\"\n      }\n    },\n    {\n      \"column\": 4,\n      \"properties\": {\n        \"dtype\": \"number\",\n        \"std\": 129,\n        \"min\": 13,\n        \"max\": 643,\n        \"num_unique_values\": 136,\n        \"samples\": [\n          558,\n          370,\n          537\n        ],\n        \"semantic_type\": \"\",\n        \"description\": \"\"\n      }\n    }\n  ]\n}",
              "type": "dataframe",
              "variable_name": "pred_CF"
            },
            "text/html": [
              "\n",
              "  <div id=\"df-38eb3d3e-b814-4b0c-aa07-9511e403ddae\" class=\"colab-df-container\">\n",
              "    <div>\n",
              "<style scoped>\n",
              "    .dataframe tbody tr th:only-of-type {\n",
              "        vertical-align: middle;\n",
              "    }\n",
              "\n",
              "    .dataframe tbody tr th {\n",
              "        vertical-align: top;\n",
              "    }\n",
              "\n",
              "    .dataframe thead th {\n",
              "        text-align: right;\n",
              "    }\n",
              "</style>\n",
              "<table border=\"1\" class=\"dataframe\">\n",
              "  <thead>\n",
              "    <tr style=\"text-align: right;\">\n",
              "      <th></th>\n",
              "      <th>0</th>\n",
              "      <th>1</th>\n",
              "      <th>2</th>\n",
              "      <th>3</th>\n",
              "      <th>4</th>\n",
              "    </tr>\n",
              "  </thead>\n",
              "  <tbody>\n",
              "    <tr>\n",
              "      <th>0</th>\n",
              "      <td>434</td>\n",
              "      <td>355</td>\n",
              "      <td>503</td>\n",
              "      <td>406</td>\n",
              "      <td>348</td>\n",
              "    </tr>\n",
              "    <tr>\n",
              "      <th>1</th>\n",
              "      <td>445</td>\n",
              "      <td>155</td>\n",
              "      <td>582</td>\n",
              "      <td>449</td>\n",
              "      <td>586</td>\n",
              "    </tr>\n",
              "    <tr>\n",
              "      <th>2</th>\n",
              "      <td>309</td>\n",
              "      <td>434</td>\n",
              "      <td>406</td>\n",
              "      <td>503</td>\n",
              "      <td>483</td>\n",
              "    </tr>\n",
              "    <tr>\n",
              "      <th>3</th>\n",
              "      <td>558</td>\n",
              "      <td>301</td>\n",
              "      <td>115</td>\n",
              "      <td>408</td>\n",
              "      <td>321</td>\n",
              "    </tr>\n",
              "    <tr>\n",
              "      <th>4</th>\n",
              "      <td>309</td>\n",
              "      <td>222</td>\n",
              "      <td>437</td>\n",
              "      <td>515</td>\n",
              "      <td>408</td>\n",
              "    </tr>\n",
              "    <tr>\n",
              "      <th>...</th>\n",
              "      <td>...</td>\n",
              "      <td>...</td>\n",
              "      <td>...</td>\n",
              "      <td>...</td>\n",
              "      <td>...</td>\n",
              "    </tr>\n",
              "    <tr>\n",
              "      <th>1788</th>\n",
              "      <td>484</td>\n",
              "      <td>449</td>\n",
              "      <td>348</td>\n",
              "      <td>449</td>\n",
              "      <td>415</td>\n",
              "    </tr>\n",
              "    <tr>\n",
              "      <th>1789</th>\n",
              "      <td>437</td>\n",
              "      <td>449</td>\n",
              "      <td>342</td>\n",
              "      <td>635</td>\n",
              "      <td>26</td>\n",
              "    </tr>\n",
              "    <tr>\n",
              "      <th>1790</th>\n",
              "      <td>209</td>\n",
              "      <td>172</td>\n",
              "      <td>625</td>\n",
              "      <td>408</td>\n",
              "      <td>535</td>\n",
              "    </tr>\n",
              "    <tr>\n",
              "      <th>1791</th>\n",
              "      <td>227</td>\n",
              "      <td>364</td>\n",
              "      <td>158</td>\n",
              "      <td>434</td>\n",
              "      <td>290</td>\n",
              "    </tr>\n",
              "    <tr>\n",
              "      <th>1792</th>\n",
              "      <td>119</td>\n",
              "      <td>321</td>\n",
              "      <td>370</td>\n",
              "      <td>29</td>\n",
              "      <td>81</td>\n",
              "    </tr>\n",
              "  </tbody>\n",
              "</table>\n",
              "<p>1793 rows × 5 columns</p>\n",
              "</div>\n",
              "    <div class=\"colab-df-buttons\">\n",
              "\n",
              "  <div class=\"colab-df-container\">\n",
              "    <button class=\"colab-df-convert\" onclick=\"convertToInteractive('df-38eb3d3e-b814-4b0c-aa07-9511e403ddae')\"\n",
              "            title=\"Convert this dataframe to an interactive table.\"\n",
              "            style=\"display:none;\">\n",
              "\n",
              "  <svg xmlns=\"http://www.w3.org/2000/svg\" height=\"24px\" viewBox=\"0 -960 960 960\">\n",
              "    <path d=\"M120-120v-720h720v720H120Zm60-500h600v-160H180v160Zm220 220h160v-160H400v160Zm0 220h160v-160H400v160ZM180-400h160v-160H180v160Zm440 0h160v-160H620v160ZM180-180h160v-160H180v160Zm440 0h160v-160H620v160Z\"/>\n",
              "  </svg>\n",
              "    </button>\n",
              "\n",
              "  <style>\n",
              "    .colab-df-container {\n",
              "      display:flex;\n",
              "      gap: 12px;\n",
              "    }\n",
              "\n",
              "    .colab-df-convert {\n",
              "      background-color: #E8F0FE;\n",
              "      border: none;\n",
              "      border-radius: 50%;\n",
              "      cursor: pointer;\n",
              "      display: none;\n",
              "      fill: #1967D2;\n",
              "      height: 32px;\n",
              "      padding: 0 0 0 0;\n",
              "      width: 32px;\n",
              "    }\n",
              "\n",
              "    .colab-df-convert:hover {\n",
              "      background-color: #E2EBFA;\n",
              "      box-shadow: 0px 1px 2px rgba(60, 64, 67, 0.3), 0px 1px 3px 1px rgba(60, 64, 67, 0.15);\n",
              "      fill: #174EA6;\n",
              "    }\n",
              "\n",
              "    .colab-df-buttons div {\n",
              "      margin-bottom: 4px;\n",
              "    }\n",
              "\n",
              "    [theme=dark] .colab-df-convert {\n",
              "      background-color: #3B4455;\n",
              "      fill: #D2E3FC;\n",
              "    }\n",
              "\n",
              "    [theme=dark] .colab-df-convert:hover {\n",
              "      background-color: #434B5C;\n",
              "      box-shadow: 0px 1px 3px 1px rgba(0, 0, 0, 0.15);\n",
              "      filter: drop-shadow(0px 1px 2px rgba(0, 0, 0, 0.3));\n",
              "      fill: #FFFFFF;\n",
              "    }\n",
              "  </style>\n",
              "\n",
              "    <script>\n",
              "      const buttonEl =\n",
              "        document.querySelector('#df-38eb3d3e-b814-4b0c-aa07-9511e403ddae button.colab-df-convert');\n",
              "      buttonEl.style.display =\n",
              "        google.colab.kernel.accessAllowed ? 'block' : 'none';\n",
              "\n",
              "      async function convertToInteractive(key) {\n",
              "        const element = document.querySelector('#df-38eb3d3e-b814-4b0c-aa07-9511e403ddae');\n",
              "        const dataTable =\n",
              "          await google.colab.kernel.invokeFunction('convertToInteractive',\n",
              "                                                    [key], {});\n",
              "        if (!dataTable) return;\n",
              "\n",
              "        const docLinkHtml = 'Like what you see? Visit the ' +\n",
              "          '<a target=\"_blank\" href=https://colab.research.google.com/notebooks/data_table.ipynb>data table notebook</a>'\n",
              "          + ' to learn more about interactive tables.';\n",
              "        element.innerHTML = '';\n",
              "        dataTable['output_type'] = 'display_data';\n",
              "        await google.colab.output.renderOutput(dataTable, element);\n",
              "        const docLink = document.createElement('div');\n",
              "        docLink.innerHTML = docLinkHtml;\n",
              "        element.appendChild(docLink);\n",
              "      }\n",
              "    </script>\n",
              "  </div>\n",
              "\n",
              "\n",
              "<div id=\"df-da67661e-32dc-4e69-99cf-ab855be370d2\">\n",
              "  <button class=\"colab-df-quickchart\" onclick=\"quickchart('df-da67661e-32dc-4e69-99cf-ab855be370d2')\"\n",
              "            title=\"Suggest charts\"\n",
              "            style=\"display:none;\">\n",
              "\n",
              "<svg xmlns=\"http://www.w3.org/2000/svg\" height=\"24px\"viewBox=\"0 0 24 24\"\n",
              "     width=\"24px\">\n",
              "    <g>\n",
              "        <path d=\"M19 3H5c-1.1 0-2 .9-2 2v14c0 1.1.9 2 2 2h14c1.1 0 2-.9 2-2V5c0-1.1-.9-2-2-2zM9 17H7v-7h2v7zm4 0h-2V7h2v10zm4 0h-2v-4h2v4z\"/>\n",
              "    </g>\n",
              "</svg>\n",
              "  </button>\n",
              "\n",
              "<style>\n",
              "  .colab-df-quickchart {\n",
              "      --bg-color: #E8F0FE;\n",
              "      --fill-color: #1967D2;\n",
              "      --hover-bg-color: #E2EBFA;\n",
              "      --hover-fill-color: #174EA6;\n",
              "      --disabled-fill-color: #AAA;\n",
              "      --disabled-bg-color: #DDD;\n",
              "  }\n",
              "\n",
              "  [theme=dark] .colab-df-quickchart {\n",
              "      --bg-color: #3B4455;\n",
              "      --fill-color: #D2E3FC;\n",
              "      --hover-bg-color: #434B5C;\n",
              "      --hover-fill-color: #FFFFFF;\n",
              "      --disabled-bg-color: #3B4455;\n",
              "      --disabled-fill-color: #666;\n",
              "  }\n",
              "\n",
              "  .colab-df-quickchart {\n",
              "    background-color: var(--bg-color);\n",
              "    border: none;\n",
              "    border-radius: 50%;\n",
              "    cursor: pointer;\n",
              "    display: none;\n",
              "    fill: var(--fill-color);\n",
              "    height: 32px;\n",
              "    padding: 0;\n",
              "    width: 32px;\n",
              "  }\n",
              "\n",
              "  .colab-df-quickchart:hover {\n",
              "    background-color: var(--hover-bg-color);\n",
              "    box-shadow: 0 1px 2px rgba(60, 64, 67, 0.3), 0 1px 3px 1px rgba(60, 64, 67, 0.15);\n",
              "    fill: var(--button-hover-fill-color);\n",
              "  }\n",
              "\n",
              "  .colab-df-quickchart-complete:disabled,\n",
              "  .colab-df-quickchart-complete:disabled:hover {\n",
              "    background-color: var(--disabled-bg-color);\n",
              "    fill: var(--disabled-fill-color);\n",
              "    box-shadow: none;\n",
              "  }\n",
              "\n",
              "  .colab-df-spinner {\n",
              "    border: 2px solid var(--fill-color);\n",
              "    border-color: transparent;\n",
              "    border-bottom-color: var(--fill-color);\n",
              "    animation:\n",
              "      spin 1s steps(1) infinite;\n",
              "  }\n",
              "\n",
              "  @keyframes spin {\n",
              "    0% {\n",
              "      border-color: transparent;\n",
              "      border-bottom-color: var(--fill-color);\n",
              "      border-left-color: var(--fill-color);\n",
              "    }\n",
              "    20% {\n",
              "      border-color: transparent;\n",
              "      border-left-color: var(--fill-color);\n",
              "      border-top-color: var(--fill-color);\n",
              "    }\n",
              "    30% {\n",
              "      border-color: transparent;\n",
              "      border-left-color: var(--fill-color);\n",
              "      border-top-color: var(--fill-color);\n",
              "      border-right-color: var(--fill-color);\n",
              "    }\n",
              "    40% {\n",
              "      border-color: transparent;\n",
              "      border-right-color: var(--fill-color);\n",
              "      border-top-color: var(--fill-color);\n",
              "    }\n",
              "    60% {\n",
              "      border-color: transparent;\n",
              "      border-right-color: var(--fill-color);\n",
              "    }\n",
              "    80% {\n",
              "      border-color: transparent;\n",
              "      border-right-color: var(--fill-color);\n",
              "      border-bottom-color: var(--fill-color);\n",
              "    }\n",
              "    90% {\n",
              "      border-color: transparent;\n",
              "      border-bottom-color: var(--fill-color);\n",
              "    }\n",
              "  }\n",
              "</style>\n",
              "\n",
              "  <script>\n",
              "    async function quickchart(key) {\n",
              "      const quickchartButtonEl =\n",
              "        document.querySelector('#' + key + ' button');\n",
              "      quickchartButtonEl.disabled = true;  // To prevent multiple clicks.\n",
              "      quickchartButtonEl.classList.add('colab-df-spinner');\n",
              "      try {\n",
              "        const charts = await google.colab.kernel.invokeFunction(\n",
              "            'suggestCharts', [key], {});\n",
              "      } catch (error) {\n",
              "        console.error('Error during call to suggestCharts:', error);\n",
              "      }\n",
              "      quickchartButtonEl.classList.remove('colab-df-spinner');\n",
              "      quickchartButtonEl.classList.add('colab-df-quickchart-complete');\n",
              "    }\n",
              "    (() => {\n",
              "      let quickchartButtonEl =\n",
              "        document.querySelector('#df-da67661e-32dc-4e69-99cf-ab855be370d2 button');\n",
              "      quickchartButtonEl.style.display =\n",
              "        google.colab.kernel.accessAllowed ? 'block' : 'none';\n",
              "    })();\n",
              "  </script>\n",
              "</div>\n",
              "\n",
              "  <div id=\"id_b7faa896-60e9-4a90-ab5c-b9c3bd15fb7d\">\n",
              "    <style>\n",
              "      .colab-df-generate {\n",
              "        background-color: #E8F0FE;\n",
              "        border: none;\n",
              "        border-radius: 50%;\n",
              "        cursor: pointer;\n",
              "        display: none;\n",
              "        fill: #1967D2;\n",
              "        height: 32px;\n",
              "        padding: 0 0 0 0;\n",
              "        width: 32px;\n",
              "      }\n",
              "\n",
              "      .colab-df-generate:hover {\n",
              "        background-color: #E2EBFA;\n",
              "        box-shadow: 0px 1px 2px rgba(60, 64, 67, 0.3), 0px 1px 3px 1px rgba(60, 64, 67, 0.15);\n",
              "        fill: #174EA6;\n",
              "      }\n",
              "\n",
              "      [theme=dark] .colab-df-generate {\n",
              "        background-color: #3B4455;\n",
              "        fill: #D2E3FC;\n",
              "      }\n",
              "\n",
              "      [theme=dark] .colab-df-generate:hover {\n",
              "        background-color: #434B5C;\n",
              "        box-shadow: 0px 1px 3px 1px rgba(0, 0, 0, 0.15);\n",
              "        filter: drop-shadow(0px 1px 2px rgba(0, 0, 0, 0.3));\n",
              "        fill: #FFFFFF;\n",
              "      }\n",
              "    </style>\n",
              "    <button class=\"colab-df-generate\" onclick=\"generateWithVariable('pred_CF')\"\n",
              "            title=\"Generate code using this dataframe.\"\n",
              "            style=\"display:none;\">\n",
              "\n",
              "  <svg xmlns=\"http://www.w3.org/2000/svg\" height=\"24px\"viewBox=\"0 0 24 24\"\n",
              "       width=\"24px\">\n",
              "    <path d=\"M7,19H8.4L18.45,9,17,7.55,7,17.6ZM5,21V16.75L18.45,3.32a2,2,0,0,1,2.83,0l1.4,1.43a1.91,1.91,0,0,1,.58,1.4,1.91,1.91,0,0,1-.58,1.4L9.25,21ZM18.45,9,17,7.55Zm-12,3A5.31,5.31,0,0,0,4.9,8.1,5.31,5.31,0,0,0,1,6.5,5.31,5.31,0,0,0,4.9,4.9,5.31,5.31,0,0,0,6.5,1,5.31,5.31,0,0,0,8.1,4.9,5.31,5.31,0,0,0,12,6.5,5.46,5.46,0,0,0,6.5,12Z\"/>\n",
              "  </svg>\n",
              "    </button>\n",
              "    <script>\n",
              "      (() => {\n",
              "      const buttonEl =\n",
              "        document.querySelector('#id_b7faa896-60e9-4a90-ab5c-b9c3bd15fb7d button.colab-df-generate');\n",
              "      buttonEl.style.display =\n",
              "        google.colab.kernel.accessAllowed ? 'block' : 'none';\n",
              "\n",
              "      buttonEl.onclick = () => {\n",
              "        google.colab.notebook.generateWithVariable('pred_CF');\n",
              "      }\n",
              "      })();\n",
              "    </script>\n",
              "  </div>\n",
              "\n",
              "    </div>\n",
              "  </div>\n"
            ],
            "text/plain": [
              "        0    1    2    3    4\n",
              "0     434  355  503  406  348\n",
              "1     445  155  582  449  586\n",
              "2     309  434  406  503  483\n",
              "3     558  301  115  408  321\n",
              "4     309  222  437  515  408\n",
              "...   ...  ...  ...  ...  ...\n",
              "1788  484  449  348  449  415\n",
              "1789  437  449  342  635   26\n",
              "1790  209  172  625  408  535\n",
              "1791  227  364  158  434  290\n",
              "1792  119  321  370   29   81\n",
              "\n",
              "[1793 rows x 5 columns]"
            ]
          },
          "execution_count": 182,
          "metadata": {},
          "output_type": "execute_result"
        }
      ],
      "source": [
        "pred_CF"
      ]
    },
    {
      "cell_type": "markdown",
      "metadata": {
        "id": "CBrHKeMLgteI"
      },
      "source": [
        "## Evaluation - CF"
      ]
    },
    {
      "cell_type": "markdown",
      "metadata": {
        "id": "CuTLLykIw2Ws"
      },
      "source": [
        "### Evaluation Actualness - CF"
      ]
    },
    {
      "cell_type": "code",
      "execution_count": null,
      "metadata": {
        "colab": {
          "base_uri": "https://localhost:8080/"
        },
        "id": "qu7-V83Uw2XD",
        "outputId": "7b37e838-5bd3-46af-f937-272ae9c6b3de"
      },
      "outputs": [
        {
          "data": {
            "text/plain": [
              "0.004948875255623722"
            ]
          },
          "execution_count": 183,
          "metadata": {},
          "output_type": "execute_result"
        }
      ],
      "source": [
        "CF_map_5_actual = []\n",
        "\n",
        "for i in range(len(Y_test)):\n",
        "  CF_map_5_actual.append(apk_act(Y_test.iloc[i],list(pred_CF.iloc[i]), k=5))\n",
        "\n",
        "map_CF_actual = mean(CF_map_5_actual)\n",
        "map_CF_actual"
      ]
    },
    {
      "cell_type": "code",
      "execution_count": null,
      "metadata": {
        "colab": {
          "base_uri": "https://localhost:8080/"
        },
        "id": "pVL8-L0vw2XD",
        "outputId": "3e037531-0db4-4f78-96eb-c11b478ea34c"
      },
      "outputs": [
        {
          "data": {
            "text/plain": [
              "0.05298382598996096"
            ]
          },
          "execution_count": 184,
          "metadata": {},
          "output_type": "execute_result"
        }
      ],
      "source": [
        "CF_hit_5_actual = []\n",
        "\n",
        "for i in range(len(Y_test)):\n",
        "  CF_hit_5_actual.append(hr_act(Y_test.iloc[i],list(pred_CF.iloc[i]), k=5))\n",
        "\n",
        "hr_CF_actual = mean(CF_hit_5_actual)\n",
        "hr_CF_actual"
      ]
    },
    {
      "cell_type": "code",
      "execution_count": null,
      "metadata": {
        "colab": {
          "base_uri": "https://localhost:8080/"
        },
        "id": "jWkxbLwZw2XD",
        "outputId": "9d56d871-dab7-46b3-bc98-10e8f3810e73"
      },
      "outputs": [
        {
          "data": {
            "text/plain": [
              "0.023238520171035507"
            ]
          },
          "execution_count": 185,
          "metadata": {},
          "output_type": "execute_result"
        }
      ],
      "source": [
        "CF_rr_5_actual = []\n",
        "\n",
        "for i in range(len(Y_test)):\n",
        "  CF_rr_5_actual.append(rr_act(Y_test.iloc[i],list(pred_CF.iloc[i]), k=5))\n",
        "\n",
        "rr_CF_actual = mean(CF_rr_5_actual)\n",
        "rr_CF_actual"
      ]
    },
    {
      "cell_type": "code",
      "execution_count": null,
      "metadata": {
        "colab": {
          "base_uri": "https://localhost:8080/"
        },
        "id": "fBrR5Ovcw2XE",
        "outputId": "79e3d21f-e339-430a-b86f-bbc9429f044a"
      },
      "outputs": [
        {
          "data": {
            "text/plain": [
              "0.010745129220730633"
            ]
          },
          "execution_count": 186,
          "metadata": {},
          "output_type": "execute_result"
        }
      ],
      "source": [
        "CF_ndcg_5_actual = []\n",
        "\n",
        "for i in range(len(Y_test)):\n",
        "  CF_ndcg_5_actual.append(ndcg_act(Y_test.iloc[i],list(pred_CF.iloc[i]), k=5))\n",
        "\n",
        "ndcg_CF_actual = mean(CF_ndcg_5_actual)\n",
        "ndcg_CF_actual"
      ]
    },
    {
      "cell_type": "markdown",
      "metadata": {
        "id": "ZtFdBh6luNv2"
      },
      "source": [
        "#CB"
      ]
    },
    {
      "cell_type": "markdown",
      "metadata": {
        "id": "RLzhJOmsg3ew"
      },
      "source": [
        "## Data Preprocessing - CB"
      ]
    },
    {
      "cell_type": "code",
      "execution_count": null,
      "metadata": {
        "id": "tlq-NPhLhubi"
      },
      "outputs": [],
      "source": [
        "course_info_data = pd.read_json('/content/drive/MyDrive/MOOCCube/entities/course.json', lines=True)"
      ]
    },
    {
      "cell_type": "code",
      "execution_count": null,
      "metadata": {
        "id": "b36xwSdWPP4y"
      },
      "outputs": [],
      "source": [
        "course_info_data = course_info_data[['id','name', 'prerequisites', 'about']]"
      ]
    },
    {
      "cell_type": "code",
      "execution_count": null,
      "metadata": {
        "id": "mt3PgS8nPx_1"
      },
      "outputs": [],
      "source": [
        "add_column = list(course_info_data['id'])"
      ]
    },
    {
      "cell_type": "code",
      "execution_count": null,
      "metadata": {
        "id": "I_QW5soQP4gq"
      },
      "outputs": [],
      "source": [
        "course_info_data['teacher'] = add_column\n",
        "course_info_data['school'] = add_column"
      ]
    },
    {
      "cell_type": "code",
      "execution_count": null,
      "metadata": {
        "id": "Hd0BdVhu_hpa"
      },
      "outputs": [],
      "source": [
        "teacher_course_relation = pd.read_csv('/content/drive/MyDrive/MOOCCube/relations/teacher-course.json', sep='\\t', header=None)"
      ]
    },
    {
      "cell_type": "code",
      "execution_count": null,
      "metadata": {
        "colab": {
          "base_uri": "https://localhost:8080/"
        },
        "id": "YXwMHOum_hpa",
        "outputId": "a186b875-7d79-4800-957d-efae374553ba"
      },
      "outputs": [
        {
          "name": "stderr",
          "output_type": "stream",
          "text": [
            "<ipython-input-192-44f424829db4>:1: FutureWarning: DataFrame.set_axis 'inplace' keyword is deprecated and will be removed in a future version. Use `obj = obj.set_axis(..., copy=False)` instead\n",
            "  teacher_course_relation.set_axis(['teacher', 'course'], axis='columns', inplace=True)\n"
          ]
        }
      ],
      "source": [
        "teacher_course_relation.set_axis(['teacher', 'course'], axis='columns', inplace=True)"
      ]
    },
    {
      "cell_type": "code",
      "execution_count": null,
      "metadata": {
        "id": "oY7s8u5e_hpa"
      },
      "outputs": [],
      "source": [
        "teacher_course_relation = teacher_course_relation.iloc[:,[1, 0]]"
      ]
    },
    {
      "cell_type": "code",
      "execution_count": null,
      "metadata": {
        "id": "_qYQq7-A_hpb"
      },
      "outputs": [],
      "source": [
        "school_course_relation = pd.read_csv('/content/drive/MyDrive/MOOCCube/relations/school-course.json', sep='\\t', header=None)"
      ]
    },
    {
      "cell_type": "code",
      "execution_count": null,
      "metadata": {
        "colab": {
          "base_uri": "https://localhost:8080/"
        },
        "id": "3FHRw4_6_hpb",
        "outputId": "fe03768c-8867-4959-b56b-61f589f0ab02"
      },
      "outputs": [
        {
          "name": "stderr",
          "output_type": "stream",
          "text": [
            "<ipython-input-195-ce3aad33b220>:1: FutureWarning: DataFrame.set_axis 'inplace' keyword is deprecated and will be removed in a future version. Use `obj = obj.set_axis(..., copy=False)` instead\n",
            "  school_course_relation.set_axis(['school', 'course'], axis='columns', inplace=True)\n"
          ]
        }
      ],
      "source": [
        "school_course_relation.set_axis(['school', 'course'], axis='columns', inplace=True)"
      ]
    },
    {
      "cell_type": "code",
      "execution_count": null,
      "metadata": {
        "id": "AmISxuTg_hpc"
      },
      "outputs": [],
      "source": [
        "school_course_relation = school_course_relation.iloc[:,[1, 0]]"
      ]
    },
    {
      "cell_type": "code",
      "execution_count": null,
      "metadata": {
        "id": "OxijnG2f_hpc"
      },
      "outputs": [],
      "source": [
        "dict_lookup_course_school = dict(zip(school_course_relation['course'], school_course_relation['school']))"
      ]
    },
    {
      "cell_type": "code",
      "execution_count": null,
      "metadata": {
        "id": "1bPxlnQi_hpc"
      },
      "outputs": [],
      "source": [
        "dict_lookup_course_school['0'] = '0'"
      ]
    },
    {
      "cell_type": "code",
      "execution_count": null,
      "metadata": {
        "id": "tu3oak4Q_hpd"
      },
      "outputs": [],
      "source": [
        "dict_lookup_course_school['C_course-v1:TsinghuaX+AP000003X+2019_T1'] = 'S_TsinghuaX'"
      ]
    },
    {
      "cell_type": "code",
      "execution_count": null,
      "metadata": {
        "id": "FzMVFC8__hpd"
      },
      "outputs": [],
      "source": [
        "dict_lookup_course_teacher = dict(zip(teacher_course_relation['course'], teacher_course_relation['teacher']))"
      ]
    },
    {
      "cell_type": "code",
      "execution_count": null,
      "metadata": {
        "id": "s4Tj7HU6_hpe"
      },
      "outputs": [],
      "source": [
        "dict_lookup_course_teacher['0'] = '0'"
      ]
    },
    {
      "cell_type": "code",
      "execution_count": null,
      "metadata": {
        "id": "kRbkjg9i_hpe"
      },
      "outputs": [],
      "source": [
        "dict_lookup_course_teacher['C_course-v1:Tsinghua+Thesis2017X+2017_T1'] = 'T_研究生院'\n",
        "dict_lookup_course_teacher['C_course-v1:TsinghuaX+AP000003X+2019_T1'] = 'T_李强'\n",
        "dict_lookup_course_teacher['C_course-v1:Tsinghua+20150001+sp'] = 'T_程新兵'\n",
        "dict_lookup_course_teacher['C_course-v1:Tsinghua+20181011X+2018_T2'] = 'T_谢德军'\n",
        "dict_lookup_course_teacher['C_course-v1:SYJU+030020406+2019_T1'] = 'T_姜桂荣'\n",
        "dict_lookup_course_teacher['C_course-v1:TsinghuaX+70167012X+sp'] = 'T_朱颖心'\n",
        "dict_lookup_course_teacher['C_course-v1:WellesleyX+HIST229x+sp'] = 'T_Adam Van Arsdale'\n",
        "dict_lookup_course_teacher['C_course-v1:JSUX+2017011101X+sp'] = 'T_李芳宇'\n",
        "dict_lookup_course_teacher['C_course-v1:HBNU+2019051509X+2019_T1'] = 'T_于丹'"
      ]
    },
    {
      "cell_type": "code",
      "execution_count": null,
      "metadata": {
        "id": "bME1GJwqO2gS"
      },
      "outputs": [],
      "source": [
        "course_info_data['teacher'] = [dict_lookup_course_teacher[item] for item in course_info_data['teacher']]\n",
        "course_info_data['school'] = [dict_lookup_course_school[item] for item in course_info_data['school']]"
      ]
    },
    {
      "cell_type": "code",
      "execution_count": null,
      "metadata": {
        "id": "Mm21T3o2VWle"
      },
      "outputs": [],
      "source": [
        "dict_lookup_course_prerequisite['C_course-v1:SEU+00690803_2+2019_T1'] = [\"0\"]\n",
        "dict_lookup_course_prerequisite['C_course-v1:NEU+2018051501+sp']=[\"0\"]\n",
        "dict_lookup_course_prerequisite['C_course-v1:CIE+CIE2017001+2019_T1'] = [\"0\"]\n",
        "dict_lookup_course_prerequisite['C_course-v1:LUIBE+201808064+2019_T1']=[\"0\"]\n",
        "dict_lookup_course_prerequisite['C_course-v1:SDSNAssociation+SC001+sp'] = [\"0\"]\n",
        "dict_lookup_course_prerequisite['C_course-v1:SDSNAssociation+CSN+sp']=[\"0\"]\n",
        "dict_lookup_course_prerequisite['C_course-v1:SDSNAssociation+ECD001+sp'] = [\"0\"]\n",
        "dict_lookup_course_prerequisite['C_course-v1:SDSNAssociation+PB+sp']=[\"0\"]\n",
        "dict_lookup_course_prerequisite['C_course-v1:BNU+2017112001X+2019_T1'] = [\"0\"]\n",
        "dict_lookup_course_prerequisite['C_course-v1:XYSFXY+20181024X+2019_T1']=[\"0\"]\n",
        "dict_lookup_course_prerequisite['C_course-v1:TsinghuaX+80240372X+sp'] = [\"0\"]\n",
        "dict_lookup_course_prerequisite['C_course-v1:XJTU+2018122507X+2018_T2'] = [\"0\"]\n",
        "dict_lookup_course_prerequisite['C_course-v1:JNU+11020009+2019_T1'] = [\"0\"]\n",
        "\n",
        "dict_lookup_course_prerequisite['C_course-v1:PSFFC+2018102404X+2018_T2']=[\"0\"]\n",
        "dict_lookup_course_prerequisite['C_course-v1:HUBU+HU08001X+2019_T1'] = [\"0\"]\n",
        "dict_lookup_course_prerequisite['C_course-v1:SWPU+3615001035+2019_T1']=[\"0\"]\n",
        "dict_lookup_course_prerequisite['C_course-v1:TsinghuaX+80511503X+2019_T1'] = [\"0\"]\n",
        "dict_lookup_course_prerequisite['C_course-v1:XJTU+2018122507X+2018_T2'] = [\"0\"]\n",
        "dict_lookup_course_prerequisite['C_course-v1:JNU+07009215+2019_T1'] = [\"0\"]"
      ]
    },
    {
      "cell_type": "code",
      "execution_count": null,
      "metadata": {
        "id": "O_WoyPEZVWle"
      },
      "outputs": [],
      "source": [
        "course_decode = {y: x for x, y in course_encode.items()}\n",
        "teacher_decode = {y: x for x, y in teacher_encode.items()}\n",
        "school_decode = {y: x for x, y in school_encode.items()}"
      ]
    },
    {
      "cell_type": "code",
      "execution_count": null,
      "metadata": {
        "id": "bL0Bg5KvQ8OT"
      },
      "outputs": [],
      "source": [
        "import matplotlib.pyplot as plt\n",
        "import numpy as np\n",
        "import pandas as pd\n",
        "import seaborn as sns\n",
        "from sklearn.feature_extraction.text import CountVectorizer\n",
        "from sklearn.cluster import KMeans\n",
        "from sklearn.metrics.pairwise import cosine_similarity\n",
        "from sklearn.decomposition import PCA\n",
        "import re\n",
        "from sklearn.feature_extraction.text import TfidfVectorizer\n",
        "from sklearn.metrics.pairwise import linear_kernel"
      ]
    },
    {
      "cell_type": "code",
      "execution_count": null,
      "metadata": {
        "id": "aq-n9IY8RKTO"
      },
      "outputs": [],
      "source": [
        "course_info_data['name'] = [re.sub(r'[^\\w\\s]', '', t) for t in course_info_data['name']]\n",
        "course_info_data['prerequisites'] = [re.sub(',',' ',re.sub(' ','',t)) for t in course_info_data['prerequisites']]\n",
        "course_info_data['about'] = [re.sub(r'[^\\w\\s]', '', t) for t in course_info_data['about']]\n",
        "course_info_data['teacher'] = [re.sub(r'[^\\w\\s]', '', t) for t in course_info_data['teacher']]\n",
        "course_info_data['school'] = [re.sub(r'[^\\w\\s]', '', t) for t in course_info_data['school']]"
      ]
    },
    {
      "cell_type": "code",
      "execution_count": null,
      "metadata": {
        "id": "5eYt9WgHTXn_"
      },
      "outputs": [],
      "source": [
        "course_info_data[\"combined\"] = course_info_data['name'] + '  ' + course_info_data['prerequisites'] + ' ' + course_info_data['about'] + ' ' + course_info_data['teacher'] + ' ' + course_info_data['school']"
      ]
    },
    {
      "cell_type": "code",
      "execution_count": null,
      "metadata": {
        "id": "JdJuulpTZpKZ"
      },
      "outputs": [],
      "source": [
        "course_info_data['id'] = [course_encode[item] for item in course_info_data['id']]"
      ]
    },
    {
      "cell_type": "code",
      "execution_count": null,
      "metadata": {
        "id": "xaHWGSCvUGJl"
      },
      "outputs": [],
      "source": [
        "vectorizer = TfidfVectorizer()\n",
        "matrix = vectorizer.fit_transform(course_info_data[\"combined\"])\n",
        "cosine_similarities = linear_kernel(matrix,matrix)\n",
        "course_id = course_info_data['id']\n",
        "indices = pd.Series(course_info_data.index, index=course_info_data['id'])"
      ]
    },
    {
      "cell_type": "markdown",
      "metadata": {
        "id": "R2akZvmdhMqt"
      },
      "source": [
        "## Modelling - CB"
      ]
    },
    {
      "cell_type": "code",
      "execution_count": null,
      "metadata": {
        "id": "Xfk2BINyUURT"
      },
      "outputs": [],
      "source": [
        "def content_recommender(title):\n",
        "    idx = indices[title]\n",
        "    sim_scores = list(enumerate(cosine_similarities[idx]))\n",
        "    sim_scores = sorted(sim_scores, key=lambda x: x[1], reverse=True)\n",
        "    sim_scores = sim_scores[1:6]\n",
        "    course_indices = [i[0] for i in sim_scores]\n",
        "    return course_id.iloc[course_indices]"
      ]
    },
    {
      "cell_type": "code",
      "execution_count": null,
      "metadata": {
        "id": "lKZ3d1gzVWld"
      },
      "outputs": [],
      "source": [
        "pred_CB = []\n",
        "\n",
        "for i in X_test_unscale['course_9']:\n",
        "  pred_CB.append(list(content_recommender(i)))"
      ]
    },
    {
      "cell_type": "code",
      "execution_count": null,
      "metadata": {
        "id": "_6bsRo1tVWld"
      },
      "outputs": [],
      "source": [
        "pred_CB = pd.DataFrame(pred_CB)"
      ]
    },
    {
      "cell_type": "markdown",
      "metadata": {
        "id": "tAWhV_sOhPnu"
      },
      "source": [
        "## Evaluation - CB"
      ]
    },
    {
      "cell_type": "markdown",
      "metadata": {
        "id": "XVgQvAtEy0zh"
      },
      "source": [
        "### Evaluation Actualness - CB"
      ]
    },
    {
      "cell_type": "code",
      "execution_count": null,
      "metadata": {
        "colab": {
          "base_uri": "https://localhost:8080/"
        },
        "id": "OLoJBE7Hyffh",
        "outputId": "78c96332-b5ab-48b2-9ca4-0321d50226b7"
      },
      "outputs": [
        {
          "data": {
            "text/plain": [
              "0.00831753113961703"
            ]
          },
          "execution_count": 214,
          "metadata": {},
          "output_type": "execute_result"
        }
      ],
      "source": [
        "CB_map_5_actual = []\n",
        "\n",
        "for i in range(len(Y_test)):\n",
        "  CB_map_5_actual.append(apk_act(Y_test.iloc[i],list(pred_CB.iloc[i]), k=5))\n",
        "\n",
        "map_CB_actual = mean(CB_map_5_actual)\n",
        "map_CB_actual"
      ]
    },
    {
      "cell_type": "code",
      "execution_count": null,
      "metadata": {
        "colab": {
          "base_uri": "https://localhost:8080/"
        },
        "id": "IjM8Njh6yffi",
        "outputId": "730b91de-4d4d-4723-fb44-adc851309b45"
      },
      "outputs": [
        {
          "data": {
            "text/plain": [
              "0.06358059118795314"
            ]
          },
          "execution_count": 215,
          "metadata": {},
          "output_type": "execute_result"
        }
      ],
      "source": [
        "CB_hit_5_actual = []\n",
        "\n",
        "for i in range(len(Y_test)):\n",
        "  CB_hit_5_actual.append(hr_act(Y_test.iloc[i],list(pred_CB.iloc[i]), k=5))\n",
        "\n",
        "hr_CB_actual = mean(CB_hit_5_actual)\n",
        "hr_CB_actual"
      ]
    },
    {
      "cell_type": "code",
      "execution_count": null,
      "metadata": {
        "colab": {
          "base_uri": "https://localhost:8080/"
        },
        "id": "9GmALvvKyffj",
        "outputId": "c41b7376-b7e1-49ee-95eb-8cbd5ac16105"
      },
      "outputs": [
        {
          "data": {
            "text/plain": [
              "0.041587655698085146"
            ]
          },
          "execution_count": 216,
          "metadata": {},
          "output_type": "execute_result"
        }
      ],
      "source": [
        "CB_rr_5_actual = []\n",
        "\n",
        "for i in range(len(Y_test)):\n",
        "  CB_rr_5_actual.append(rr_act(Y_test.iloc[i],list(pred_CB.iloc[i]), k=5))\n",
        "\n",
        "rr_CB_actual = mean(CB_rr_5_actual)\n",
        "rr_CB_actual"
      ]
    },
    {
      "cell_type": "code",
      "execution_count": null,
      "metadata": {
        "colab": {
          "base_uri": "https://localhost:8080/"
        },
        "id": "GDVnjH7Xyffj",
        "outputId": "039e12bf-ce0f-4b7b-e240-33c9a5d3e974"
      },
      "outputs": [
        {
          "data": {
            "text/plain": [
              "0.01595012690104388"
            ]
          },
          "execution_count": 217,
          "metadata": {},
          "output_type": "execute_result"
        }
      ],
      "source": [
        "CB_ndcg_5_actual = []\n",
        "\n",
        "for i in range(len(Y_test)):\n",
        "  CB_ndcg_5_actual.append(ndcg_act(Y_test.iloc[i],list(pred_CB.iloc[i]), k=5))\n",
        "\n",
        "ndcg_CB_actual = mean(CB_ndcg_5_actual)\n",
        "ndcg_CB_actual"
      ]
    },
    {
      "cell_type": "markdown",
      "metadata": {
        "id": "yGEir9fZh9MP"
      },
      "source": [
        "#Evaluation - All Models"
      ]
    },
    {
      "cell_type": "code",
      "execution_count": null,
      "metadata": {
        "id": "fGgtOvxxCi0V"
      },
      "outputs": [],
      "source": [
        "map_models_actual = [[map_GAN_actual, map_MultiGAN_actual, map_MDGAN_actual, map_MultiMDGAN_actual, map_CF_actual, map_CB_actual]]\n",
        "hr_models_actual = [[hr_GAN_actual, hr_MultiGAN_actual, hr_MDGAN_actual, hr_MultiMDGAN_actual, hr_CF_actual, hr_CB_actual]]\n",
        "rr_models_actual = [[rr_GAN_actual, rr_MultiGAN_actual, rr_MDGAN_actual, rr_MultiMDGAN_actual, rr_CF_actual, rr_CB_actual]]\n",
        "ndcg_models_actual = [[ndcg_GAN_actual, ndcg_MultiGAN_actual, ndcg_MDGAN_actual, ndcg_MultiMDGAN_actual, ndcg_CF_actual, ndcg_CB_actual]]"
      ]
    },
    {
      "cell_type": "code",
      "execution_count": null,
      "metadata": {
        "id": "dq05dXdKCi0V"
      },
      "outputs": [],
      "source": [
        "map_models_df_actual = pd.DataFrame(map_models_actual, columns = ['GAN', 'Multi-GAN','MDGAN', 'Multi-MDGAN', 'Collaborative-Filtering', 'Content-Based-Filtering'])\n",
        "hr_models_df_actual = pd.DataFrame(hr_models_actual, columns = ['GAN','Multi-GAN','MDGAN', 'Multi-MDGAN', 'Collaborative-Filtering', 'Content-Based-Filtering'])\n",
        "rr_models_df_actual = pd.DataFrame(rr_models_actual, columns = ['GAN','Multi-GAN','MDGAN', 'Multi-MDGAN', 'Collaborative-Filtering', 'Content-Based-Filtering'])\n",
        "ndcg_models_df_actual = pd.DataFrame(ndcg_models_actual, columns = ['GAN','Multi-GAN', 'MDGAN', 'Multi-MDGAN', 'Collaborative-Filtering', 'Content-Based-Filtering'])"
      ]
    },
    {
      "cell_type": "code",
      "execution_count": null,
      "metadata": {
        "id": "Co6GCLCWCi0W"
      },
      "outputs": [],
      "source": [
        "evaluation_actual_models = pd.concat([map_models_df_actual, hr_models_df_actual, rr_models_df_actual, ndcg_models_df_actual])\n",
        "evaluation_actual_models = evaluation_actual_models.set_axis(['Mean-Average-Precision@5', 'Hit-Ratio@5', 'Mean-Reciprocal-Rank@5', 'Normalized-Discounted-Cumulative-Gain@5'], axis=0)"
      ]
    },
    {
      "cell_type": "code",
      "execution_count": null,
      "metadata": {
        "id": "PV4GZfRJCi0X"
      },
      "outputs": [],
      "source": [
        "eval_actual = evaluation_actual_models.T"
      ]
    },
    {
      "cell_type": "code",
      "execution_count": null,
      "metadata": {
        "colab": {
          "base_uri": "https://localhost:8080/",
          "height": 237
        },
        "id": "ejN6krGICi0X",
        "outputId": "bc503caa-22a2-4108-abba-50d3221173ba"
      },
      "outputs": [
        {
          "data": {
            "application/vnd.google.colaboratory.intrinsic+json": {
              "summary": "{\n  \"name\": \"eval_actual\",\n  \"rows\": 6,\n  \"fields\": [\n    {\n      \"column\": \"Mean-Average-Precision@5\",\n      \"properties\": {\n        \"dtype\": \"number\",\n        \"std\": 0.005930466812089699,\n        \"min\": 0.0005856107083100948,\n        \"max\": 0.016703848298940324,\n        \"num_unique_values\": 6,\n        \"samples\": [\n          0.016703848298940324,\n          0.0005856107083100948,\n          0.00831753113961703\n        ],\n        \"semantic_type\": \"\",\n        \"description\": \"\"\n      }\n    },\n    {\n      \"column\": \"Hit-Ratio@5\",\n      \"properties\": {\n        \"dtype\": \"number\",\n        \"std\": 0.06157313667381497,\n        \"min\": 0.0050195203569436695,\n        \"max\": 0.17456776352481873,\n        \"num_unique_values\": 6,\n        \"samples\": [\n          0.17456776352481873,\n          0.0050195203569436695,\n          0.06358059118795314\n        ],\n        \"semantic_type\": \"\",\n        \"description\": \"\"\n      }\n    },\n    {\n      \"column\": \"Mean-Reciprocal-Rank@5\",\n      \"properties\": {\n        \"dtype\": \"number\",\n        \"std\": 0.02979788820016428,\n        \"min\": 0.002928053541550474,\n        \"max\": 0.08351924149470162,\n        \"num_unique_values\": 6,\n        \"samples\": [\n          0.08351924149470162,\n          0.002928053541550474,\n          0.041587655698085146\n        ],\n        \"semantic_type\": \"\",\n        \"description\": \"\"\n      }\n    },\n    {\n      \"column\": \"Normalized-Discounted-Cumulative-Gain@5\",\n      \"properties\": {\n        \"dtype\": \"number\",\n        \"std\": 0.012574291879481794,\n        \"min\": 0.001171367430587303,\n        \"max\": 0.03582225943906229,\n        \"num_unique_values\": 6,\n        \"samples\": [\n          0.03582225943906229,\n          0.001171367430587303,\n          0.01595012690104388\n        ],\n        \"semantic_type\": \"\",\n        \"description\": \"\"\n      }\n    }\n  ]\n}",
              "type": "dataframe",
              "variable_name": "eval_actual"
            },
            "text/html": [
              "\n",
              "  <div id=\"df-e49fd96e-cc3d-4736-b7c9-43bcaffbde32\" class=\"colab-df-container\">\n",
              "    <div>\n",
              "<style scoped>\n",
              "    .dataframe tbody tr th:only-of-type {\n",
              "        vertical-align: middle;\n",
              "    }\n",
              "\n",
              "    .dataframe tbody tr th {\n",
              "        vertical-align: top;\n",
              "    }\n",
              "\n",
              "    .dataframe thead th {\n",
              "        text-align: right;\n",
              "    }\n",
              "</style>\n",
              "<table border=\"1\" class=\"dataframe\">\n",
              "  <thead>\n",
              "    <tr style=\"text-align: right;\">\n",
              "      <th></th>\n",
              "      <th>Mean-Average-Precision@5</th>\n",
              "      <th>Hit-Ratio@5</th>\n",
              "      <th>Mean-Reciprocal-Rank@5</th>\n",
              "      <th>Normalized-Discounted-Cumulative-Gain@5</th>\n",
              "    </tr>\n",
              "  </thead>\n",
              "  <tbody>\n",
              "    <tr>\n",
              "      <th>GAN</th>\n",
              "      <td>0.016704</td>\n",
              "      <td>0.174568</td>\n",
              "      <td>0.083519</td>\n",
              "      <td>0.035822</td>\n",
              "    </tr>\n",
              "    <tr>\n",
              "      <th>Multi-GAN</th>\n",
              "      <td>0.000586</td>\n",
              "      <td>0.005020</td>\n",
              "      <td>0.002928</td>\n",
              "      <td>0.001171</td>\n",
              "    </tr>\n",
              "    <tr>\n",
              "      <th>MDGAN</th>\n",
              "      <td>0.005168</td>\n",
              "      <td>0.082543</td>\n",
              "      <td>0.025841</td>\n",
              "      <td>0.013403</td>\n",
              "    </tr>\n",
              "    <tr>\n",
              "      <th>Multi-MDGAN</th>\n",
              "      <td>0.001011</td>\n",
              "      <td>0.011154</td>\n",
              "      <td>0.004592</td>\n",
              "      <td>0.002224</td>\n",
              "    </tr>\n",
              "    <tr>\n",
              "      <th>Collaborative-Filtering</th>\n",
              "      <td>0.004949</td>\n",
              "      <td>0.052984</td>\n",
              "      <td>0.023239</td>\n",
              "      <td>0.010745</td>\n",
              "    </tr>\n",
              "    <tr>\n",
              "      <th>Content-Based-Filtering</th>\n",
              "      <td>0.008318</td>\n",
              "      <td>0.063581</td>\n",
              "      <td>0.041588</td>\n",
              "      <td>0.015950</td>\n",
              "    </tr>\n",
              "  </tbody>\n",
              "</table>\n",
              "</div>\n",
              "    <div class=\"colab-df-buttons\">\n",
              "\n",
              "  <div class=\"colab-df-container\">\n",
              "    <button class=\"colab-df-convert\" onclick=\"convertToInteractive('df-e49fd96e-cc3d-4736-b7c9-43bcaffbde32')\"\n",
              "            title=\"Convert this dataframe to an interactive table.\"\n",
              "            style=\"display:none;\">\n",
              "\n",
              "  <svg xmlns=\"http://www.w3.org/2000/svg\" height=\"24px\" viewBox=\"0 -960 960 960\">\n",
              "    <path d=\"M120-120v-720h720v720H120Zm60-500h600v-160H180v160Zm220 220h160v-160H400v160Zm0 220h160v-160H400v160ZM180-400h160v-160H180v160Zm440 0h160v-160H620v160ZM180-180h160v-160H180v160Zm440 0h160v-160H620v160Z\"/>\n",
              "  </svg>\n",
              "    </button>\n",
              "\n",
              "  <style>\n",
              "    .colab-df-container {\n",
              "      display:flex;\n",
              "      gap: 12px;\n",
              "    }\n",
              "\n",
              "    .colab-df-convert {\n",
              "      background-color: #E8F0FE;\n",
              "      border: none;\n",
              "      border-radius: 50%;\n",
              "      cursor: pointer;\n",
              "      display: none;\n",
              "      fill: #1967D2;\n",
              "      height: 32px;\n",
              "      padding: 0 0 0 0;\n",
              "      width: 32px;\n",
              "    }\n",
              "\n",
              "    .colab-df-convert:hover {\n",
              "      background-color: #E2EBFA;\n",
              "      box-shadow: 0px 1px 2px rgba(60, 64, 67, 0.3), 0px 1px 3px 1px rgba(60, 64, 67, 0.15);\n",
              "      fill: #174EA6;\n",
              "    }\n",
              "\n",
              "    .colab-df-buttons div {\n",
              "      margin-bottom: 4px;\n",
              "    }\n",
              "\n",
              "    [theme=dark] .colab-df-convert {\n",
              "      background-color: #3B4455;\n",
              "      fill: #D2E3FC;\n",
              "    }\n",
              "\n",
              "    [theme=dark] .colab-df-convert:hover {\n",
              "      background-color: #434B5C;\n",
              "      box-shadow: 0px 1px 3px 1px rgba(0, 0, 0, 0.15);\n",
              "      filter: drop-shadow(0px 1px 2px rgba(0, 0, 0, 0.3));\n",
              "      fill: #FFFFFF;\n",
              "    }\n",
              "  </style>\n",
              "\n",
              "    <script>\n",
              "      const buttonEl =\n",
              "        document.querySelector('#df-e49fd96e-cc3d-4736-b7c9-43bcaffbde32 button.colab-df-convert');\n",
              "      buttonEl.style.display =\n",
              "        google.colab.kernel.accessAllowed ? 'block' : 'none';\n",
              "\n",
              "      async function convertToInteractive(key) {\n",
              "        const element = document.querySelector('#df-e49fd96e-cc3d-4736-b7c9-43bcaffbde32');\n",
              "        const dataTable =\n",
              "          await google.colab.kernel.invokeFunction('convertToInteractive',\n",
              "                                                    [key], {});\n",
              "        if (!dataTable) return;\n",
              "\n",
              "        const docLinkHtml = 'Like what you see? Visit the ' +\n",
              "          '<a target=\"_blank\" href=https://colab.research.google.com/notebooks/data_table.ipynb>data table notebook</a>'\n",
              "          + ' to learn more about interactive tables.';\n",
              "        element.innerHTML = '';\n",
              "        dataTable['output_type'] = 'display_data';\n",
              "        await google.colab.output.renderOutput(dataTable, element);\n",
              "        const docLink = document.createElement('div');\n",
              "        docLink.innerHTML = docLinkHtml;\n",
              "        element.appendChild(docLink);\n",
              "      }\n",
              "    </script>\n",
              "  </div>\n",
              "\n",
              "\n",
              "<div id=\"df-379c6be3-4ccb-4c23-b659-7c8220d0b02b\">\n",
              "  <button class=\"colab-df-quickchart\" onclick=\"quickchart('df-379c6be3-4ccb-4c23-b659-7c8220d0b02b')\"\n",
              "            title=\"Suggest charts\"\n",
              "            style=\"display:none;\">\n",
              "\n",
              "<svg xmlns=\"http://www.w3.org/2000/svg\" height=\"24px\"viewBox=\"0 0 24 24\"\n",
              "     width=\"24px\">\n",
              "    <g>\n",
              "        <path d=\"M19 3H5c-1.1 0-2 .9-2 2v14c0 1.1.9 2 2 2h14c1.1 0 2-.9 2-2V5c0-1.1-.9-2-2-2zM9 17H7v-7h2v7zm4 0h-2V7h2v10zm4 0h-2v-4h2v4z\"/>\n",
              "    </g>\n",
              "</svg>\n",
              "  </button>\n",
              "\n",
              "<style>\n",
              "  .colab-df-quickchart {\n",
              "      --bg-color: #E8F0FE;\n",
              "      --fill-color: #1967D2;\n",
              "      --hover-bg-color: #E2EBFA;\n",
              "      --hover-fill-color: #174EA6;\n",
              "      --disabled-fill-color: #AAA;\n",
              "      --disabled-bg-color: #DDD;\n",
              "  }\n",
              "\n",
              "  [theme=dark] .colab-df-quickchart {\n",
              "      --bg-color: #3B4455;\n",
              "      --fill-color: #D2E3FC;\n",
              "      --hover-bg-color: #434B5C;\n",
              "      --hover-fill-color: #FFFFFF;\n",
              "      --disabled-bg-color: #3B4455;\n",
              "      --disabled-fill-color: #666;\n",
              "  }\n",
              "\n",
              "  .colab-df-quickchart {\n",
              "    background-color: var(--bg-color);\n",
              "    border: none;\n",
              "    border-radius: 50%;\n",
              "    cursor: pointer;\n",
              "    display: none;\n",
              "    fill: var(--fill-color);\n",
              "    height: 32px;\n",
              "    padding: 0;\n",
              "    width: 32px;\n",
              "  }\n",
              "\n",
              "  .colab-df-quickchart:hover {\n",
              "    background-color: var(--hover-bg-color);\n",
              "    box-shadow: 0 1px 2px rgba(60, 64, 67, 0.3), 0 1px 3px 1px rgba(60, 64, 67, 0.15);\n",
              "    fill: var(--button-hover-fill-color);\n",
              "  }\n",
              "\n",
              "  .colab-df-quickchart-complete:disabled,\n",
              "  .colab-df-quickchart-complete:disabled:hover {\n",
              "    background-color: var(--disabled-bg-color);\n",
              "    fill: var(--disabled-fill-color);\n",
              "    box-shadow: none;\n",
              "  }\n",
              "\n",
              "  .colab-df-spinner {\n",
              "    border: 2px solid var(--fill-color);\n",
              "    border-color: transparent;\n",
              "    border-bottom-color: var(--fill-color);\n",
              "    animation:\n",
              "      spin 1s steps(1) infinite;\n",
              "  }\n",
              "\n",
              "  @keyframes spin {\n",
              "    0% {\n",
              "      border-color: transparent;\n",
              "      border-bottom-color: var(--fill-color);\n",
              "      border-left-color: var(--fill-color);\n",
              "    }\n",
              "    20% {\n",
              "      border-color: transparent;\n",
              "      border-left-color: var(--fill-color);\n",
              "      border-top-color: var(--fill-color);\n",
              "    }\n",
              "    30% {\n",
              "      border-color: transparent;\n",
              "      border-left-color: var(--fill-color);\n",
              "      border-top-color: var(--fill-color);\n",
              "      border-right-color: var(--fill-color);\n",
              "    }\n",
              "    40% {\n",
              "      border-color: transparent;\n",
              "      border-right-color: var(--fill-color);\n",
              "      border-top-color: var(--fill-color);\n",
              "    }\n",
              "    60% {\n",
              "      border-color: transparent;\n",
              "      border-right-color: var(--fill-color);\n",
              "    }\n",
              "    80% {\n",
              "      border-color: transparent;\n",
              "      border-right-color: var(--fill-color);\n",
              "      border-bottom-color: var(--fill-color);\n",
              "    }\n",
              "    90% {\n",
              "      border-color: transparent;\n",
              "      border-bottom-color: var(--fill-color);\n",
              "    }\n",
              "  }\n",
              "</style>\n",
              "\n",
              "  <script>\n",
              "    async function quickchart(key) {\n",
              "      const quickchartButtonEl =\n",
              "        document.querySelector('#' + key + ' button');\n",
              "      quickchartButtonEl.disabled = true;  // To prevent multiple clicks.\n",
              "      quickchartButtonEl.classList.add('colab-df-spinner');\n",
              "      try {\n",
              "        const charts = await google.colab.kernel.invokeFunction(\n",
              "            'suggestCharts', [key], {});\n",
              "      } catch (error) {\n",
              "        console.error('Error during call to suggestCharts:', error);\n",
              "      }\n",
              "      quickchartButtonEl.classList.remove('colab-df-spinner');\n",
              "      quickchartButtonEl.classList.add('colab-df-quickchart-complete');\n",
              "    }\n",
              "    (() => {\n",
              "      let quickchartButtonEl =\n",
              "        document.querySelector('#df-379c6be3-4ccb-4c23-b659-7c8220d0b02b button');\n",
              "      quickchartButtonEl.style.display =\n",
              "        google.colab.kernel.accessAllowed ? 'block' : 'none';\n",
              "    })();\n",
              "  </script>\n",
              "</div>\n",
              "\n",
              "  <div id=\"id_edc94777-c708-43e7-998e-c0084ecae54e\">\n",
              "    <style>\n",
              "      .colab-df-generate {\n",
              "        background-color: #E8F0FE;\n",
              "        border: none;\n",
              "        border-radius: 50%;\n",
              "        cursor: pointer;\n",
              "        display: none;\n",
              "        fill: #1967D2;\n",
              "        height: 32px;\n",
              "        padding: 0 0 0 0;\n",
              "        width: 32px;\n",
              "      }\n",
              "\n",
              "      .colab-df-generate:hover {\n",
              "        background-color: #E2EBFA;\n",
              "        box-shadow: 0px 1px 2px rgba(60, 64, 67, 0.3), 0px 1px 3px 1px rgba(60, 64, 67, 0.15);\n",
              "        fill: #174EA6;\n",
              "      }\n",
              "\n",
              "      [theme=dark] .colab-df-generate {\n",
              "        background-color: #3B4455;\n",
              "        fill: #D2E3FC;\n",
              "      }\n",
              "\n",
              "      [theme=dark] .colab-df-generate:hover {\n",
              "        background-color: #434B5C;\n",
              "        box-shadow: 0px 1px 3px 1px rgba(0, 0, 0, 0.15);\n",
              "        filter: drop-shadow(0px 1px 2px rgba(0, 0, 0, 0.3));\n",
              "        fill: #FFFFFF;\n",
              "      }\n",
              "    </style>\n",
              "    <button class=\"colab-df-generate\" onclick=\"generateWithVariable('eval_actual')\"\n",
              "            title=\"Generate code using this dataframe.\"\n",
              "            style=\"display:none;\">\n",
              "\n",
              "  <svg xmlns=\"http://www.w3.org/2000/svg\" height=\"24px\"viewBox=\"0 0 24 24\"\n",
              "       width=\"24px\">\n",
              "    <path d=\"M7,19H8.4L18.45,9,17,7.55,7,17.6ZM5,21V16.75L18.45,3.32a2,2,0,0,1,2.83,0l1.4,1.43a1.91,1.91,0,0,1,.58,1.4,1.91,1.91,0,0,1-.58,1.4L9.25,21ZM18.45,9,17,7.55Zm-12,3A5.31,5.31,0,0,0,4.9,8.1,5.31,5.31,0,0,0,1,6.5,5.31,5.31,0,0,0,4.9,4.9,5.31,5.31,0,0,0,6.5,1,5.31,5.31,0,0,0,8.1,4.9,5.31,5.31,0,0,0,12,6.5,5.46,5.46,0,0,0,6.5,12Z\"/>\n",
              "  </svg>\n",
              "    </button>\n",
              "    <script>\n",
              "      (() => {\n",
              "      const buttonEl =\n",
              "        document.querySelector('#id_edc94777-c708-43e7-998e-c0084ecae54e button.colab-df-generate');\n",
              "      buttonEl.style.display =\n",
              "        google.colab.kernel.accessAllowed ? 'block' : 'none';\n",
              "\n",
              "      buttonEl.onclick = () => {\n",
              "        google.colab.notebook.generateWithVariable('eval_actual');\n",
              "      }\n",
              "      })();\n",
              "    </script>\n",
              "  </div>\n",
              "\n",
              "    </div>\n",
              "  </div>\n"
            ],
            "text/plain": [
              "                         Mean-Average-Precision@5  Hit-Ratio@5  \\\n",
              "GAN                                      0.016704     0.174568   \n",
              "Multi-GAN                                0.000586     0.005020   \n",
              "MDGAN                                    0.005168     0.082543   \n",
              "Multi-MDGAN                              0.001011     0.011154   \n",
              "Collaborative-Filtering                  0.004949     0.052984   \n",
              "Content-Based-Filtering                  0.008318     0.063581   \n",
              "\n",
              "                         Mean-Reciprocal-Rank@5  \\\n",
              "GAN                                    0.083519   \n",
              "Multi-GAN                              0.002928   \n",
              "MDGAN                                  0.025841   \n",
              "Multi-MDGAN                            0.004592   \n",
              "Collaborative-Filtering                0.023239   \n",
              "Content-Based-Filtering                0.041588   \n",
              "\n",
              "                         Normalized-Discounted-Cumulative-Gain@5  \n",
              "GAN                                                     0.035822  \n",
              "Multi-GAN                                               0.001171  \n",
              "MDGAN                                                   0.013403  \n",
              "Multi-MDGAN                                             0.002224  \n",
              "Collaborative-Filtering                                 0.010745  \n",
              "Content-Based-Filtering                                 0.015950  "
            ]
          },
          "execution_count": 222,
          "metadata": {},
          "output_type": "execute_result"
        }
      ],
      "source": [
        "eval_actual"
      ]
    },
    {
      "cell_type": "code",
      "execution_count": null,
      "metadata": {
        "colab": {
          "base_uri": "https://localhost:8080/",
          "height": 1000
        },
        "id": "DPacEPl8Ci0Y",
        "outputId": "268f1961-df61-4040-c42e-c84610ea8577"
      },
      "outputs": [
        {
          "data": {
            "image/png": "[encoded data removed]",
            "text/plain": [
              "<Figure size 1500x1000 with 1 Axes>"
            ]
          },
          "metadata": {},
          "output_type": "display_data"
        }
      ],
      "source": [
        "eval_actual.plot.bar(figsize=(15, 10), y = eval_actual.columns)\n",
        "plt.xlabel('Recommendation Models')\n",
        "plt.ylabel(\"Value\")\n",
        "plt.title(\"Performance Metrics Across Recommendation Models (Actualness)\")\n",
        "plt.show()"
      ]
    },
    {
      "cell_type": "code",
      "execution_count": null,
      "metadata": {
        "colab": {
          "base_uri": "https://localhost:8080/",
          "height": 1000
        },
        "id": "X3qVrkxwCi0Y",
        "outputId": "57d2b52a-aaef-47a4-8f39-fec6d69c92ae"
      },
      "outputs": [
        {
          "data": {
            "image/png": "[encoded data removed]",
            "text/plain": [
              "<Figure size 1500x1000 with 1 Axes>"
            ]
          },
          "metadata": {},
          "output_type": "display_data"
        }
      ],
      "source": [
        "eval_actual.plot.bar(figsize=(15, 10), y ='Mean-Average-Precision@5')\n",
        "plt.xlabel('Recommendation Models')\n",
        "plt.ylabel(\"Mean Average Precision @ 5\")\n",
        "plt.title(\"Mean Average Precision @ 5 Across Recommendation Models (Actualness)\")\n",
        "plt.show()"
      ]
    },
    {
      "cell_type": "code",
      "execution_count": null,
      "metadata": {
        "colab": {
          "base_uri": "https://localhost:8080/",
          "height": 1000
        },
        "id": "M8IbkLfYCi0Z",
        "outputId": "877305b7-ecf9-49b1-bbee-d0774b9695fb"
      },
      "outputs": [
        {
          "data": {
            "image/png": "[encoded data removed]",
            "text/plain": [
              "<Figure size 1500x1000 with 1 Axes>"
            ]
          },
          "metadata": {},
          "output_type": "display_data"
        }
      ],
      "source": [
        "eval_actual.plot.bar(figsize=(15, 10), y ='Hit-Ratio@5')\n",
        "plt.xlabel('Recommendation Models')\n",
        "plt.ylabel(\"Hit ratio @ 5\")\n",
        "plt.title(\"Hit ratio @ 5 Across Recommendation Models (Actualness)\")\n",
        "plt.show()"
      ]
    },
    {
      "cell_type": "code",
      "execution_count": null,
      "metadata": {
        "colab": {
          "base_uri": "https://localhost:8080/",
          "height": 1000
        },
        "id": "ROENtMKnCi0Z",
        "outputId": "5a6adb45-508f-4e78-d03b-a40c4a2862d6"
      },
      "outputs": [
        {
          "data": {
            "image/png": "[encoded data removed]",
            "text/plain": [
              "<Figure size 1500x1000 with 1 Axes>"
            ]
          },
          "metadata": {},
          "output_type": "display_data"
        }
      ],
      "source": [
        "eval_actual.plot.bar(figsize=(15, 10), y ='Mean-Reciprocal-Rank@5')\n",
        "plt.xlabel('Recommendation Models')\n",
        "plt.ylabel(\"Mean Reciprocal Rank @ 5\")\n",
        "plt.title(\"Mean Reciprocal Rank @ 5 Across Recommendation Models (Actualness)\")\n",
        "plt.show()"
      ]
    },
    {
      "cell_type": "code",
      "execution_count": null,
      "metadata": {
        "colab": {
          "base_uri": "https://localhost:8080/",
          "height": 1000
        },
        "id": "xrE3sY5mCi0a",
        "outputId": "4e5fb618-71d7-4726-b8fc-b1ace8cc27ab"
      },
      "outputs": [
        {
          "data": {
            "image/png": "[encoded data removed]",
            "text/plain": [
              "<Figure size 1500x1000 with 1 Axes>"
            ]
          },
          "metadata": {},
          "output_type": "display_data"
        }
      ],
      "source": [
        "eval_actual.plot.bar(figsize=(15, 10), y ='Normalized-Discounted-Cumulative-Gain@5')\n",
        "plt.xlabel('Recommendation Models')\n",
        "plt.ylabel(\"Normalized Discounted Cumulative Gain @ 5\")\n",
        "plt.title(\"Normalized Discounted Cumulative Gain @ 5 Across Recommendation Models (Actualness)\")\n",
        "plt.show()"
      ]
    },
    {
      "cell_type": "markdown",
      "metadata": {
        "id": "rhY5gp5v6bp1"
      },
      "source": [
        "# Deployment"
      ]
    },
    {
      "cell_type": "code",
      "execution_count": null,
      "metadata": {
        "id": "ihNPUC_Cnt6G"
      },
      "outputs": [],
      "source": [
        "data_sample_df = course_all_data[course_all_data['id'].isin(course_sample)]"
      ]
    },
    {
      "cell_type": "code",
      "execution_count": null,
      "metadata": {
        "id": "cxtulfObobXh"
      },
      "outputs": [],
      "source": [
        "data_sample_df_id_name = data_sample_df[['id','name']]"
      ]
    },
    {
      "cell_type": "code",
      "execution_count": null,
      "metadata": {
        "id": "7i9TEoRuoin_"
      },
      "outputs": [],
      "source": [
        "data_sample_df_id_name = data_sample_df_id_name.sort_values('id')"
      ]
    },
    {
      "cell_type": "code",
      "execution_count": null,
      "metadata": {
        "colab": {
          "base_uri": "https://localhost:8080/",
          "height": 252
        },
        "id": "ig2INbkGpj0O",
        "outputId": "f03c2e63-9d84-4850-a599-1c266be2f795"
      },
      "outputs": [
        {
          "name": "stdout",
          "output_type": "stream",
          "text": [
            "Requirement already satisfied: anvil-uplink in /usr/local/lib/python3.10/dist-packages (0.4.2)\n",
            "Collecting argparse (from anvil-uplink)\n",
            "  Using cached argparse-1.4.0-py2.py3-none-any.whl (23 kB)\n",
            "Requirement already satisfied: future in /usr/local/lib/python3.10/dist-packages (from anvil-uplink) (0.18.3)\n",
            "Requirement already satisfied: six in /usr/local/lib/python3.10/dist-packages (from anvil-uplink) (1.16.0)\n",
            "Requirement already satisfied: ws4py in /usr/local/lib/python3.10/dist-packages (from anvil-uplink) (0.5.1)\n",
            "Installing collected packages: argparse\n",
            "Successfully installed argparse-1.4.0\n"
          ]
        },
        {
          "data": {
            "application/vnd.colab-display-data+json": {
              "id": "839e509736b447b09822d0f940793e6d",
              "pip_warning": {
                "packages": [
                  "argparse"
                ]
              }
            }
          },
          "metadata": {},
          "output_type": "display_data"
        }
      ],
      "source": [
        "!pip install anvil-uplink"
      ]
    },
    {
      "cell_type": "code",
      "execution_count": null,
      "metadata": {
        "colab": {
          "base_uri": "https://localhost:8080/"
        },
        "id": "g6F23KbHAxKJ",
        "outputId": "5ae8d49a-7195-4d69-fb3c-6a10d5810f63"
      },
      "outputs": [
        {
          "name": "stdout",
          "output_type": "stream",
          "text": [
            "Requirement already satisfied: deep-translator in /usr/local/lib/python3.10/dist-packages (1.11.4)\n",
            "Requirement already satisfied: beautifulsoup4<5.0.0,>=4.9.1 in /usr/local/lib/python3.10/dist-packages (from deep-translator) (4.12.3)\n",
            "Requirement already satisfied: requests<3.0.0,>=2.23.0 in /usr/local/lib/python3.10/dist-packages (from deep-translator) (2.31.0)\n",
            "Requirement already satisfied: soupsieve>1.2 in /usr/local/lib/python3.10/dist-packages (from beautifulsoup4<5.0.0,>=4.9.1->deep-translator) (2.5)\n",
            "Requirement already satisfied: charset-normalizer<4,>=2 in /usr/local/lib/python3.10/dist-packages (from requests<3.0.0,>=2.23.0->deep-translator) (3.3.2)\n",
            "Requirement already satisfied: idna<4,>=2.5 in /usr/local/lib/python3.10/dist-packages (from requests<3.0.0,>=2.23.0->deep-translator) (3.6)\n",
            "Requirement already satisfied: urllib3<3,>=1.21.1 in /usr/local/lib/python3.10/dist-packages (from requests<3.0.0,>=2.23.0->deep-translator) (2.0.7)\n",
            "Requirement already satisfied: certifi>=2017.4.17 in /usr/local/lib/python3.10/dist-packages (from requests<3.0.0,>=2.23.0->deep-translator) (2024.2.2)\n"
          ]
        }
      ],
      "source": [
        "pip install deep-translator"
      ]
    },
    {
      "cell_type": "code",
      "execution_count": null,
      "metadata": {
        "colab": {
          "base_uri": "https://localhost:8080/"
        },
        "id": "UfCOnOxro2Hs",
        "outputId": "e530c4a6-0ea6-4919-ca31-829739f5038b"
      },
      "outputs": [
        {
          "name": "stdout",
          "output_type": "stream",
          "text": [
            "Connecting to wss://anvil.works/uplink\n",
            "Anvil websocket open\n",
            "Connected to \"Course Recommendtion\" as SERVER\n"
          ]
        }
      ],
      "source": [
        "import pandas as pd\n",
        "import anvil.tables as tables\n",
        "from anvil.tables import app_tables\n",
        "from deep_translator import GoogleTranslator\n",
        "\n",
        "import anvil.server\n",
        "anvil.server.connect(\"server_6BVFUANNXFWUYQZ4OJ6WLQSJ-BGPERRITBVMBXFJG\")  # Make sure you replace this with your own Uplink key\n",
        "\n",
        "def import_data(df):\n",
        "    for d in df.to_dict(orient=\"records\"):\n",
        "      # d is now a dict of {columnname -> value} for this row\n",
        "      # We use Python's **kwargs syntax to pass the whole dict as\n",
        "      # keyword arguments\n",
        "      app_tables.test.add_row(**d)\n",
        "\n",
        "import_data(data_sample_df_id_name)"
      ]
    },
    {
      "cell_type": "code",
      "execution_count": null,
      "metadata": {
        "id": "leBJhYtw8CFe"
      },
      "outputs": [],
      "source": [
        "@anvil.server.callable\n",
        "def lookup_val(course):\n",
        "  c_name = data_sample_df_id_name['name'][data_sample_df_id_name['id'] == course].values[0]\n",
        "  c_teacher = dict_lookup_course_teacher[course][2:]\n",
        "  c_school = dict_lookup_course_school[course][2:]\n",
        "\n",
        "  c_name = GoogleTranslator(source='auto', target='en').translate(c_name)\n",
        "  c_teacher = GoogleTranslator(source='auto', target='en').translate(c_teacher)\n",
        "  return c_name, c_teacher, c_school\n",
        "\n",
        "\n",
        "@anvil.server.callable\n",
        "def multigan_model(course_1, course_2, course_3, course_4, course_5, course_6, course_7, course_8, course_9):\n",
        "  courses = [course_1, course_2, course_3, course_4, course_5, course_6, course_7, course_8, course_9]\n",
        "  courses = [i for i in courses if i is not None]\n",
        "\n",
        "  courses_list = []\n",
        "  for i in courses:\n",
        "    courses_list.append(course_encode[i])\n",
        "\n",
        "  while len(courses_list) != 9:\n",
        "    courses_list.insert(0,0)\n",
        "    if len(courses_list) > 9:\n",
        "      break\n",
        "\n",
        "\n",
        "  course_dep = pd.DataFrame(courses_list).T\n",
        "  course_dep.columns = ['course_1','course_2','course_3','course_4','course_5','course_6','course_7','course_8','course_9']\n",
        "  course_dep = course_dep.apply(np.vectorize(MinMaxScaler))\n",
        "\n",
        "  out1 = multigan1.predict(course_dep)\n",
        "  out2 = multigan2.predict(course_dep)\n",
        "  out3 = multigan3.predict(course_dep)\n",
        "  out4 = multigan4.predict(course_dep)\n",
        "  out5 = multigan5.predict(course_dep)\n",
        "\n",
        "  out = [out1[0],out2[0],out3[0],out4[0],out5[0]]\n",
        "  course_dep_out = pd.DataFrame(out).T\n",
        "  course_dep_out = course_dep_out.apply(np.vectorize(InverseMinMaxScaler))\n",
        "\n",
        "  course_dep_out_list = list(course_dep_out.iloc[0])\n",
        "\n",
        "  output1 = course_decode[course_dep_out_list[0]]\n",
        "  output2 = course_decode[course_dep_out_list[1]]\n",
        "  output3 = course_decode[course_dep_out_list[2]]\n",
        "  output4 = course_decode[course_dep_out_list[3]]\n",
        "  output5 = course_decode[course_dep_out_list[4]]\n",
        "\n",
        "  out_id = [output1,output2,output3,output4,output5]\n",
        "\n",
        "  name1 = data_sample_df_id_name['name'][data_sample_df_id_name['id'] == output1].values[0]\n",
        "  name2 = data_sample_df_id_name['name'][data_sample_df_id_name['id'] == output2].values[0]\n",
        "  name3 = data_sample_df_id_name['name'][data_sample_df_id_name['id'] == output3].values[0]\n",
        "  name4 = data_sample_df_id_name['name'][data_sample_df_id_name['id'] == output4].values[0]\n",
        "  name5 = data_sample_df_id_name['name'][data_sample_df_id_name['id'] == output5].values[0]\n",
        "\n",
        "  name1 = GoogleTranslator(source='auto', target='en').translate(name1)\n",
        "  name2 = GoogleTranslator(source='auto', target='en').translate(name2)\n",
        "  name3 = GoogleTranslator(source='auto', target='en').translate(name3)\n",
        "  name4 = GoogleTranslator(source='auto', target='en').translate(name4)\n",
        "  name5 = GoogleTranslator(source='auto', target='en').translate(name5)\n",
        "\n",
        "  out_name = [name1,name2,name3,name4,name5]\n",
        "\n",
        "  teacher1 = dict_lookup_course_teacher[output1][2:]\n",
        "  teacher2 = dict_lookup_course_teacher[output2][2:]\n",
        "  teacher3 = dict_lookup_course_teacher[output3][2:]\n",
        "  teacher4 = dict_lookup_course_teacher[output4][2:]\n",
        "  teacher5 = dict_lookup_course_teacher[output5][2:]\n",
        "\n",
        "  teacher1 = GoogleTranslator(source='auto', target='en').translate(teacher1)\n",
        "  teacher2 = GoogleTranslator(source='auto', target='en').translate(teacher2)\n",
        "  teacher3 = GoogleTranslator(source='auto', target='en').translate(teacher3)\n",
        "  teacher4 = GoogleTranslator(source='auto', target='en').translate(teacher4)\n",
        "  teacher5 = GoogleTranslator(source='auto', target='en').translate(teacher5)\n",
        "\n",
        "  out_teacher = [teacher1,teacher2,teacher3,teacher4,teacher5]\n",
        "\n",
        "  school1 = dict_lookup_course_school[output1][2:]\n",
        "  school2 = dict_lookup_course_school[output2][2:]\n",
        "  school3 = dict_lookup_course_school[output3][2:]\n",
        "  school4 = dict_lookup_course_school[output4][2:]\n",
        "  school5 = dict_lookup_course_school[output5][2:]\n",
        "\n",
        "  out_school = [school1,school2,school3,school4,school5]\n",
        "\n",
        "  return out_id, out_name, out_teacher, out_school\n",
        "\n",
        "@anvil.server.callable\n",
        "def multimdgan_model(course_1, course_2, course_3, course_4, course_5, course_6, course_7, course_8, course_9):\n",
        "  courses = [course_1, course_2, course_3, course_4, course_5, course_6, course_7, course_8, course_9]\n",
        "  courses = [i for i in courses if i is not None]\n",
        "\n",
        "  courses_list = []\n",
        "  for i in courses:\n",
        "    courses_list.append(course_encode[i])\n",
        "\n",
        "  while len(courses_list) != 9:\n",
        "    courses_list.insert(0,0)\n",
        "    if len(courses_list) > 9:\n",
        "      break\n",
        "\n",
        "\n",
        "  course_dep = pd.DataFrame(courses_list).T\n",
        "  course_dep.columns = ['course_1','course_2','course_3','course_4','course_5','course_6','course_7','course_8','course_9']\n",
        "  course_dep = course_dep.apply(np.vectorize(MinMaxScaler))\n",
        "\n",
        "  out1 = multimdgan1.predict(course_dep)\n",
        "  out2 = multimdgan2.predict(course_dep)\n",
        "  out3 = multimdgan3.predict(course_dep)\n",
        "  out4 = multimdgan4.predict(course_dep)\n",
        "  out5 = multimdgan5.predict(course_dep)\n",
        "\n",
        "  out = [out1[0],out2[0],out3[0],out4[0],out5[0]]\n",
        "  course_dep_out = pd.DataFrame(out).T\n",
        "  course_dep_out = course_dep_out.apply(np.vectorize(InverseMinMaxScaler))\n",
        "\n",
        "  course_dep_out_list = list(course_dep_out.iloc[0])\n",
        "\n",
        "  output1 = course_decode[course_dep_out_list[0]]\n",
        "  output2 = course_decode[course_dep_out_list[1]]\n",
        "  output3 = course_decode[course_dep_out_list[2]]\n",
        "  output4 = course_decode[course_dep_out_list[3]]\n",
        "  output5 = course_decode[course_dep_out_list[4]]\n",
        "\n",
        "  out_id = [output1,output2,output3,output4,output5]\n",
        "\n",
        "  name1 = data_sample_df_id_name['name'][data_sample_df_id_name['id'] == output1].values[0]\n",
        "  name2 = data_sample_df_id_name['name'][data_sample_df_id_name['id'] == output2].values[0]\n",
        "  name3 = data_sample_df_id_name['name'][data_sample_df_id_name['id'] == output3].values[0]\n",
        "  name4 = data_sample_df_id_name['name'][data_sample_df_id_name['id'] == output4].values[0]\n",
        "  name5 = data_sample_df_id_name['name'][data_sample_df_id_name['id'] == output5].values[0]\n",
        "\n",
        "  name1 = GoogleTranslator(source='auto', target='en').translate(name1)\n",
        "  name2 = GoogleTranslator(source='auto', target='en').translate(name2)\n",
        "  name3 = GoogleTranslator(source='auto', target='en').translate(name3)\n",
        "  name4 = GoogleTranslator(source='auto', target='en').translate(name4)\n",
        "  name5 = GoogleTranslator(source='auto', target='en').translate(name5)\n",
        "\n",
        "  out_name = [name1,name2,name3,name4,name5]\n",
        "\n",
        "  teacher1 = dict_lookup_course_teacher[output1][2:]\n",
        "  teacher2 = dict_lookup_course_teacher[output2][2:]\n",
        "  teacher3 = dict_lookup_course_teacher[output3][2:]\n",
        "  teacher4 = dict_lookup_course_teacher[output4][2:]\n",
        "  teacher5 = dict_lookup_course_teacher[output5][2:]\n",
        "\n",
        "  teacher1 = GoogleTranslator(source='auto', target='en').translate(teacher1)\n",
        "  teacher2 = GoogleTranslator(source='auto', target='en').translate(teacher2)\n",
        "  teacher3 = GoogleTranslator(source='auto', target='en').translate(teacher3)\n",
        "  teacher4 = GoogleTranslator(source='auto', target='en').translate(teacher4)\n",
        "  teacher5 = GoogleTranslator(source='auto', target='en').translate(teacher5)\n",
        "\n",
        "  out_teacher = [teacher1,teacher2,teacher3,teacher4,teacher5]\n",
        "\n",
        "  school1 = dict_lookup_course_school[output1][2:]\n",
        "  school2 = dict_lookup_course_school[output2][2:]\n",
        "  school3 = dict_lookup_course_school[output3][2:]\n",
        "  school4 = dict_lookup_course_school[output4][2:]\n",
        "  school5 = dict_lookup_course_school[output5][2:]\n",
        "\n",
        "  out_school = [school1,school2,school3,school4,school5]\n",
        "\n",
        "  return out_id, out_name, out_teacher, out_school\n",
        "\n",
        "@anvil.server.callable\n",
        "def gan_model(course_1, course_2, course_3, course_4, course_5, course_6, course_7, course_8, course_9):\n",
        "  courses = [course_1, course_2, course_3, course_4, course_5, course_6, course_7, course_8, course_9]\n",
        "  courses = [i for i in courses if i is not None]\n",
        "\n",
        "  courses_list = []\n",
        "  for i in courses:\n",
        "    courses_list.append(course_encode[i])\n",
        "\n",
        "  while len(courses_list) != 9:\n",
        "    courses_list.insert(0,0)\n",
        "    if len(courses_list) > 9:\n",
        "      break\n",
        "\n",
        "\n",
        "  course_dep = pd.DataFrame(courses_list).T\n",
        "  course_dep.columns = ['course_1','course_2','course_3','course_4','course_5','course_6','course_7','course_8','course_9']\n",
        "  #course_dep = course_dep.apply(np.vectorize(MinMaxScaler))\n",
        "\n",
        "  list_oh_join = []\n",
        "\n",
        "  for i in range(len(course_sample)+1):\n",
        "    list_oh_join.append([i]*10)\n",
        "\n",
        "  data_dep_oh_join = pd.DataFrame(list_oh_join, columns = course_columns)\n",
        "\n",
        "  frames = [course_dep, data_dep_oh_join]\n",
        "\n",
        "  new_data_dep = pd.concat(frames)\n",
        "  new_data_dep = new_data_dep\n",
        "\n",
        "  enc_dep = OneHotEncoder()\n",
        "  oh_dep_data = enc_dep.fit_transform(new_data_dep)\n",
        "  oh_dep_data = oh_dep_data.toarray()\n",
        "  oh_dep_data = pd.DataFrame(oh_dep_data, columns=enc_dep.get_feature_names_out())\n",
        "  oh_dep_data = oh_dep_data.iloc[0:1, :-662]\n",
        "  oh_dep_data.shape[1]\n",
        "\n",
        "\n",
        "  out_model = gan.predict(oh_dep_data)\n",
        "\n",
        "  out_df = pd.DataFrame(out_model, columns = [i for i in range(len(course_sample)+1)])\n",
        "\n",
        "  out_top5 = pd.DataFrame(out_df.apply(lambda x: x.nlargest(5).index.tolist(), axis=1).tolist(), columns=['1','2','3','4','5'])\n",
        "\n",
        "  output = list(out_top5.iloc[0])\n",
        "\n",
        "  output1 = course_decode[output[0]]\n",
        "  output2 = course_decode[output[1]]\n",
        "  output3 = course_decode[output[2]]\n",
        "  output4 = course_decode[output[3]]\n",
        "  output5 = course_decode[output[4]]\n",
        "\n",
        "  out_id = [output1,output2,output3,output4,output5]\n",
        "\n",
        "  name1 = data_sample_df_id_name['name'][data_sample_df_id_name['id'] == output1].values[0]\n",
        "  name2 = data_sample_df_id_name['name'][data_sample_df_id_name['id'] == output2].values[0]\n",
        "  name3 = data_sample_df_id_name['name'][data_sample_df_id_name['id'] == output3].values[0]\n",
        "  name4 = data_sample_df_id_name['name'][data_sample_df_id_name['id'] == output4].values[0]\n",
        "  name5 = data_sample_df_id_name['name'][data_sample_df_id_name['id'] == output5].values[0]\n",
        "\n",
        "  name1 = GoogleTranslator(source='auto', target='en').translate(name1)\n",
        "  name2 = GoogleTranslator(source='auto', target='en').translate(name2)\n",
        "  name3 = GoogleTranslator(source='auto', target='en').translate(name3)\n",
        "  name4 = GoogleTranslator(source='auto', target='en').translate(name4)\n",
        "  name5 = GoogleTranslator(source='auto', target='en').translate(name5)\n",
        "\n",
        "  out_name = [name1,name2,name3,name4,name5]\n",
        "\n",
        "  teacher1 = dict_lookup_course_teacher[output1][2:]\n",
        "  teacher2 = dict_lookup_course_teacher[output2][2:]\n",
        "  teacher3 = dict_lookup_course_teacher[output3][2:]\n",
        "  teacher4 = dict_lookup_course_teacher[output4][2:]\n",
        "  teacher5 = dict_lookup_course_teacher[output5][2:]\n",
        "\n",
        "  teacher1 = GoogleTranslator(source='auto', target='en').translate(teacher1)\n",
        "  teacher2 = GoogleTranslator(source='auto', target='en').translate(teacher2)\n",
        "  teacher3 = GoogleTranslator(source='auto', target='en').translate(teacher3)\n",
        "  teacher4 = GoogleTranslator(source='auto', target='en').translate(teacher4)\n",
        "  teacher5 = GoogleTranslator(source='auto', target='en').translate(teacher5)\n",
        "\n",
        "  out_teacher = [teacher1,teacher2,teacher3,teacher4,teacher5]\n",
        "\n",
        "  school1 = dict_lookup_course_school[output1][2:]\n",
        "  school2 = dict_lookup_course_school[output2][2:]\n",
        "  school3 = dict_lookup_course_school[output3][2:]\n",
        "  school4 = dict_lookup_course_school[output4][2:]\n",
        "  school5 = dict_lookup_course_school[output5][2:]\n",
        "\n",
        "  out_school = [school1,school2,school3,school4,school5]\n",
        "\n",
        "  return out_id, out_name, out_teacher, out_school\n",
        "\n",
        "\n",
        "@anvil.server.callable\n",
        "def mdgan_model(course_1, course_2, course_3, course_4, course_5, course_6, course_7, course_8, course_9):\n",
        "  courses = [course_1, course_2, course_3, course_4, course_5, course_6, course_7, course_8, course_9]\n",
        "  courses = [i for i in courses if i is not None]\n",
        "\n",
        "  courses_list = []\n",
        "  for i in courses:\n",
        "    courses_list.append(course_encode[i])\n",
        "\n",
        "  while len(courses_list) != 9:\n",
        "    courses_list.insert(0,0)\n",
        "    if len(courses_list) > 9:\n",
        "      break\n",
        "\n",
        "\n",
        "  course_dep = pd.DataFrame(courses_list).T\n",
        "  course_dep.columns = ['course_1','course_2','course_3','course_4','course_5','course_6','course_7','course_8','course_9']\n",
        "\n",
        "  list_oh_join = []\n",
        "\n",
        "  for i in range(len(course_sample)+1):\n",
        "    list_oh_join.append([i]*10)\n",
        "\n",
        "  data_dep_oh_join = pd.DataFrame(list_oh_join, columns = course_columns)\n",
        "\n",
        "  frames = [course_dep, data_dep_oh_join]\n",
        "\n",
        "  new_data_dep = pd.concat(frames)\n",
        "  new_data_dep = new_data_dep\n",
        "\n",
        "  enc_dep = OneHotEncoder()\n",
        "  oh_dep_data = enc_dep.fit_transform(new_data_dep)\n",
        "  oh_dep_data = oh_dep_data.toarray()\n",
        "  oh_dep_data = pd.DataFrame(oh_dep_data, columns=enc_dep.get_feature_names_out())\n",
        "  oh_dep_data = oh_dep_data.iloc[0:1, :-662]\n",
        "  oh_dep_data.shape[1]\n",
        "\n",
        "\n",
        "  out_model = mdgan.predict(oh_dep_data)\n",
        "\n",
        "  out_df = pd.DataFrame(out_model, columns = [i for i in range(len(course_sample)+1)])\n",
        "\n",
        "  out_top5 = pd.DataFrame(out_df.apply(lambda x: x.nlargest(5).index.tolist(), axis=1).tolist(), columns=['1','2','3','4','5'])\n",
        "\n",
        "  output = list(out_top5.iloc[0])\n",
        "\n",
        "  output1 = course_decode[output[0]]\n",
        "  output2 = course_decode[output[1]]\n",
        "  output3 = course_decode[output[2]]\n",
        "  output4 = course_decode[output[3]]\n",
        "  output5 = course_decode[output[4]]\n",
        "\n",
        "  out_id = [output1,output2,output3,output4,output5]\n",
        "\n",
        "  name1 = data_sample_df_id_name['name'][data_sample_df_id_name['id'] == output1].values[0]\n",
        "  name2 = data_sample_df_id_name['name'][data_sample_df_id_name['id'] == output2].values[0]\n",
        "  name3 = data_sample_df_id_name['name'][data_sample_df_id_name['id'] == output3].values[0]\n",
        "  name4 = data_sample_df_id_name['name'][data_sample_df_id_name['id'] == output4].values[0]\n",
        "  name5 = data_sample_df_id_name['name'][data_sample_df_id_name['id'] == output5].values[0]\n",
        "\n",
        "  name1 = GoogleTranslator(source='auto', target='en').translate(name1)\n",
        "  name2 = GoogleTranslator(source='auto', target='en').translate(name2)\n",
        "  name3 = GoogleTranslator(source='auto', target='en').translate(name3)\n",
        "  name4 = GoogleTranslator(source='auto', target='en').translate(name4)\n",
        "  name5 = GoogleTranslator(source='auto', target='en').translate(name5)\n",
        "\n",
        "  out_name = [name1,name2,name3,name4,name5]\n",
        "\n",
        "  teacher1 = dict_lookup_course_teacher[output1][2:]\n",
        "  teacher2 = dict_lookup_course_teacher[output2][2:]\n",
        "  teacher3 = dict_lookup_course_teacher[output3][2:]\n",
        "  teacher4 = dict_lookup_course_teacher[output4][2:]\n",
        "  teacher5 = dict_lookup_course_teacher[output5][2:]\n",
        "\n",
        "  teacher1 = GoogleTranslator(source='auto', target='en').translate(teacher1)\n",
        "  teacher2 = GoogleTranslator(source='auto', target='en').translate(teacher2)\n",
        "  teacher3 = GoogleTranslator(source='auto', target='en').translate(teacher3)\n",
        "  teacher4 = GoogleTranslator(source='auto', target='en').translate(teacher4)\n",
        "  teacher5 = GoogleTranslator(source='auto', target='en').translate(teacher5)\n",
        "\n",
        "  out_teacher = [teacher1,teacher2,teacher3,teacher4,teacher5]\n",
        "\n",
        "  school1 = dict_lookup_course_school[output1][2:]\n",
        "  school2 = dict_lookup_course_school[output2][2:]\n",
        "  school3 = dict_lookup_course_school[output3][2:]\n",
        "  school4 = dict_lookup_course_school[output4][2:]\n",
        "  school5 = dict_lookup_course_school[output5][2:]\n",
        "\n",
        "  out_school = [school1,school2,school3,school4,school5]\n",
        "\n",
        "  return out_id, out_name, out_teacher, out_school\n",
        "\n",
        "@anvil.server.callable\n",
        "def cb_model(course_1, course_2, course_3, course_4, course_5, course_6, course_7, course_8, course_9):\n",
        "  courses = [course_1, course_2, course_3, course_4, course_5, course_6, course_7, course_8, course_9]\n",
        "  courses = [i for i in courses if i is not None]\n",
        "\n",
        "  courses_list = []\n",
        "  for i in courses:\n",
        "    courses_list.append(course_encode[i])\n",
        "\n",
        "  while len(courses_list) != 9:\n",
        "    courses_list.insert(0,0)\n",
        "    if len(courses_list) > 9:\n",
        "      break\n",
        "\n",
        "  output = list(content_recommender(courses_list[-1]))\n",
        "\n",
        "  out = []\n",
        "  for i in output:\n",
        "    out.append(course_decode[i])\n",
        "\n",
        "  out_id = [out[0],out[1],out[2],out[3],out[4]]\n",
        "\n",
        "  name1 = data_sample_df_id_name['name'][data_sample_df_id_name['id'] == out[0]].values[0]\n",
        "  name2 = data_sample_df_id_name['name'][data_sample_df_id_name['id'] == out[1]].values[0]\n",
        "  name3 = data_sample_df_id_name['name'][data_sample_df_id_name['id'] == out[2]].values[0]\n",
        "  name4 = data_sample_df_id_name['name'][data_sample_df_id_name['id'] == out[3]].values[0]\n",
        "  name5 = data_sample_df_id_name['name'][data_sample_df_id_name['id'] == out[4]].values[0]\n",
        "\n",
        "  name1 = GoogleTranslator(source='auto', target='en').translate(name1)\n",
        "  name2 = GoogleTranslator(source='auto', target='en').translate(name2)\n",
        "  name3 = GoogleTranslator(source='auto', target='en').translate(name3)\n",
        "  name4 = GoogleTranslator(source='auto', target='en').translate(name4)\n",
        "  name5 = GoogleTranslator(source='auto', target='en').translate(name5)\n",
        "\n",
        "  out_name = [name1,name2,name3,name4,name5]\n",
        "\n",
        "  teacher1 = dict_lookup_course_teacher[out[0]][2:]\n",
        "  teacher2 = dict_lookup_course_teacher[out[1]][2:]\n",
        "  teacher3 = dict_lookup_course_teacher[out[2]][2:]\n",
        "  teacher4 = dict_lookup_course_teacher[out[3]][2:]\n",
        "  teacher5 = dict_lookup_course_teacher[out[4]][2:]\n",
        "\n",
        "  teacher1 = GoogleTranslator(source='auto', target='en').translate(teacher1)\n",
        "  teacher2 = GoogleTranslator(source='auto', target='en').translate(teacher2)\n",
        "  teacher3 = GoogleTranslator(source='auto', target='en').translate(teacher3)\n",
        "  teacher4 = GoogleTranslator(source='auto', target='en').translate(teacher4)\n",
        "  teacher5 = GoogleTranslator(source='auto', target='en').translate(teacher5)\n",
        "\n",
        "  out_teacher = [teacher1,teacher2,teacher3,teacher4,teacher5]\n",
        "\n",
        "  school1 = dict_lookup_course_school[out[0]][2:]\n",
        "  school2 = dict_lookup_course_school[out[1]][2:]\n",
        "  school3 = dict_lookup_course_school[out[2]][2:]\n",
        "  school4 = dict_lookup_course_school[out[3]][2:]\n",
        "  school5 = dict_lookup_course_school[out[4]][2:]\n",
        "\n",
        "  out_school = [school1,school2,school3,school4,school5]\n",
        "\n",
        "  return out_id, out_name, out_teacher, out_school\n",
        "\n",
        "@anvil.server.callable\n",
        "def cf_model(course_1, course_2, course_3, course_4, course_5, course_6, course_7, course_8, course_9):\n",
        "  courses = [course_1, course_2, course_3, course_4, course_5, course_6, course_7, course_8, course_9]\n",
        "  courses = [i for i in courses if i is not None]\n",
        "\n",
        "  courses_list = []\n",
        "  for i in courses:\n",
        "    courses_list.append(course_encode[i])\n",
        "\n",
        "  while len(courses_list) != 9:\n",
        "    courses_list.insert(0,0)\n",
        "    if len(courses_list) > 9:\n",
        "      break\n",
        "\n",
        "  output = list(Recommender(courses_list[-1]))\n",
        "\n",
        "  out = []\n",
        "  for i in output:\n",
        "    out.append(course_decode[i])\n",
        "\n",
        "  out_id = [out[0],out[1],out[2],out[3],out[4]]\n",
        "\n",
        "  name1 = data_sample_df_id_name['name'][data_sample_df_id_name['id'] == out[0]].values[0]\n",
        "  name2 = data_sample_df_id_name['name'][data_sample_df_id_name['id'] == out[1]].values[0]\n",
        "  name3 = data_sample_df_id_name['name'][data_sample_df_id_name['id'] == out[2]].values[0]\n",
        "  name4 = data_sample_df_id_name['name'][data_sample_df_id_name['id'] == out[3]].values[0]\n",
        "  name5 = data_sample_df_id_name['name'][data_sample_df_id_name['id'] == out[4]].values[0]\n",
        "\n",
        "  name1 = GoogleTranslator(source='auto', target='en').translate(name1)\n",
        "  name2 = GoogleTranslator(source='auto', target='en').translate(name2)\n",
        "  name3 = GoogleTranslator(source='auto', target='en').translate(name3)\n",
        "  name4 = GoogleTranslator(source='auto', target='en').translate(name4)\n",
        "  name5 = GoogleTranslator(source='auto', target='en').translate(name5)\n",
        "\n",
        "  out_name = [name1,name2,name3,name4,name5]\n",
        "\n",
        "  teacher1 = dict_lookup_course_teacher[out[0]][2:]\n",
        "  teacher2 = dict_lookup_course_teacher[out[1]][2:]\n",
        "  teacher3 = dict_lookup_course_teacher[out[2]][2:]\n",
        "  teacher4 = dict_lookup_course_teacher[out[3]][2:]\n",
        "  teacher5 = dict_lookup_course_teacher[out[4]][2:]\n",
        "\n",
        "  teacher1 = GoogleTranslator(source='auto', target='en').translate(teacher1)\n",
        "  teacher2 = GoogleTranslator(source='auto', target='en').translate(teacher2)\n",
        "  teacher3 = GoogleTranslator(source='auto', target='en').translate(teacher3)\n",
        "  teacher4 = GoogleTranslator(source='auto', target='en').translate(teacher4)\n",
        "  teacher5 = GoogleTranslator(source='auto', target='en').translate(teacher5)\n",
        "\n",
        "  out_teacher = [teacher1,teacher2,teacher3,teacher4,teacher5]\n",
        "\n",
        "  school1 = dict_lookup_course_school[out[0]][2:]\n",
        "  school2 = dict_lookup_course_school[out[1]][2:]\n",
        "  school3 = dict_lookup_course_school[out[2]][2:]\n",
        "  school4 = dict_lookup_course_school[out[3]][2:]\n",
        "  school5 = dict_lookup_course_school[out[4]][2:]\n",
        "\n",
        "  out_school = [school1,school2,school3,school4,school5]\n",
        "\n",
        "  return out_id, out_name, out_teacher, out_school"
      ]
    },
    {
      "cell_type": "code",
      "execution_count": null,
      "metadata": {
        "colab": {
          "background_save": true,
          "base_uri": "https://localhost:8080/"
        },
        "id": "B4EQ_eYZI5TH",
        "outputId": "b368439f-83c0-44b1-9910-4cbff63d41f4"
      },
      "outputs": [
        {
          "name": "stdout",
          "output_type": "stream",
          "text": [
            "1/1 [==============================] - 0s 74ms/step\n",
            "1/1 [==============================] - 0s 96ms/step\n",
            "1/1 [==============================] - 0s 120ms/step\n"
          ]
        },
        {
          "name": "stderr",
          "output_type": "stream",
          "text": [
            "WARNING:tensorflow:5 out of the last 61 calls to <function Model.make_predict_function.<locals>.predict_function at 0x7cc0a9b3ca60> triggered tf.function retracing. Tracing is expensive and the excessive number of tracings could be due to (1) creating @tf.function repeatedly in a loop, (2) passing tensors with different shapes, (3) passing Python objects instead of tensors. For (1), please define your @tf.function outside of the loop. For (2), @tf.function has reduce_retracing=True option that can avoid unnecessary retracing. For (3), please refer to https://www.tensorflow.org/guide/function#controlling_retracing and https://www.tensorflow.org/api_docs/python/tf/function for  more details.\n"
          ]
        },
        {
          "name": "stdout",
          "output_type": "stream",
          "text": [
            "1/1 [==============================] - 0s 133ms/step\n"
          ]
        },
        {
          "name": "stderr",
          "output_type": "stream",
          "text": [
            "WARNING:tensorflow:6 out of the last 62 calls to <function Model.make_predict_function.<locals>.predict_function at 0x7cc0a9b3d7e0> triggered tf.function retracing. Tracing is expensive and the excessive number of tracings could be due to (1) creating @tf.function repeatedly in a loop, (2) passing tensors with different shapes, (3) passing Python objects instead of tensors. For (1), please define your @tf.function outside of the loop. For (2), @tf.function has reduce_retracing=True option that can avoid unnecessary retracing. For (3), please refer to https://www.tensorflow.org/guide/function#controlling_retracing and https://www.tensorflow.org/api_docs/python/tf/function for  more details.\n"
          ]
        },
        {
          "name": "stdout",
          "output_type": "stream",
          "text": [
            "1/1 [==============================] - 0s 114ms/step\n",
            "1/1 [==============================] - 0s 105ms/step\n",
            "1/1 [==============================] - 0s 23ms/step\n",
            "1/1 [==============================] - 0s 74ms/step\n",
            "1/1 [==============================] - 0s 72ms/step\n",
            "1/1 [==============================] - 0s 76ms/step\n",
            "1/1 [==============================] - 0s 74ms/step\n",
            "1/1 [==============================] - 0s 73ms/step\n",
            "1/1 [==============================] - 0s 108ms/step\n"
          ]
        }
      ],
      "source": [
        "anvil.server.wait_forever()"
      ]
    },
    {
      "cell_type": "code",
      "execution_count": null,
      "metadata": {
        "id": "bf1BCb2ASnBD"
      },
      "outputs": [],
      "source": []
    }
  ],
  "metadata": {
    "colab": {
      "provenance": []
    },
    "kernelspec": {
      "display_name": "Python 3",
      "name": "python3"
    },
    "language_info": {
      "name": "python"
    }
  },
  "nbformat": 4,
  "nbformat_minor": 0
}